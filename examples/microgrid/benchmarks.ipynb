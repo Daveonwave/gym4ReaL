{
 "cells": [
  {
   "cell_type": "markdown",
   "id": "c2551241",
   "metadata": {},
   "source": [
    "# Benchmarks for Microgrid environment\n",
    "\n",
    "The notebook provides testing and comparison between deterministic policies and a pretrained RL agent strategies among the `MicroGridEnv` environment."
   ]
  },
  {
   "cell_type": "code",
   "execution_count": 1,
   "id": "756ffdd3",
   "metadata": {},
   "outputs": [
    {
     "name": "stdout",
     "output_type": "stream",
     "text": [
      "/Users/dave/Library/CloudStorage/OneDrive-PolitecnicodiMilano/PhD/Repositories/gym4ReaL\n"
     ]
    }
   ],
   "source": [
    "%load_ext autoreload\n",
    "%autoreload 2\n",
    "%matplotlib inline\n",
    "%cd ../.."
   ]
  },
  {
   "cell_type": "code",
   "execution_count": 2,
   "id": "2f82ead8",
   "metadata": {},
   "outputs": [],
   "source": [
    "import matplotlib.pyplot as plt\n",
    "import seaborn as sns\n",
    "import numpy as np\n",
    "from datetime import datetime\n",
    "from tqdm import tqdm\n",
    "from collections import OrderedDict, defaultdict\n",
    "from gymnasium.utils.env_checker import check_env\n",
    "import gymnasium as gym\n",
    "import sbx\n",
    "\n",
    "from gym4real.envs.microgrid.utils import parameter_generator"
   ]
  },
  {
   "cell_type": "code",
   "execution_count": 3,
   "id": "4f59cf43",
   "metadata": {},
   "outputs": [],
   "source": [
    "sns.set_theme()\n",
    "sns.set_style('whitegrid')\n",
    "sns.set_context(\"paper\")\n",
    "plot_colors = sns.color_palette('colorblind')\n",
    "sns.set(font_scale=1.2)\n",
    "\n",
    "alg_color = OrderedDict({\n",
    "    'random': plot_colors[1],\n",
    "    'battery_first': plot_colors[2],\n",
    "    'only_market': plot_colors[3],\n",
    "    'q-learning': plot_colors[0],\n",
    "    'sarsa': plot_colors[4],\n",
    "    'dqn': plot_colors[5],\n",
    "    'ppo': plot_colors[6],\n",
    "    '50-50': plot_colors[7],\n",
    "    'best': plot_colors[8],\n",
    "    'final': plot_colors[9]\n",
    "})\n",
    "\n",
    "alg_markers = OrderedDict({\n",
    "    'random': '.',\n",
    "    'longest_first': 'o',\n",
    "    'shortest_first': 's',\n",
    "    'q-learning': 's',\n",
    "    'sarsa': 's',\n",
    "})\n",
    "\n",
    "alg_labels = {\n",
    "    'random': 'Random',\n",
    "    'battery_first': 'BF',\n",
    "    'only_market': 'OM',\n",
    "    'q-learning': 'Q-Learning',\n",
    "    'sarsa': 'SARSA',\n",
    "    'dqn': 'DQN',\n",
    "    'ppo': 'PPO',\n",
    "    '50-50': '50-50',\n",
    "    'best': 'PPO-best',\n",
    "    'final': 'PPO-final',\n",
    "}"
   ]
  },
  {
   "cell_type": "code",
   "execution_count": 4,
   "id": "ed53fe83-9efd-422a-bd60-41b7633afe59",
   "metadata": {},
   "outputs": [],
   "source": [
    "# IF RESULTS ARE ALREADY AVAILABLE, GO TO LAST CELLS TO LOAD THEM FROM JSON FILE AND DIRECTLY PLOT THEM!!"
   ]
  },
  {
   "cell_type": "markdown",
   "id": "733076f5",
   "metadata": {},
   "source": [
    "## Deterministic policies\n",
    "Here we can evaluate different rule-based and deterministic policies.\n",
    "Hereafter we will test:\n",
    "1. random action policy\n",
    "2. market-only policy\n",
    "3. battery-first policy\n",
    "5. 50/50 policy"
   ]
  },
  {
   "cell_type": "code",
   "execution_count": 5,
   "id": "2fa19f7f-ab98-4c23-8c84-446891c3ca61",
   "metadata": {},
   "outputs": [
    {
     "name": "stderr",
     "output_type": "stream",
     "text": [
      "/Users/dave/miniconda3/envs/gym4real/lib/python3.12/site-packages/gymnasium/spaces/box.py:235: UserWarning: \u001b[33mWARN: Box low's precision lowered by casting to float32, current low.dtype=float64\u001b[0m\n",
      "  gym.logger.warn(\n",
      "/Users/dave/miniconda3/envs/gym4real/lib/python3.12/site-packages/gymnasium/spaces/box.py:305: UserWarning: \u001b[33mWARN: Box high's precision lowered by casting to float32, current high.dtype=float64\u001b[0m\n",
      "  gym.logger.warn(\n"
     ]
    }
   ],
   "source": [
    "params = parameter_generator(world_options='gym4real/envs/microgrid/world_test.yaml')\n",
    "env = gym.make(id=\"gym4real/microgrid-v0\", **{'settings':params})"
   ]
  },
  {
   "cell_type": "code",
   "execution_count": 6,
   "id": "33b1615b",
   "metadata": {},
   "outputs": [],
   "source": [
    "# Test profiles belonging to the test set\n",
    "test_profiles = [i for i in range(370, 398)]\n",
    "rewards = defaultdict(dict)"
   ]
  },
  {
   "cell_type": "markdown",
   "id": "fe3c54d0",
   "metadata": {},
   "source": [
    "<h3> Random Policy: </h3>\n",
    "The action is chosen randomly at each decision step."
   ]
  },
  {
   "cell_type": "code",
   "execution_count": 7,
   "id": "0e3e6651",
   "metadata": {
    "scrolled": true
   },
   "outputs": [
    {
     "name": "stderr",
     "output_type": "stream",
     "text": [
      "100%|██████████████████████████████████████████████████████████████████████████████████████████████████████████████████████████████████████████████████████████████████████████████████████████████████████| 28/28 [01:23<00:00,  2.98s/it]\n"
     ]
    }
   ],
   "source": [
    "alg = 'random'\n",
    "rewards[alg] = {}\n",
    "\n",
    "for profile in tqdm(test_profiles):\n",
    "    obs, info = env.reset(options={'eval_profile': str(profile)})\n",
    "    done = False\n",
    "    rewards[alg][profile] = {}\n",
    "    rewards[alg][profile]['pure'] = []\n",
    "\n",
    "    while not done:\n",
    "        action = env.action_space.sample()  # Randomly select an action\n",
    "        obs, reward, terminated, truncated, info = env.step(action)  \n",
    "        done = terminated or truncated\n",
    "        rewards[alg][profile]['pure'].append(list(info['pure_rewards'].values()))"
   ]
  },
  {
   "cell_type": "markdown",
   "id": "abebbc2c",
   "metadata": {},
   "source": [
    "<h3> Only Market Policy: </h3>\n",
    "The action chosen is always 0, meaning that the battery is never used."
   ]
  },
  {
   "cell_type": "code",
   "execution_count": 8,
   "id": "ab672d07",
   "metadata": {},
   "outputs": [
    {
     "name": "stderr",
     "output_type": "stream",
     "text": [
      "100%|███████████████████████████████████████████████████████████████████████████████████████████████████████████████████████████████████████████████████████████████████████████████████████████████████████████████████| 28/28 [00:56<00:00,  2.03s/it]\n"
     ]
    }
   ],
   "source": [
    "alg = 'only_market'\n",
    "rewards[alg] = {}\n",
    "\n",
    "for profile in tqdm(test_profiles):\n",
    "    obs, info = env.reset(options={'eval_profile': str(profile)})\n",
    "    done = False\n",
    "    rewards[alg][profile] = {}\n",
    "    rewards[alg][profile]['pure'] = []\n",
    "\n",
    "    while not done:\n",
    "        action = np.array([0]) # Only trading with market\n",
    "        obs, reward, terminated, truncated, info = env.step(action)  \n",
    "        done = terminated or truncated\n",
    "        rewards[alg][profile]['pure'].append(list(info['pure_rewards'].values()))"
   ]
  },
  {
   "cell_type": "markdown",
   "id": "85f24d08",
   "metadata": {},
   "source": [
    "<h3> Battery First Policy: </h3>\n",
    "The action chosen is always 1, meaning that the battery is always used before interacting with the market."
   ]
  },
  {
   "cell_type": "code",
   "execution_count": 9,
   "id": "9c1a8ff2",
   "metadata": {},
   "outputs": [
    {
     "name": "stderr",
     "output_type": "stream",
     "text": [
      "100%|███████████████████████████████████████████████████████████████████████████████████████████████████████████████████████████████████████████████████████████████████████████████████████████████████████████████████| 28/28 [01:16<00:00,  2.73s/it]\n"
     ]
    }
   ],
   "source": [
    "alg = 'battery_first'\n",
    "rewards[alg] = {}\n",
    "\n",
    "for profile in tqdm(test_profiles):\n",
    "    obs, info = env.reset(options={'eval_profile': str(profile)})\n",
    "    done = False\n",
    "    rewards[alg][profile] = {}\n",
    "    rewards[alg][profile]['pure'] = []\n",
    "\n",
    "    while not done:\n",
    "        action = np.array([1])  # Use the battery as much as possible \n",
    "        obs, reward, terminated, truncated, info = env.step(action)  \n",
    "        done = terminated or truncated\n",
    "        rewards[alg][profile]['pure'].append(list(info['pure_rewards'].values()))"
   ]
  },
  {
   "cell_type": "markdown",
   "id": "4d4cf9a6",
   "metadata": {},
   "source": [
    "<h3> 50-50 Policy: </h3>\n",
    "The action chosen is always 0.5, meaning that the battery is never used."
   ]
  },
  {
   "cell_type": "code",
   "execution_count": 10,
   "id": "670df112",
   "metadata": {},
   "outputs": [
    {
     "name": "stderr",
     "output_type": "stream",
     "text": [
      "100%|███████████████████████████████████████████████████████████████████████████████████████████████████████████████████████████████████████████████████████████████████████████████████████████████████████████████████| 28/28 [01:18<00:00,  2.80s/it]\n"
     ]
    }
   ],
   "source": [
    "alg = '50-50'\n",
    "rewards[alg] = {}\n",
    "\n",
    "for profile in tqdm(test_profiles):\n",
    "    obs, info = env.reset(options={'eval_profile': str(profile)})\n",
    "    done = False\n",
    "    rewards[alg][profile] = {}\n",
    "    rewards[alg][profile]['pure'] = []\n",
    "\n",
    "    while not done:\n",
    "        action = np.array([0.5])  # Use the battery at 50%\n",
    "        obs, reward, terminated, truncated, info = env.step(action)  \n",
    "        done = terminated or truncated\n",
    "        rewards[alg][profile]['pure'].append(list(info['pure_rewards'].values()))"
   ]
  },
  {
   "cell_type": "markdown",
   "id": "2cab00ac",
   "metadata": {},
   "source": [
    "### PPO agent\n",
    "Here we load the previously created model `PPO_trained`."
   ]
  },
  {
   "cell_type": "code",
   "execution_count": 11,
   "id": "3a2961f1",
   "metadata": {
    "scrolled": true
   },
   "outputs": [],
   "source": [
    "# Uncomment the following line to install stable-baselines3\n",
    "#!pip install stable-baselines3"
   ]
  },
  {
   "cell_type": "code",
   "execution_count": 12,
   "id": "1a1a882f",
   "metadata": {},
   "outputs": [],
   "source": [
    "from stable_baselines3 import PPO\n",
    "from stable_baselines3.ppo import MlpPolicy\n",
    "from stable_baselines3.common.env_util import make_vec_env"
   ]
  },
  {
   "cell_type": "code",
   "execution_count": 13,
   "id": "a4d1271c-39b9-4dc9-bfe0-1c19afdabaf8",
   "metadata": {},
   "outputs": [
    {
     "name": "stderr",
     "output_type": "stream",
     "text": [
      "/Users/dave/miniconda3/envs/gym4real/lib/python3.12/site-packages/gymnasium/envs/registration.py:736: UserWarning: \u001b[33mWARN: The environment is being initialised with render_mode='rgb_array' that is not in the possible render_modes ([]).\u001b[0m\n",
      "  logger.warn(\n",
      "/Users/dave/miniconda3/envs/gym4real/lib/python3.12/site-packages/gymnasium/spaces/box.py:235: UserWarning: \u001b[33mWARN: Box low's precision lowered by casting to float32, current low.dtype=float64\u001b[0m\n",
      "  gym.logger.warn(\n",
      "/Users/dave/miniconda3/envs/gym4real/lib/python3.12/site-packages/gymnasium/spaces/box.py:305: UserWarning: \u001b[33mWARN: Box high's precision lowered by casting to float32, current high.dtype=float64\u001b[0m\n",
      "  gym.logger.warn(\n"
     ]
    },
    {
     "name": "stdout",
     "output_type": "stream",
     "text": [
      "Using cpu device\n"
     ]
    },
    {
     "name": "stderr",
     "output_type": "stream",
     "text": [
      "100%|███████████████████████████████████████████████████████████████████████████████████████████████████████████████████████████████████████████████████████████████████████████████████████████████████████████████████| 28/28 [01:46<00:00,  3.81s/it]\n"
     ]
    }
   ],
   "source": [
    "env = make_vec_env(\"gym4real/microgrid-v0\", n_envs=1, env_kwargs={'settings':params})\n",
    "\n",
    "alg = 'ppo'\n",
    "rewards[alg] = {}\n",
    "\n",
    "model = PPO(MlpPolicy, env, verbose=1)\n",
    "vec_env = model.get_env()\n",
    "model = PPO.load(\"examples/microgrid/trained_models/PPO_trained\")\n",
    "\n",
    "for profile in tqdm(test_profiles):\n",
    "    vec_env.set_options({'eval_profile': str(profile)})\n",
    "    obs = vec_env.reset()\n",
    "\n",
    "    cumulated_reward = 0\n",
    "    rewards[alg][profile] = {}\n",
    "    rewards[alg][profile]['pure'] = []\n",
    "    done = False\n",
    "    \n",
    "    while not done:\n",
    "        action, _states = model.predict(obs)\n",
    "        obs, r, dones, info = vec_env.step(action)\n",
    "        done = dones[0]\n",
    "        rewards[alg][profile]['pure'].append(list(info[0]['pure_rewards'].values()))"
   ]
  },
  {
   "cell_type": "code",
   "execution_count": 17,
   "id": "c671ccfe-6e6c-4a0c-88ca-fc0c2e41f852",
   "metadata": {},
   "outputs": [
    {
     "name": "stderr",
     "output_type": "stream",
     "text": [
      "/Users/dave/miniconda3/envs/gym4real/lib/python3.12/site-packages/gymnasium/envs/registration.py:736: UserWarning: \u001b[33mWARN: The environment is being initialised with render_mode='rgb_array' that is not in the possible render_modes ([]).\u001b[0m\n",
      "  logger.warn(\n",
      "/Users/dave/miniconda3/envs/gym4real/lib/python3.12/site-packages/gymnasium/spaces/box.py:235: UserWarning: \u001b[33mWARN: Box low's precision lowered by casting to float32, current low.dtype=float64\u001b[0m\n",
      "  gym.logger.warn(\n",
      "/Users/dave/miniconda3/envs/gym4real/lib/python3.12/site-packages/gymnasium/spaces/box.py:305: UserWarning: \u001b[33mWARN: Box high's precision lowered by casting to float32, current high.dtype=float64\u001b[0m\n",
      "  gym.logger.warn(\n"
     ]
    },
    {
     "ename": "ModuleNotFoundError",
     "evalue": "No module named 'numpy._core.numeric'",
     "output_type": "error",
     "traceback": [
      "\u001b[31m---------------------------------------------------------------------------\u001b[39m",
      "\u001b[31mModuleNotFoundError\u001b[39m                       Traceback (most recent call last)",
      "\u001b[36mCell\u001b[39m\u001b[36m \u001b[39m\u001b[32mIn[17]\u001b[39m\u001b[32m, line 6\u001b[39m\n\u001b[32m      3\u001b[39m alg = \u001b[33m'\u001b[39m\u001b[33mbest\u001b[39m\u001b[33m'\u001b[39m\n\u001b[32m      4\u001b[39m rewards[alg] = {}\n\u001b[32m----> \u001b[39m\u001b[32m6\u001b[39m model = \u001b[43mPPO\u001b[49m\u001b[43m.\u001b[49m\u001b[43mload\u001b[49m\u001b[43m(\u001b[49m\u001b[33;43m\"\u001b[39;49m\u001b[33;43mexamples/microgrid/trained_models/ppo-samu_best\u001b[39;49m\u001b[33;43m\"\u001b[39;49m\u001b[43m,\u001b[49m\u001b[43m \u001b[49m\u001b[43mdevice\u001b[49m\u001b[43m=\u001b[49m\u001b[33;43m'\u001b[39;49m\u001b[33;43mcuda\u001b[39;49m\u001b[33;43m'\u001b[39;49m\u001b[43m)\u001b[49m\n\u001b[32m      8\u001b[39m \u001b[38;5;28;01mfor\u001b[39;00m profile \u001b[38;5;129;01min\u001b[39;00m tqdm(test_profiles):\n\u001b[32m      9\u001b[39m     vec_env.set_options({\u001b[33m'\u001b[39m\u001b[33meval_profile\u001b[39m\u001b[33m'\u001b[39m: \u001b[38;5;28mstr\u001b[39m(profile)})\n",
      "\u001b[36mFile \u001b[39m\u001b[32m~/miniconda3/envs/gym4real/lib/python3.12/site-packages/stable_baselines3/common/base_class.py:682\u001b[39m, in \u001b[36mBaseAlgorithm.load\u001b[39m\u001b[34m(cls, path, env, device, custom_objects, print_system_info, force_reset, **kwargs)\u001b[39m\n\u001b[32m    679\u001b[39m     \u001b[38;5;28mprint\u001b[39m(\u001b[33m\"\u001b[39m\u001b[33m== CURRENT SYSTEM INFO ==\u001b[39m\u001b[33m\"\u001b[39m)\n\u001b[32m    680\u001b[39m     get_system_info()\n\u001b[32m--> \u001b[39m\u001b[32m682\u001b[39m data, params, pytorch_variables = \u001b[43mload_from_zip_file\u001b[49m\u001b[43m(\u001b[49m\n\u001b[32m    683\u001b[39m \u001b[43m    \u001b[49m\u001b[43mpath\u001b[49m\u001b[43m,\u001b[49m\n\u001b[32m    684\u001b[39m \u001b[43m    \u001b[49m\u001b[43mdevice\u001b[49m\u001b[43m=\u001b[49m\u001b[43mdevice\u001b[49m\u001b[43m,\u001b[49m\n\u001b[32m    685\u001b[39m \u001b[43m    \u001b[49m\u001b[43mcustom_objects\u001b[49m\u001b[43m=\u001b[49m\u001b[43mcustom_objects\u001b[49m\u001b[43m,\u001b[49m\n\u001b[32m    686\u001b[39m \u001b[43m    \u001b[49m\u001b[43mprint_system_info\u001b[49m\u001b[43m=\u001b[49m\u001b[43mprint_system_info\u001b[49m\u001b[43m,\u001b[49m\n\u001b[32m    687\u001b[39m \u001b[43m\u001b[49m\u001b[43m)\u001b[49m\n\u001b[32m    689\u001b[39m \u001b[38;5;28;01massert\u001b[39;00m data \u001b[38;5;129;01mis\u001b[39;00m \u001b[38;5;129;01mnot\u001b[39;00m \u001b[38;5;28;01mNone\u001b[39;00m, \u001b[33m\"\u001b[39m\u001b[33mNo data found in the saved file\u001b[39m\u001b[33m\"\u001b[39m\n\u001b[32m    690\u001b[39m \u001b[38;5;28;01massert\u001b[39;00m params \u001b[38;5;129;01mis\u001b[39;00m \u001b[38;5;129;01mnot\u001b[39;00m \u001b[38;5;28;01mNone\u001b[39;00m, \u001b[33m\"\u001b[39m\u001b[33mNo params found in the saved file\u001b[39m\u001b[33m\"\u001b[39m\n",
      "\u001b[36mFile \u001b[39m\u001b[32m~/miniconda3/envs/gym4real/lib/python3.12/site-packages/stable_baselines3/common/save_util.py:434\u001b[39m, in \u001b[36mload_from_zip_file\u001b[39m\u001b[34m(load_path, load_data, custom_objects, device, verbose, print_system_info)\u001b[39m\n\u001b[32m    430\u001b[39m \u001b[38;5;28;01mif\u001b[39;00m \u001b[33m\"\u001b[39m\u001b[33mdata\u001b[39m\u001b[33m\"\u001b[39m \u001b[38;5;129;01min\u001b[39;00m namelist \u001b[38;5;129;01mand\u001b[39;00m load_data:\n\u001b[32m    431\u001b[39m     \u001b[38;5;66;03m# Load class parameters that are stored\u001b[39;00m\n\u001b[32m    432\u001b[39m     \u001b[38;5;66;03m# with either JSON or pickle (not PyTorch variables).\u001b[39;00m\n\u001b[32m    433\u001b[39m     json_data = archive.read(\u001b[33m\"\u001b[39m\u001b[33mdata\u001b[39m\u001b[33m\"\u001b[39m).decode()\n\u001b[32m--> \u001b[39m\u001b[32m434\u001b[39m     data = \u001b[43mjson_to_data\u001b[49m\u001b[43m(\u001b[49m\u001b[43mjson_data\u001b[49m\u001b[43m,\u001b[49m\u001b[43m \u001b[49m\u001b[43mcustom_objects\u001b[49m\u001b[43m=\u001b[49m\u001b[43mcustom_objects\u001b[49m\u001b[43m)\u001b[49m\n\u001b[32m    436\u001b[39m \u001b[38;5;66;03m# Check for all .pth files and load them using th.load.\u001b[39;00m\n\u001b[32m    437\u001b[39m \u001b[38;5;66;03m# \"pytorch_variables.pth\" stores PyTorch variables, and any other .pth\u001b[39;00m\n\u001b[32m    438\u001b[39m \u001b[38;5;66;03m# files store state_dicts of variables with custom names (e.g. policy, policy.optimizer)\u001b[39;00m\n\u001b[32m    439\u001b[39m pth_files = [file_name \u001b[38;5;28;01mfor\u001b[39;00m file_name \u001b[38;5;129;01min\u001b[39;00m namelist \u001b[38;5;28;01mif\u001b[39;00m os.path.splitext(file_name)[\u001b[32m1\u001b[39m] == \u001b[33m\"\u001b[39m\u001b[33m.pth\u001b[39m\u001b[33m\"\u001b[39m]\n",
      "\u001b[36mFile \u001b[39m\u001b[32m~/miniconda3/envs/gym4real/lib/python3.12/site-packages/stable_baselines3/common/save_util.py:165\u001b[39m, in \u001b[36mjson_to_data\u001b[39m\u001b[34m(json_string, custom_objects)\u001b[39m\n\u001b[32m    163\u001b[39m \u001b[38;5;28;01mtry\u001b[39;00m:\n\u001b[32m    164\u001b[39m     base64_object = base64.b64decode(serialization.encode())\n\u001b[32m--> \u001b[39m\u001b[32m165\u001b[39m     deserialized_object = \u001b[43mcloudpickle\u001b[49m\u001b[43m.\u001b[49m\u001b[43mloads\u001b[49m\u001b[43m(\u001b[49m\u001b[43mbase64_object\u001b[49m\u001b[43m)\u001b[49m\n\u001b[32m    166\u001b[39m \u001b[38;5;28;01mexcept\u001b[39;00m (\u001b[38;5;167;01mRuntimeError\u001b[39;00m, \u001b[38;5;167;01mTypeError\u001b[39;00m, \u001b[38;5;167;01mAttributeError\u001b[39;00m) \u001b[38;5;28;01mas\u001b[39;00m e:\n\u001b[32m    167\u001b[39m     warnings.warn(\n\u001b[32m    168\u001b[39m         \u001b[33mf\u001b[39m\u001b[33m\"\u001b[39m\u001b[33mCould not deserialize object \u001b[39m\u001b[38;5;132;01m{\u001b[39;00mdata_key\u001b[38;5;132;01m}\u001b[39;00m\u001b[33m. \u001b[39m\u001b[33m\"\u001b[39m\n\u001b[32m    169\u001b[39m         \u001b[33m\"\u001b[39m\u001b[33mConsider using `custom_objects` argument to replace \u001b[39m\u001b[33m\"\u001b[39m\n\u001b[32m    170\u001b[39m         \u001b[33m\"\u001b[39m\u001b[33mthis object.\u001b[39m\u001b[38;5;130;01m\\n\u001b[39;00m\u001b[33m\"\u001b[39m\n\u001b[32m    171\u001b[39m         \u001b[33mf\u001b[39m\u001b[33m\"\u001b[39m\u001b[33mException: \u001b[39m\u001b[38;5;132;01m{\u001b[39;00me\u001b[38;5;132;01m}\u001b[39;00m\u001b[33m\"\u001b[39m\n\u001b[32m    172\u001b[39m     )\n",
      "\u001b[31mModuleNotFoundError\u001b[39m: No module named 'numpy._core.numeric'"
     ]
    }
   ],
   "source": [
    "vec_env = make_vec_env(\"gym4real/microgrid-v0\", n_envs=1, env_kwargs={'settings':params})\n",
    "\n",
    "alg = 'best'\n",
    "rewards[alg] = {}\n",
    "\n",
    "model = PPO.load(\"examples/microgrid/trained_models/ppo-samu_best\")\n",
    "\n",
    "for profile in tqdm(test_profiles):\n",
    "    vec_env.set_options({'eval_profile': str(profile)})\n",
    "    obs = vec_env.reset()\n",
    "\n",
    "    cumulated_reward = 0\n",
    "    rewards[alg][profile] = {}\n",
    "    rewards[alg][profile]['pure'] = []\n",
    "    done = False\n",
    "    \n",
    "    while not done:\n",
    "        action, _states = model.predict(obs)\n",
    "        obs, r, dones, info = vec_env.step(action)\n",
    "        done = dones[0]\n",
    "        rewards[alg][profile]['pure'].append(list(info[0]['pure_rewards'].values()))"
   ]
  },
  {
   "cell_type": "code",
   "execution_count": 19,
   "id": "dfaf7c70-45f0-4b23-a889-8028531c0b74",
   "metadata": {},
   "outputs": [
    {
     "name": "stderr",
     "output_type": "stream",
     "text": [
      "/Users/dave/miniconda3/envs/gym4real/lib/python3.12/site-packages/gymnasium/envs/registration.py:736: UserWarning: \u001b[33mWARN: The environment is being initialised with render_mode='rgb_array' that is not in the possible render_modes ([]).\u001b[0m\n",
      "  logger.warn(\n",
      "/Users/dave/miniconda3/envs/gym4real/lib/python3.12/site-packages/gymnasium/spaces/box.py:235: UserWarning: \u001b[33mWARN: Box low's precision lowered by casting to float32, current low.dtype=float64\u001b[0m\n",
      "  gym.logger.warn(\n",
      "/Users/dave/miniconda3/envs/gym4real/lib/python3.12/site-packages/gymnasium/spaces/box.py:305: UserWarning: \u001b[33mWARN: Box high's precision lowered by casting to float32, current high.dtype=float64\u001b[0m\n",
      "  gym.logger.warn(\n",
      "100%|███████████████████████████████████████████████████████████████████████████████████████████████████████████████████████████████████████████████████████████████████████████████████████████████████████████████████| 28/28 [01:51<00:00,  3.99s/it]\n"
     ]
    }
   ],
   "source": [
    "vec_env = make_vec_env(\"gym4real/microgrid-v0\", n_envs=1, env_kwargs={'settings':params})\n",
    "\n",
    "alg = 'final'\n",
    "rewards[alg] = {}\n",
    "\n",
    "model = PPO.load(\"examples/microgrid/trained_models/100eps_envs8_NN64-32_gamma099_bs512_nsteps8192_epochs10_gae095_clip02_ent00_vf05_maxgrad05_lr5e-5\")\n",
    "#model = PPO.load(\"examples/microgrid/trained_models/ppo-samu_final\")\n",
    "\n",
    "for profile in tqdm(test_profiles):\n",
    "    vec_env.set_options({'eval_profile': str(profile)})\n",
    "    obs = vec_env.reset()\n",
    "\n",
    "    cumulated_reward = 0\n",
    "    rewards[alg][profile] = {}\n",
    "    rewards[alg][profile]['pure'] = []\n",
    "    done = False\n",
    "    \n",
    "    while not done:\n",
    "        action, _states = model.predict(obs)\n",
    "        obs, r, dones, info = vec_env.step(action)\n",
    "        done = dones[0]\n",
    "        rewards[alg][profile]['pure'].append(list(info[0]['pure_rewards'].values()))"
   ]
  },
  {
   "cell_type": "markdown",
   "id": "706e0a44",
   "metadata": {},
   "source": [
    "## Result analysis\n",
    "Here we compare the average cumulated reward across all the test profiles among the different methods."
   ]
  },
  {
   "cell_type": "code",
   "execution_count": 23,
   "id": "51413190-0a1a-45a3-aefe-403af3cc5ca8",
   "metadata": {},
   "outputs": [
    {
     "data": {
      "text/plain": [
       "<matplotlib.legend.Legend at 0x349ff11c0>"
      ]
     },
     "execution_count": 23,
     "metadata": {},
     "output_type": "execute_result"
    },
    {
     "data": {
      "image/png": "[encoded data removed]",
      "text/plain": [
       "<Figure size 500x350 with 1 Axes>"
      ]
     },
     "metadata": {},
     "output_type": "display_data"
    }
   ],
   "source": [
    "fig, ax = plt.subplots(1, 1, figsize=(5, 3.5), tight_layout=True)\n",
    "\n",
    "for alg in rewards.keys():\n",
    "    if alg != 'random':\n",
    "        cum_rewards = []\n",
    "        for profile in rewards[alg].keys():\n",
    "            cum_rewards.append(np.cumsum([rewards[alg][profile]['pure'][i][0] + rewards[alg][profile]['pure'][i][1] for i in range(len(rewards[alg][profile]['pure']))]))\n",
    "        \n",
    "        means = np.mean(cum_rewards, axis=0)\n",
    "        stds = np.std(cum_rewards, axis=0)\n",
    "        ci = 1.96 * stds/np.sqrt(len(rewards[alg].keys()))\n",
    "        \n",
    "        ax.plot(means, label=alg_labels[alg], color=alg_color[alg])        \n",
    "        ax.fill_between(range(len(means)), means + ci, means - ci, color=alg_color[alg], alpha=0.1)\n",
    "\n",
    "ax.legend()\n",
    "# Set axis labels\n",
    "ax.set_xlabel(\"Time (h)\")\n",
    "ax.set_ylabel(\"Total profit (€)\")\n",
    "\n",
    "# Add legend\n",
    "ax.legend()\n",
    "\n",
    "# Save figure\n",
    "#plt.savefig('plots/microgrid_avg_reward.pdf')"
   ]
  },
  {
   "cell_type": "code",
   "execution_count": 24,
   "id": "5bbf8626-a7fe-4699-9b69-acee15543ee6",
   "metadata": {},
   "outputs": [
    {
     "data": {
      "image/png": "[encoded data removed]",
      "text/plain": [
       "<Figure size 500x350 with 1 Axes>"
      ]
     },
     "metadata": {},
     "output_type": "display_data"
    }
   ],
   "source": [
    "from matplotlib.ticker import ScalarFormatter\n",
    "\n",
    "box_data = {}\n",
    "colors = []\n",
    "\n",
    "for alg in rewards.keys():\n",
    "    box_data[alg_labels[alg]] = []\n",
    "    \n",
    "    for profile in rewards[alg].keys():\n",
    "        total_trad = np.sum([rewards[alg][profile]['pure'][i][0] for i in range(len(rewards[alg][profile]['pure']))])\n",
    "        total_deg = np.sum([rewards[alg][profile]['pure'][i][1] for i in range(len(rewards[alg][profile]['pure']))])\n",
    "        box_data[alg_labels[alg]].append(total_trad + total_deg)\n",
    "\n",
    "    colors.append(alg_color[alg])\n",
    "        \n",
    "fig, ax = plt.subplots(figsize=(5, 3.5), tight_layout=True)\n",
    "box_plot = sns.boxplot(box_data, gap=.1, palette=colors, width=.8)\n",
    "\n",
    "# Label the axes\n",
    "ax.set_ylabel(r\"Return (€)\")\n",
    "\n",
    "# Use scientific notation on y-axis\n",
    "formatter = ScalarFormatter()\n",
    "formatter.set_scientific(True)\n",
    "formatter.set_powerlimits((-2, 3))  # Show scientific notation when appropriate\n",
    "ax.yaxis.set_major_formatter(formatter)\n",
    "\n",
    "plt.tight_layout()\n",
    "#plt.savefig(\"plots/microgrid_boxplot.pdf\")"
   ]
  },
  {
   "cell_type": "code",
   "execution_count": null,
   "id": "c600c1bd-b6a7-4171-ba25-41fe8e84769e",
   "metadata": {},
   "outputs": [],
   "source": []
  }
 ],
 "metadata": {
  "kernelspec": {
   "display_name": "Python (gym4real)",
   "language": "python",
   "name": "gym4real"
  },
  "language_info": {
   "codemirror_mode": {
    "name": "ipython",
    "version": 3
   },
   "file_extension": ".py",
   "mimetype": "text/x-python",
   "name": "python",
   "nbconvert_exporter": "python",
   "pygments_lexer": "ipython3",
   "version": "3.12.9"
  }
 },
 "nbformat": 4,
 "nbformat_minor": 5
}
