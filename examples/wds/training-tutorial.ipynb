{
 "cells": [
  {
   "cell_type": "markdown",
   "id": "c2551241",
   "metadata": {},
   "source": [
    "# Simple DQN agent\n",
    "\n",
    "The notebook provides a quick training of [Deep Q-Network](https://arxiv.org/abs/1312.5602) (DQN) algorithm on the `WaterDistributionSystemEnv` environment."
   ]
  },
  {
   "cell_type": "code",
   "execution_count": 1,
   "id": "756ffdd3",
   "metadata": {},
   "outputs": [
    {
     "name": "stdout",
     "output_type": "stream",
     "text": [
      "/Users/dave/Library/CloudStorage/OneDrive-PolitecnicodiMilano/PhD/Repositories/gym4ReaL\n"
     ]
    }
   ],
   "source": [
    "%load_ext autoreload\n",
    "%autoreload 2\n",
    "%matplotlib inline\n",
    "%cd ../.."
   ]
  },
  {
   "cell_type": "code",
   "execution_count": 2,
   "id": "2f82ead8",
   "metadata": {},
   "outputs": [],
   "source": [
    "import matplotlib.pyplot as plt\n",
    "import seaborn as sns\n",
    "import numpy as np\n",
    "from datetime import datetime\n",
    "from tqdm import tqdm\n",
    "from collections import OrderedDict, defaultdict\n",
    "from gymnasium.utils.env_checker import check_env\n",
    "import gymnasium as gym\n",
    "\n",
    "from gym4real.envs.wds.utils import parameter_generator"
   ]
  },
  {
   "cell_type": "code",
   "execution_count": 3,
   "id": "4f59cf43",
   "metadata": {},
   "outputs": [],
   "source": [
    "sns.set_theme()\n",
    "sns.set_style('whitegrid')\n",
    "sns.set_context(\"paper\")\n",
    "plot_colors = sns.color_palette('colorblind')\n",
    "sns.set(font_scale=1.2)\n",
    "\n",
    "alg_color = OrderedDict({\n",
    "    'random': plot_colors[1],\n",
    "    'dqn': plot_colors[0],\n",
    "})"
   ]
  },
  {
   "cell_type": "markdown",
   "id": "2cab00ac",
   "metadata": {},
   "source": [
    "## DQN Agent\n",
    "We are adopting the Stable-Baselines 3 version of DQN, described [here](https://stable-baselines3.readthedocs.io/en/master/modules/dqn.html).\n",
    "\n",
    "Here we initialize both the environment for training the agent and the environment to evaluate the agent. Indeed, the evaluation is done on an environment which presents different consumption profiles. The evaluation is done on 5 profiles."
   ]
  },
  {
   "cell_type": "code",
   "execution_count": 4,
   "id": "c82a1724",
   "metadata": {},
   "outputs": [],
   "source": [
    "# Uncomment this line to install stable-baselines3\n",
    "#!pip install stable-baselines3"
   ]
  },
  {
   "cell_type": "code",
   "execution_count": 5,
   "id": "1a1a882f",
   "metadata": {},
   "outputs": [],
   "source": [
    "from stable_baselines3 import DQN\n",
    "from stable_baselines3.common.env_util import make_vec_env\n",
    "from gym4real.envs.wds.env import WaterDistributionSystemEnv"
   ]
  },
  {
   "cell_type": "code",
   "execution_count": 6,
   "id": "d0872480-8ac2-418f-9344-ad1d026a8d51",
   "metadata": {},
   "outputs": [],
   "source": [
    "n_episodes = 10\n",
    "n_envs = 1"
   ]
  },
  {
   "cell_type": "code",
   "execution_count": 7,
   "id": "29957736-d732-480d-aab8-a7ff01e14d41",
   "metadata": {},
   "outputs": [
    {
     "name": "stderr",
     "output_type": "stream",
     "text": [
      "/Users/dave/miniconda3/envs/osx-64/lib/python3.12/site-packages/gymnasium/envs/registration.py:734: UserWarning: \u001b[33mWARN: The environment is being initialised with render_mode='rgb_array' that is not in the possible render_modes ([]).\u001b[0m\n",
      "  logger.warn(\n",
      "/Users/dave/miniconda3/envs/osx-64/lib/python3.12/site-packages/gymnasium/spaces/box.py:235: UserWarning: \u001b[33mWARN: Box low's precision lowered by casting to float32, current low.dtype=float64\u001b[0m\n",
      "  gym.logger.warn(\n",
      "/Users/dave/miniconda3/envs/osx-64/lib/python3.12/site-packages/gymnasium/spaces/box.py:305: UserWarning: \u001b[33mWARN: Box high's precision lowered by casting to float32, current high.dtype=float64\u001b[0m\n",
      "  gym.logger.warn(\n"
     ]
    }
   ],
   "source": [
    "params = parameter_generator(hydraulic_step=3600, duration=3600*24*7, seed=42)\n",
    "env = make_vec_env('gym4real/wds-v0', n_envs=n_envs, env_kwargs={'settings':params})"
   ]
  },
  {
   "cell_type": "code",
   "execution_count": 8,
   "id": "8067927f-a337-440b-894b-ed9f4182d986",
   "metadata": {
    "scrolled": true
   },
   "outputs": [
    {
     "data": {
      "application/vnd.jupyter.widget-view+json": {
       "model_id": "14d4b80e261c43b4bad78d77647b4267",
       "version_major": 2,
       "version_minor": 0
      },
      "text/plain": [
       "Output()"
      ]
     },
     "metadata": {},
     "output_type": "display_data"
    },
    {
     "name": "stdout",
     "output_type": "stream",
     "text": [
      "Resetting the environment...\n"
     ]
    },
    {
     "data": {
      "text/html": [
       "<pre style=\"white-space:pre;overflow-x:auto;line-height:normal;font-family:Menlo,'DejaVu Sans Mono',consolas,'Courier New',monospace\">Resetting the environment...\n",
       "</pre>\n"
      ],
      "text/plain": [
       "Resetting the environment...\n"
      ]
     },
     "metadata": {},
     "output_type": "display_data"
    },
    {
     "data": {
      "text/html": [
       "<pre style=\"white-space:pre;overflow-x:auto;line-height:normal;font-family:Menlo,'DejaVu Sans Mono',consolas,'Courier New',monospace\">Resetting the environment...\n",
       "</pre>\n"
      ],
      "text/plain": [
       "Resetting the environment...\n"
      ]
     },
     "metadata": {},
     "output_type": "display_data"
    },
    {
     "data": {
      "text/html": [
       "<pre style=\"white-space:pre;overflow-x:auto;line-height:normal;font-family:Menlo,'DejaVu Sans Mono',consolas,'Courier New',monospace\">Resetting the environment...\n",
       "</pre>\n"
      ],
      "text/plain": [
       "Resetting the environment...\n"
      ]
     },
     "metadata": {},
     "output_type": "display_data"
    },
    {
     "data": {
      "text/html": [
       "<pre style=\"white-space:pre;overflow-x:auto;line-height:normal;font-family:Menlo,'DejaVu Sans Mono',consolas,'Courier New',monospace\">Resetting the environment...\n",
       "</pre>\n"
      ],
      "text/plain": [
       "Resetting the environment...\n"
      ]
     },
     "metadata": {},
     "output_type": "display_data"
    },
    {
     "data": {
      "text/html": [
       "<pre style=\"white-space:pre;overflow-x:auto;line-height:normal;font-family:Menlo,'DejaVu Sans Mono',consolas,'Courier New',monospace\">Resetting the environment...\n",
       "</pre>\n"
      ],
      "text/plain": [
       "Resetting the environment...\n"
      ]
     },
     "metadata": {},
     "output_type": "display_data"
    },
    {
     "data": {
      "text/html": [
       "<pre style=\"white-space:pre;overflow-x:auto;line-height:normal;font-family:Menlo,'DejaVu Sans Mono',consolas,'Courier New',monospace\">Resetting the environment...\n",
       "</pre>\n"
      ],
      "text/plain": [
       "Resetting the environment...\n"
      ]
     },
     "metadata": {},
     "output_type": "display_data"
    },
    {
     "data": {
      "text/html": [
       "<pre style=\"white-space:pre;overflow-x:auto;line-height:normal;font-family:Menlo,'DejaVu Sans Mono',consolas,'Courier New',monospace\">Resetting the environment...\n",
       "</pre>\n"
      ],
      "text/plain": [
       "Resetting the environment...\n"
      ]
     },
     "metadata": {},
     "output_type": "display_data"
    },
    {
     "data": {
      "text/html": [
       "<pre style=\"white-space:pre;overflow-x:auto;line-height:normal;font-family:Menlo,'DejaVu Sans Mono',consolas,'Courier New',monospace\">Resetting the environment...\n",
       "</pre>\n"
      ],
      "text/plain": [
       "Resetting the environment...\n"
      ]
     },
     "metadata": {},
     "output_type": "display_data"
    },
    {
     "data": {
      "text/html": [
       "<pre style=\"white-space:pre;overflow-x:auto;line-height:normal;font-family:Menlo,'DejaVu Sans Mono',consolas,'Courier New',monospace\">Resetting the environment...\n",
       "</pre>\n"
      ],
      "text/plain": [
       "Resetting the environment...\n"
      ]
     },
     "metadata": {},
     "output_type": "display_data"
    },
    {
     "data": {
      "text/html": [
       "<pre style=\"white-space:pre;overflow-x:auto;line-height:normal;font-family:Menlo,'DejaVu Sans Mono',consolas,'Courier New',monospace\">Resetting the environment...\n",
       "</pre>\n"
      ],
      "text/plain": [
       "Resetting the environment...\n"
      ]
     },
     "metadata": {},
     "output_type": "display_data"
    },
    {
     "data": {
      "text/html": [
       "<pre style=\"white-space:pre;overflow-x:auto;line-height:normal;font-family:Menlo,'DejaVu Sans Mono',consolas,'Courier New',monospace\">Resetting the environment...\n",
       "</pre>\n"
      ],
      "text/plain": [
       "Resetting the environment...\n"
      ]
     },
     "metadata": {},
     "output_type": "display_data"
    },
    {
     "data": {
      "text/html": [
       "<pre style=\"white-space:pre;overflow-x:auto;line-height:normal;font-family:Menlo,'DejaVu Sans Mono',consolas,'Courier New',monospace\">Resetting the environment...\n",
       "</pre>\n"
      ],
      "text/plain": [
       "Resetting the environment...\n"
      ]
     },
     "metadata": {},
     "output_type": "display_data"
    },
    {
     "data": {
      "text/html": [
       "<pre style=\"white-space:pre;overflow-x:auto;line-height:normal;font-family:Menlo,'DejaVu Sans Mono',consolas,'Courier New',monospace\">Resetting the environment...\n",
       "</pre>\n"
      ],
      "text/plain": [
       "Resetting the environment...\n"
      ]
     },
     "metadata": {},
     "output_type": "display_data"
    },
    {
     "data": {
      "text/html": [
       "<pre style=\"white-space:pre;overflow-x:auto;line-height:normal;font-family:Menlo,'DejaVu Sans Mono',consolas,'Courier New',monospace\">Resetting the environment...\n",
       "</pre>\n"
      ],
      "text/plain": [
       "Resetting the environment...\n"
      ]
     },
     "metadata": {},
     "output_type": "display_data"
    },
    {
     "data": {
      "text/html": [
       "<pre style=\"white-space:pre;overflow-x:auto;line-height:normal;font-family:Menlo,'DejaVu Sans Mono',consolas,'Courier New',monospace\">Resetting the environment...\n",
       "</pre>\n"
      ],
      "text/plain": [
       "Resetting the environment...\n"
      ]
     },
     "metadata": {},
     "output_type": "display_data"
    },
    {
     "data": {
      "text/html": [
       "<pre style=\"white-space:pre;overflow-x:auto;line-height:normal;font-family:Menlo,'DejaVu Sans Mono',consolas,'Courier New',monospace\">Resetting the environment...\n",
       "</pre>\n"
      ],
      "text/plain": [
       "Resetting the environment...\n"
      ]
     },
     "metadata": {},
     "output_type": "display_data"
    },
    {
     "data": {
      "text/html": [
       "<pre style=\"white-space:pre;overflow-x:auto;line-height:normal;font-family:Menlo,'DejaVu Sans Mono',consolas,'Courier New',monospace\">Resetting the environment...\n",
       "</pre>\n"
      ],
      "text/plain": [
       "Resetting the environment...\n"
      ]
     },
     "metadata": {},
     "output_type": "display_data"
    },
    {
     "data": {
      "text/html": [
       "<pre style=\"white-space:pre;overflow-x:auto;line-height:normal;font-family:Menlo,'DejaVu Sans Mono',consolas,'Courier New',monospace\">Resetting the environment...\n",
       "</pre>\n"
      ],
      "text/plain": [
       "Resetting the environment...\n"
      ]
     },
     "metadata": {},
     "output_type": "display_data"
    },
    {
     "data": {
      "text/html": [
       "<pre style=\"white-space:pre;overflow-x:auto;line-height:normal;font-family:Menlo,'DejaVu Sans Mono',consolas,'Courier New',monospace\">Resetting the environment...\n",
       "</pre>\n"
      ],
      "text/plain": [
       "Resetting the environment...\n"
      ]
     },
     "metadata": {},
     "output_type": "display_data"
    },
    {
     "data": {
      "text/html": [
       "<pre style=\"white-space:pre;overflow-x:auto;line-height:normal;font-family:Menlo,'DejaVu Sans Mono',consolas,'Courier New',monospace\"></pre>\n"
      ],
      "text/plain": []
     },
     "metadata": {},
     "output_type": "display_data"
    }
   ],
   "source": [
    "model = DQN(\"MlpPolicy\", env)\n",
    "model.learn(total_timesteps=env.get_attr('_duration')[0] * n_episodes / 3600, \n",
    "            progress_bar=True)\n",
    "model.save('examples/wds/trained_models/DQN_quick')"
   ]
  },
  {
   "cell_type": "markdown",
   "id": "5ddff3c6-195b-4859-adcf-346e8c0825f4",
   "metadata": {},
   "source": [
    "## Comparison with Random policy\n",
    "Here we will compare the DQN model saved with a simple random policy. The policies will be compared on several test profiles and a different seed wrt the train."
   ]
  },
  {
   "cell_type": "code",
   "execution_count": 9,
   "id": "2fa19f7f-ab98-4c23-8c84-446891c3ca61",
   "metadata": {},
   "outputs": [
    {
     "name": "stderr",
     "output_type": "stream",
     "text": [
      "/Users/dave/miniconda3/envs/osx-64/lib/python3.12/site-packages/gymnasium/spaces/box.py:235: UserWarning: \u001b[33mWARN: Box low's precision lowered by casting to float32, current low.dtype=float64\u001b[0m\n",
      "  gym.logger.warn(\n",
      "/Users/dave/miniconda3/envs/osx-64/lib/python3.12/site-packages/gymnasium/spaces/box.py:305: UserWarning: \u001b[33mWARN: Box high's precision lowered by casting to float32, current high.dtype=float64\u001b[0m\n",
      "  gym.logger.warn(\n"
     ]
    }
   ],
   "source": [
    "eval_params = parameter_generator(hydraulic_step=3600, duration=3600*24*7, seed=1234)\n",
    "env = gym.make(id=\"gym4real/wds-v0\", **{'settings':eval_params})\n",
    "n_episodes = 20\n",
    "rewards = {}"
   ]
  },
  {
   "cell_type": "markdown",
   "id": "62f45987",
   "metadata": {},
   "source": [
    "### Random Policy\n",
    "The action is chosen randomly at each decision step."
   ]
  },
  {
   "cell_type": "code",
   "execution_count": 10,
   "id": "0e3e6651",
   "metadata": {},
   "outputs": [
    {
     "name": "stderr",
     "output_type": "stream",
     "text": [
      "100%|██████████████████████████████████████████████████████████████████████████████████████████████████████████████████████████████████████████████████████████████████████████████████████████████████████████████| 20/20 [02:37<00:00,  7.87s/it]\n"
     ]
    }
   ],
   "source": [
    "alg = 'random'\n",
    "rewards[alg] = {}\n",
    "\n",
    "for episode in tqdm(range(n_episodes)):\n",
    "    obs, info = env.reset(options={'is_evaluation': True})\n",
    "    done = False\n",
    "    cumulated_reward = 0\n",
    "    rewards[alg][episode] = []\n",
    "    \n",
    "    while not done:\n",
    "        action = env.action_space.sample()  # Randomly select an action\n",
    "        obs, reward, terminated, truncated, info = env.step(action)  \n",
    "        done = terminated or truncated\n",
    "        cumulated_reward += reward\n",
    "        rewards[alg][episode].append(cumulated_reward)"
   ]
  },
  {
   "cell_type": "markdown",
   "id": "7a060dbc-429a-449f-bccb-74498ed0a895",
   "metadata": {},
   "source": [
    "### DQN agent\n",
    "Here we load the previously trained model `DQN_quick`."
   ]
  },
  {
   "cell_type": "code",
   "execution_count": 11,
   "id": "fe0e6818-5aa1-496a-999f-ec8bbc98814d",
   "metadata": {},
   "outputs": [
    {
     "name": "stderr",
     "output_type": "stream",
     "text": [
      "/Users/dave/miniconda3/envs/osx-64/lib/python3.12/site-packages/gymnasium/envs/registration.py:734: UserWarning: \u001b[33mWARN: The environment is being initialised with render_mode='rgb_array' that is not in the possible render_modes ([]).\u001b[0m\n",
      "  logger.warn(\n",
      "/Users/dave/miniconda3/envs/osx-64/lib/python3.12/site-packages/gymnasium/spaces/box.py:235: UserWarning: \u001b[33mWARN: Box low's precision lowered by casting to float32, current low.dtype=float64\u001b[0m\n",
      "  gym.logger.warn(\n",
      "/Users/dave/miniconda3/envs/osx-64/lib/python3.12/site-packages/gymnasium/spaces/box.py:305: UserWarning: \u001b[33mWARN: Box high's precision lowered by casting to float32, current high.dtype=float64\u001b[0m\n",
      "  gym.logger.warn(\n"
     ]
    },
    {
     "name": "stdout",
     "output_type": "stream",
     "text": [
      "Using cpu device\n"
     ]
    },
    {
     "name": "stderr",
     "output_type": "stream",
     "text": [
      " 80%|████████████████████████████████████████████████████████████████████████████████████████████████████████████████████████████████████████████████████████████████████▊                                         | 16/20 [01:59<00:29,  7.46s/it]/Users/dave/Library/CloudStorage/OneDrive-PolitecnicodiMilano/PhD/Repositories/gym4ReaL/gym4real/envs/wds/simulator/epynet/epanet2.py:683: UserWarning: WARNING: Pumps cannot deliver enough flow or head.\n",
      "  warnings.warn(self.ENgeterror(ierr))\n",
      "100%|██████████████████████████████████████████████████████████████████████████████████████████████████████████████████████████████████████████████████████████████████████████████████████████████████████████████| 20/20 [02:29<00:00,  7.50s/it]\n"
     ]
    }
   ],
   "source": [
    "env = make_vec_env(\"gym4real/wds-v0\", n_envs=1, env_kwargs={'settings':eval_params})\n",
    "\n",
    "alg = 'dqn'\n",
    "rewards[alg] = {}\n",
    "\n",
    "model = DQN('MlpPolicy', env, verbose=1)\n",
    "vec_env = model.get_env()\n",
    "model = DQN.load(\"examples/wds/trained_models/DQN_quick\")\n",
    "\n",
    "for episode in tqdm(range(n_episodes)):\n",
    "    vec_env.set_options({'is_evaluation': True})\n",
    "    obs = vec_env.reset()\n",
    "\n",
    "    cumulated_reward = 0\n",
    "    rewards[alg][episode] = []\n",
    "    done = False\n",
    "    \n",
    "    while not done:\n",
    "        action, _states = model.predict(obs)\n",
    "        obs, r, dones, info = vec_env.step(action)\n",
    "        done = dones[0]\n",
    "        cumulated_reward += r[0]\n",
    "        rewards[alg][episode].append(cumulated_reward)"
   ]
  },
  {
   "cell_type": "markdown",
   "id": "87b24f56-e718-4d98-9af3-b7689b0900d8",
   "metadata": {},
   "source": [
    "Let's compare the cumulative rewards averaged among the test profiles between `DQN` undergone a quick training and the `random` policy."
   ]
  },
  {
   "cell_type": "code",
   "execution_count": 12,
   "id": "cd8d56fc-08c4-45ed-827e-81724585d748",
   "metadata": {},
   "outputs": [
    {
     "data": {
      "text/plain": [
       "'\\nrewards_same_len = {}\\n\\nfor alg in rewards.keys():\\n    # Get the set of times for each profile\\n    profile_times = []\\n    for profile in rewards[alg].values():\\n        times = set([entry[0] for entry in profile])\\n        profile_times.append(times)\\n\\n    # Find common times across all profiles\\n    common_times = sorted(set.intersection(*profile_times))\\n\\n    # Filter each profile to keep only entries with times in common_times\\n    rewards_same_len[alg] = {}\\n    for key, values in rewards[alg].items():\\n        filtered = [val[1] for val in values if val[0] in common_times]\\n        rewards_same_len[alg][key] = filtered\\n'"
      ]
     },
     "execution_count": 12,
     "metadata": {},
     "output_type": "execute_result"
    }
   ],
   "source": [
    "# Notice that since the episodes do not have the same length (due to internal simulator steps), \n",
    "# we have to consider the samples referring to the same elapsed time.\n",
    "\"\"\"\n",
    "rewards_same_len = {}\n",
    "\n",
    "for alg in rewards.keys():\n",
    "    # Get the set of times for each profile\n",
    "    profile_times = []\n",
    "    for profile in rewards[alg].values():\n",
    "        times = set([entry[0] for entry in profile])\n",
    "        profile_times.append(times)\n",
    "    \n",
    "    # Find common times across all profiles\n",
    "    common_times = sorted(set.intersection(*profile_times))\n",
    "\n",
    "    # Filter each profile to keep only entries with times in common_times\n",
    "    rewards_same_len[alg] = {}\n",
    "    for key, values in rewards[alg].items():\n",
    "        filtered = [val[1] for val in values if val[0] in common_times]\n",
    "        rewards_same_len[alg][key] = filtered\n",
    "\"\"\""
   ]
  },
  {
   "cell_type": "code",
   "execution_count": 13,
   "id": "3074d149-0632-46b9-bb2f-ecce3368594d",
   "metadata": {},
   "outputs": [
    {
     "data": {
      "image/png": "[encoded data removed]",
      "text/plain": [
       "<Figure size 1000x400 with 1 Axes>"
      ]
     },
     "metadata": {},
     "output_type": "display_data"
    }
   ],
   "source": [
    "fig, ax = plt.subplots(1, 1, figsize=(10, 4), tight_layout=True)\n",
    "\n",
    "for i, alg in enumerate(rewards.keys()):\n",
    "    means = np.mean([rewards[alg][episode] for episode in rewards[alg].keys()], axis=0)\n",
    "    stds = np.std([rewards[alg][episode] for episode in rewards[alg].keys()], axis=0)\n",
    "    ci = 1.96 * stds/np.sqrt(len(rewards[alg].keys()))\n",
    "    \n",
    "    ax.plot(means, label=alg)        \n",
    "    ax.fill_between(range(len(means)), means + ci, means - ci, alpha=0.1)\n",
    "    ax.legend()"
   ]
  },
  {
   "cell_type": "code",
   "execution_count": null,
   "id": "58963608-d3fd-46a6-8109-99215a845e58",
   "metadata": {},
   "outputs": [],
   "source": []
  }
 ],
 "metadata": {
  "kernelspec": {
   "display_name": "osx-64",
   "language": "python",
   "name": "python3"
  },
  "language_info": {
   "codemirror_mode": {
    "name": "ipython",
    "version": 3
   },
   "file_extension": ".py",
   "mimetype": "text/x-python",
   "name": "python",
   "nbconvert_exporter": "python",
   "pygments_lexer": "ipython3",
   "version": "3.12.9"
  }
 },
 "nbformat": 4,
 "nbformat_minor": 5
}
