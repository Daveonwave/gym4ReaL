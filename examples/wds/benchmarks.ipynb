{
 "cells": [
  {
   "cell_type": "markdown",
   "id": "c2551241",
   "metadata": {},
   "source": [
    "# Benchmarks for Water Distribution System environment\n",
    "\n",
    "The notebook provides testing and comparison between deterministic policies and a pretrained RL agent strategies among the `WaterDistributionSystemEnv` environment."
   ]
  },
  {
   "cell_type": "code",
   "execution_count": 1,
   "id": "756ffdd3",
   "metadata": {},
   "outputs": [
    {
     "name": "stdout",
     "output_type": "stream",
     "text": [
      "/Users/dave/Library/CloudStorage/OneDrive-PolitecnicodiMilano/PhD/Repositories/gym4ReaL\n"
     ]
    }
   ],
   "source": [
    "%load_ext autoreload\n",
    "%autoreload 2\n",
    "%matplotlib inline\n",
    "%cd ../.."
   ]
  },
  {
   "cell_type": "code",
   "execution_count": 2,
   "id": "2f82ead8",
   "metadata": {},
   "outputs": [],
   "source": [
    "import matplotlib.pyplot as plt\n",
    "import seaborn as sns\n",
    "import numpy as np\n",
    "from datetime import datetime\n",
    "from tqdm import tqdm\n",
    "from collections import OrderedDict, defaultdict\n",
    "from gymnasium.utils.env_checker import check_env\n",
    "import gymnasium as gym\n",
    "\n",
    "from gym4real.envs.wds.utils import parameter_generator"
   ]
  },
  {
   "cell_type": "code",
   "execution_count": 3,
   "id": "4f59cf43",
   "metadata": {},
   "outputs": [],
   "source": [
    "sns.set_theme()\n",
    "sns.set_style('whitegrid')\n",
    "sns.set_context(\"paper\")\n",
    "plot_colors = sns.color_palette('colorblind')\n",
    "sns.set(font_scale=1.2)\n",
    "\n",
    "alg_color = OrderedDict({\n",
    "    'random': plot_colors[1],\n",
    "    'default': plot_colors[2],\n",
    "    'only_78': plot_colors[3],\n",
    "    'q-learning': plot_colors[0],\n",
    "    'sarsa': plot_colors[4],\n",
    "    'dqn': plot_colors[5],\n",
    "    'ppo': plot_colors[6],\n",
    "    'only_79': plot_colors[7]\n",
    "})\n",
    "\n",
    "alg_markers = OrderedDict({\n",
    "    'random': '.',\n",
    "    'longest_first': 'o',\n",
    "    'shortest_first': 's',\n",
    "    'q-learning': 's',\n",
    "    'sarsa': 's',\n",
    "})\n",
    "\n",
    "alg_labels = {\n",
    "    'random': 'Random',\n",
    "    'default': 'Default',\n",
    "    'only_78': 'P78',\n",
    "    'q-learning': 'Q-Learning',\n",
    "    'sarsa': 'SARSA',\n",
    "    'dqn': 'DQN',\n",
    "    'ppo': 'PPO',\n",
    "    'only_79': 'P79'\n",
    "}"
   ]
  },
  {
   "cell_type": "code",
   "execution_count": 4,
   "id": "d5ab813d-9e48-4645-b832-4759c99842c5",
   "metadata": {},
   "outputs": [],
   "source": [
    "n_episodes = 10\n",
    "rewards = defaultdict(dict)"
   ]
  },
  {
   "cell_type": "markdown",
   "id": "62f45987",
   "metadata": {},
   "source": [
    "## Random Policy\n",
    "The action is chosen randomly at each decision step."
   ]
  },
  {
   "cell_type": "code",
   "execution_count": 5,
   "id": "2fa19f7f-ab98-4c23-8c84-446891c3ca61",
   "metadata": {},
   "outputs": [
    {
     "name": "stderr",
     "output_type": "stream",
     "text": [
      "/Users/dave/miniconda3/envs/osx-64/lib/python3.12/site-packages/gymnasium/spaces/box.py:235: UserWarning: \u001b[33mWARN: Box low's precision lowered by casting to float32, current low.dtype=float64\u001b[0m\n",
      "  gym.logger.warn(\n",
      "/Users/dave/miniconda3/envs/osx-64/lib/python3.12/site-packages/gymnasium/spaces/box.py:305: UserWarning: \u001b[33mWARN: Box high's precision lowered by casting to float32, current high.dtype=float64\u001b[0m\n",
      "  gym.logger.warn(\n"
     ]
    }
   ],
   "source": [
    "params = parameter_generator(hydraulic_step=3600, duration=3600*24*7, seed=1234)\n",
    "env = gym.make(id=\"gym4real/wds-v0\", **{'settings':params})"
   ]
  },
  {
   "cell_type": "code",
   "execution_count": 6,
   "id": "0e3e6651",
   "metadata": {},
   "outputs": [
    {
     "name": "stderr",
     "output_type": "stream",
     "text": [
      "100%|██████████████████████████████████████████████████████████████████████████████████████████████████████████████████████████████████████████████████████████████████████████████████████████████████████████████| 10/10 [01:14<00:00,  7.43s/it]\n"
     ]
    }
   ],
   "source": [
    "alg = 'random'\n",
    "rewards[alg] = {}\n",
    "\n",
    "for episode in tqdm(range(n_episodes)):\n",
    "    obs, info = env.reset(options={'is_evaluation': True})\n",
    "    done = False\n",
    "    rewards[alg][episode] = []\n",
    "\n",
    "    while not done:\n",
    "        action = env.action_space.sample()  # Randomly select an action\n",
    "        obs, reward, terminated, truncated, info = env.step(action)  # Return observation and reward\n",
    "        done = terminated or truncated\n",
    "        rewards[alg][episode].append(list(info['pure_rewards'].values()))"
   ]
  },
  {
   "cell_type": "markdown",
   "id": "e7386218-8c81-4e17-8f6d-7c4bcd7f402e",
   "metadata": {},
   "source": [
    "### Only Pump 78 Always Active\n",
    "The action chosen is the fixed action 2 (mening that the Pump 78 is always active)."
   ]
  },
  {
   "cell_type": "code",
   "execution_count": 7,
   "id": "bac28132-a339-4d42-8d1c-119b805327bd",
   "metadata": {},
   "outputs": [
    {
     "name": "stderr",
     "output_type": "stream",
     "text": [
      "/Users/dave/miniconda3/envs/osx-64/lib/python3.12/site-packages/gymnasium/spaces/box.py:235: UserWarning: \u001b[33mWARN: Box low's precision lowered by casting to float32, current low.dtype=float64\u001b[0m\n",
      "  gym.logger.warn(\n",
      "/Users/dave/miniconda3/envs/osx-64/lib/python3.12/site-packages/gymnasium/spaces/box.py:305: UserWarning: \u001b[33mWARN: Box high's precision lowered by casting to float32, current high.dtype=float64\u001b[0m\n",
      "  gym.logger.warn(\n"
     ]
    }
   ],
   "source": [
    "params = parameter_generator(hydraulic_step=3600, duration=3600*24*7, seed=1234)\n",
    "env = gym.make(id=\"gym4real/wds-v0\", **{'settings':params})"
   ]
  },
  {
   "cell_type": "code",
   "execution_count": 8,
   "id": "a256a6f1-352e-46d4-ae16-ff856bb68249",
   "metadata": {},
   "outputs": [
    {
     "name": "stderr",
     "output_type": "stream",
     "text": [
      "100%|██████████████████████████████████████████████████████████████████████████████████████████████████████████████████████████████████████████████████████████████████████████████████████████████████████████████| 10/10 [01:12<00:00,  7.25s/it]\n"
     ]
    }
   ],
   "source": [
    "alg = 'only_78'\n",
    "rewards[alg] = {}\n",
    "\n",
    "for episode in tqdm(range(n_episodes)):\n",
    "    obs, info = env.reset(options={'is_evaluation': True})\n",
    "    done = False\n",
    "    rewards[alg][episode] = []\n",
    "\n",
    "    while not done:\n",
    "        action = 2  # Only pump 78 active\n",
    "        obs, reward, terminated, truncated, info = env.step(action)  # Return observation and reward\n",
    "        done = terminated or truncated\n",
    "        rewards[alg][episode].append(list(info['pure_rewards'].values()))"
   ]
  },
  {
   "cell_type": "markdown",
   "id": "9d170b21-a419-4e50-82dd-4ef417de3087",
   "metadata": {},
   "source": [
    "### Only Pump 79 Always Active\n",
    "The action chosen is the fixed action 1 (mening that the Pump 78 is always active)."
   ]
  },
  {
   "cell_type": "code",
   "execution_count": 9,
   "id": "fed4936f-78cd-4e0e-8cff-afccf84c3ffd",
   "metadata": {},
   "outputs": [
    {
     "name": "stderr",
     "output_type": "stream",
     "text": [
      "/Users/dave/miniconda3/envs/osx-64/lib/python3.12/site-packages/gymnasium/spaces/box.py:235: UserWarning: \u001b[33mWARN: Box low's precision lowered by casting to float32, current low.dtype=float64\u001b[0m\n",
      "  gym.logger.warn(\n",
      "/Users/dave/miniconda3/envs/osx-64/lib/python3.12/site-packages/gymnasium/spaces/box.py:305: UserWarning: \u001b[33mWARN: Box high's precision lowered by casting to float32, current high.dtype=float64\u001b[0m\n",
      "  gym.logger.warn(\n"
     ]
    }
   ],
   "source": [
    "params = parameter_generator(hydraulic_step=3600, duration=3600*24*7, seed=1234)\n",
    "env = gym.make(id=\"gym4real/wds-v0\", **{'settings':params})"
   ]
  },
  {
   "cell_type": "code",
   "execution_count": 10,
   "id": "73f09950-9e07-4d3a-b055-6e72c0e278f3",
   "metadata": {},
   "outputs": [
    {
     "name": "stderr",
     "output_type": "stream",
     "text": [
      "100%|██████████████████████████████████████████████████████████████████████████████████████████████████████████████████████████████████████████████████████████████████████████████████████████████████████████████| 10/10 [01:11<00:00,  7.14s/it]\n"
     ]
    }
   ],
   "source": [
    "alg = 'only_79'\n",
    "rewards[alg] = {}\n",
    "\n",
    "for episode in tqdm(range(n_episodes)):\n",
    "    obs, info = env.reset(options={'is_evaluation': True})\n",
    "    done = False\n",
    "    rewards[alg][episode] = []\n",
    "\n",
    "    while not done:\n",
    "        action = 1  # Only pump 79 active\n",
    "        obs, reward, terminated, truncated, info = env.step(action)  # Return observation and reward\n",
    "        done = terminated or truncated\n",
    "        rewards[alg][episode].append(list(info['pure_rewards'].values()))"
   ]
  },
  {
   "cell_type": "markdown",
   "id": "77d2158f-2b56-48f4-8f8b-62f551a9a8df",
   "metadata": {},
   "source": [
    "### Default control rules\n",
    "We compare with the defult control rules provided within `.inp` files. In this case, the Anytown section of control states:\n",
    "```inp\n",
    "[CONTROLS]\n",
    ";LINK P78  OPEN    IF NODE T41                BELOW  5\n",
    ";LINK P78  CLOSED  IF NODE T41                ABOVE  8\n",
    ";LINK P79  OPEN    IF NODE T42                BELOW  5\n",
    ";LINK P79  CLOSED  IF NODE T42                ABOVE  8\n",
    "```"
   ]
  },
  {
   "cell_type": "code",
   "execution_count": 11,
   "id": "83b82f35-550c-4dbb-b8e6-b2712513de41",
   "metadata": {},
   "outputs": [
    {
     "name": "stderr",
     "output_type": "stream",
     "text": [
      "/Users/dave/miniconda3/envs/osx-64/lib/python3.12/site-packages/gymnasium/spaces/box.py:235: UserWarning: \u001b[33mWARN: Box low's precision lowered by casting to float32, current low.dtype=float64\u001b[0m\n",
      "  gym.logger.warn(\n",
      "/Users/dave/miniconda3/envs/osx-64/lib/python3.12/site-packages/gymnasium/spaces/box.py:305: UserWarning: \u001b[33mWARN: Box high's precision lowered by casting to float32, current high.dtype=float64\u001b[0m\n",
      "  gym.logger.warn(\n"
     ]
    }
   ],
   "source": [
    "params = parameter_generator(hydraulic_step=3600, duration=3600*24*7, seed=1234)\n",
    "env = gym.make(id=\"gym4real/wds-v0\", **{'settings':params})"
   ]
  },
  {
   "cell_type": "code",
   "execution_count": 12,
   "id": "00305b84-a7c3-4447-82b1-58faac3a60b4",
   "metadata": {},
   "outputs": [
    {
     "name": "stderr",
     "output_type": "stream",
     "text": [
      "100%|██████████████████████████████████████████████████████████████████████████████████████████████████████████████████████████████████████████████████████████████████████████████████████████████████████████████| 10/10 [01:11<00:00,  7.16s/it]\n"
     ]
    }
   ],
   "source": [
    "alg = 'default'\n",
    "rewards[alg] = {}\n",
    "\n",
    "for episode in tqdm(range(n_episodes)):\n",
    "    obs, info = env.reset(options={'is_evaluation': True})\n",
    "    done = False\n",
    "    rewards[alg][episode] = []\n",
    "\n",
    "    # The action is a number within {0,1,2,3}\n",
    "    # 0 -> 00 -> P78 closed, P79 closed\n",
    "    # 1 -> 01 -> P78 closed, P79 open\n",
    "    # 2 -> 10 -> P78 open, P79 closed\n",
    "    # 3 -> 11 -> P78 open, P79 open\n",
    "    \n",
    "    while not done:\n",
    "        pumps = info['pumps'].copy()\n",
    "        for pump_id, tank_id in zip(info['pumps'].keys(), info['tanks'].keys()):\n",
    "            if info['tanks'][tank_id] < 5.:\n",
    "                pumps[pump_id] = 1\n",
    "            elif info['tanks'][tank_id] > 8.:\n",
    "                pumps[pump_id] = 0\n",
    "            else:\n",
    "                pumps[pump_id] = info['pumps'][pump_id]\n",
    "\n",
    "        action = 2 * pumps['P78'] + pumps['P79']\n",
    "        obs, reward, terminated, truncated, info = env.step(action)  # Return observation and reward\n",
    "        done = terminated or truncated\n",
    "        rewards[alg][episode].append(list(info['pure_rewards'].values()))"
   ]
  },
  {
   "cell_type": "markdown",
   "id": "2cab00ac",
   "metadata": {},
   "source": [
    "## DQN Agent"
   ]
  },
  {
   "cell_type": "code",
   "execution_count": 13,
   "id": "c82a1724",
   "metadata": {},
   "outputs": [],
   "source": [
    "# Uncomment this line to install stable-baselines3\n",
    "#!pip install stable-baselines3"
   ]
  },
  {
   "cell_type": "code",
   "execution_count": 14,
   "id": "1a1a882f",
   "metadata": {},
   "outputs": [],
   "source": [
    "from stable_baselines3 import DQN\n",
    "from stable_baselines3.common.env_util import make_vec_env\n",
    "from gym4real.envs.wds.env import WaterDistributionSystemEnv"
   ]
  },
  {
   "cell_type": "code",
   "execution_count": 15,
   "id": "29957736-d732-480d-aab8-a7ff01e14d41",
   "metadata": {},
   "outputs": [
    {
     "name": "stderr",
     "output_type": "stream",
     "text": [
      "/Users/dave/miniconda3/envs/osx-64/lib/python3.12/site-packages/gymnasium/envs/registration.py:734: UserWarning: \u001b[33mWARN: The environment is being initialised with render_mode='rgb_array' that is not in the possible render_modes ([]).\u001b[0m\n",
      "  logger.warn(\n",
      "/Users/dave/miniconda3/envs/osx-64/lib/python3.12/site-packages/gymnasium/spaces/box.py:235: UserWarning: \u001b[33mWARN: Box low's precision lowered by casting to float32, current low.dtype=float64\u001b[0m\n",
      "  gym.logger.warn(\n",
      "/Users/dave/miniconda3/envs/osx-64/lib/python3.12/site-packages/gymnasium/spaces/box.py:305: UserWarning: \u001b[33mWARN: Box high's precision lowered by casting to float32, current high.dtype=float64\u001b[0m\n",
      "  gym.logger.warn(\n"
     ]
    }
   ],
   "source": [
    "params = parameter_generator(hydraulic_step=3600, duration=3600*24*7, seed=1234)\n",
    "env = make_vec_env('gym4real/wds-v0', n_envs=1, env_kwargs={'settings':params})"
   ]
  },
  {
   "cell_type": "code",
   "execution_count": 16,
   "id": "a4d1271c-39b9-4dc9-bfe0-1c19afdabaf8",
   "metadata": {},
   "outputs": [
    {
     "name": "stdout",
     "output_type": "stream",
     "text": [
      "Using cpu device\n"
     ]
    },
    {
     "name": "stderr",
     "output_type": "stream",
     "text": [
      "100%|██████████████████████████████████████████████████████████████████████████████████████████████████████████████████████████████████████████████████████████████████████████████████████████████████████████████| 10/10 [01:10<00:00,  7.08s/it]\n"
     ]
    }
   ],
   "source": [
    "alg = 'dqn'\n",
    "rewards[alg] = {}\n",
    "\n",
    "model = DQN('MlpPolicy', env, verbose=1)\n",
    "vec_env = model.get_env()\n",
    "model = DQN.load(\"examples/wds/trained_models/DQN_1h_step\")\n",
    "for episode in tqdm(range(n_episodes)):\n",
    "    vec_env.set_options({'is_evaluation': True})\n",
    "    obs = vec_env.reset()\n",
    "    \n",
    "    done = False\n",
    "    rewards[alg][episode] = []\n",
    "    \n",
    "    while not done:\n",
    "        action, _states = model.predict(obs)\n",
    "        obs, reward, done, info = env.step(action)  # Return observation and reward\n",
    "        done = done[0]\n",
    "        rewards[alg][episode].append(list(info[0]['pure_rewards'].values()))"
   ]
  },
  {
   "cell_type": "markdown",
   "id": "706e0a44",
   "metadata": {},
   "source": [
    "## Comparison between the different baselines"
   ]
  },
  {
   "cell_type": "code",
   "execution_count": 17,
   "id": "4eaa3b95-2f4a-4841-b19c-9fe4b0d80233",
   "metadata": {},
   "outputs": [
    {
     "data": {
      "text/plain": [
       "'\\n\\nrewards_same_len = {}\\n\\nfor alg in rewards.keys():\\n    # Get the set of times for each profile\\n    profile_times = []\\n    for profile in rewards[alg].values():\\n        times = set([entry[0] for entry in profile])\\n        profile_times.append(times)\\n\\n    # Find common times across all profiles\\n    common_times = sorted(set.intersection(*profile_times))\\n\\n    # Filter each profile to keep only entries with times in common_times\\n    rewards_same_len[alg] = {}\\n    for key, values in rewards[alg].items():\\n        filtered = [val[1] for val in values if val[0] in common_times]\\n        rewards_same_len[alg][key] = filtered\\n'"
      ]
     },
     "execution_count": 17,
     "metadata": {},
     "output_type": "execute_result"
    }
   ],
   "source": [
    "# Notice that since the episodes do not have the same length (due to internal simulator steps), \n",
    "# we have to consider the samples referring to the same elapsed time.\n",
    "\"\"\"\n",
    "\n",
    "rewards_same_len = {}\n",
    "\n",
    "for alg in rewards.keys():\n",
    "    # Get the set of times for each profile\n",
    "    profile_times = []\n",
    "    for profile in rewards[alg].values():\n",
    "        times = set([entry[0] for entry in profile])\n",
    "        profile_times.append(times)\n",
    "    \n",
    "    # Find common times across all profiles\n",
    "    common_times = sorted(set.intersection(*profile_times))\n",
    "\n",
    "    # Filter each profile to keep only entries with times in common_times\n",
    "    rewards_same_len[alg] = {}\n",
    "    for key, values in rewards[alg].items():\n",
    "        filtered = [val[1] for val in values if val[0] in common_times]\n",
    "        rewards_same_len[alg][key] = filtered\n",
    "\"\"\""
   ]
  },
  {
   "cell_type": "code",
   "execution_count": 18,
   "id": "98b0d662-9603-43dc-b362-1178bd483c92",
   "metadata": {},
   "outputs": [
    {
     "data": {
      "text/plain": [
       "dict_keys(['random', 'only_78', 'only_79', 'default', 'dqn'])"
      ]
     },
     "execution_count": 18,
     "metadata": {},
     "output_type": "execute_result"
    }
   ],
   "source": [
    "rewards.keys()"
   ]
  },
  {
   "cell_type": "code",
   "execution_count": 30,
   "id": "51413190-0a1a-45a3-aefe-403af3cc5ca8",
   "metadata": {},
   "outputs": [
    {
     "data": {
      "image/png": "[encoded data removed]",
      "text/plain": [
       "<Figure size 500x350 with 1 Axes>"
      ]
     },
     "metadata": {},
     "output_type": "display_data"
    }
   ],
   "source": [
    "fig, ax = plt.subplots(1, 1, figsize=(5, 3.5), tight_layout=True)\n",
    "\n",
    "for i, alg in enumerate(rewards.keys()):\n",
    "    cum_rewards = []\n",
    "    for episode in range(n_episodes): \n",
    "        cum_rewards.append(np.cumsum([rewards[alg][episode][i][0] - rewards[alg][episode][i][1] for i in range(len(rewards[alg][episode]))]))\n",
    "    means = np.mean(cum_rewards, axis=0)\n",
    "    stds = np.std(cum_rewards, axis=0)\n",
    "    ci = 1.96 * stds / np.sqrt(len(rewards[alg].keys()))\n",
    "\n",
    "    ax.plot(means, label=alg_labels[alg], color=alg_color[alg])\n",
    "    ax.fill_between(range(len(means)), means + ci, means - ci, color=alg_color[alg], alpha=0.1)\n",
    "\n",
    "# Set axis labels\n",
    "ax.set_xlabel(\"Time (h)\")\n",
    "ax.set_ylabel(\"Network Resilience\")\n",
    "\n",
    "# Set scientific notation for y-axis\n",
    "#ax.ticklabel_format(style='sci', axis='y', scilimits=(0, 0))\n",
    "\n",
    "# Add legend\n",
    "ax.legend()\n",
    "\n",
    "# Save figure\n",
    "plt.savefig('plots/wds_avg_reward.pdf')"
   ]
  },
  {
   "cell_type": "code",
   "execution_count": 32,
   "id": "961d6b3f-621d-41d1-8030-51653b8b4133",
   "metadata": {},
   "outputs": [
    {
     "data": {
      "image/png": "[encoded data removed]",
      "text/plain": [
       "<Figure size 500x350 with 1 Axes>"
      ]
     },
     "metadata": {},
     "output_type": "display_data"
    }
   ],
   "source": [
    "from matplotlib.ticker import ScalarFormatter\n",
    "\n",
    "# Prepare data for boxplot\n",
    "box_data = {}\n",
    "colors = []\n",
    "\n",
    "cum_rewards = []\n",
    "\n",
    "# Collect the final cumulative reward for each episode of each algorithm\n",
    "for alg in rewards.keys():\n",
    "    box_data[alg_labels[alg]] = []  # Use human-readable labels\n",
    "    for episode in range(n_episodes): \n",
    "        box_data[alg_labels[alg]].append(np.sum([rewards[alg][episode][i][0] - rewards[alg][episode][i][1] for i in range(len(rewards[alg][episode]))]))\n",
    "    colors.append(alg_color[alg])  # Store color for consistency in plotting\n",
    "\n",
    "# Create the boxplot\n",
    "fig, ax = plt.subplots(figsize=(5, 3.5), tight_layout=True)\n",
    "box_plot = sns.boxplot(data=box_data, palette=colors, width=0.8, ax=ax)\n",
    "\n",
    "# Label the axes\n",
    "ax.set_ylabel(\"Return\")\n",
    "\n",
    "# Use scientific notation on y-axis\n",
    "formatter = ScalarFormatter()\n",
    "formatter.set_scientific(True)\n",
    "formatter.set_powerlimits((-2, 3))  # Show scientific notation when appropriate\n",
    "ax.yaxis.set_major_formatter(formatter)\n",
    "\n",
    "plt.tight_layout()\n",
    "plt.savefig(\"plots/wds_boxplot.pdf\")"
   ]
  },
  {
   "cell_type": "code",
   "execution_count": null,
   "id": "5bbf8626-a7fe-4699-9b69-acee15543ee6",
   "metadata": {},
   "outputs": [],
   "source": []
  }
 ],
 "metadata": {
  "kernelspec": {
   "display_name": "Python (osx-64)",
   "language": "python",
   "name": "osx-64"
  },
  "language_info": {
   "codemirror_mode": {
    "name": "ipython",
    "version": 3
   },
   "file_extension": ".py",
   "mimetype": "text/x-python",
   "name": "python",
   "nbconvert_exporter": "python",
   "pygments_lexer": "ipython3",
   "version": "3.12.9"
  }
 },
 "nbformat": 4,
 "nbformat_minor": 5
}
