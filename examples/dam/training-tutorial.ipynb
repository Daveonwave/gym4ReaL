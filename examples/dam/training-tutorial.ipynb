{
 "cells": [
  {
   "metadata": {},
   "cell_type": "markdown",
   "source": [
    "# Simple PPO agent\n",
    "\n",
    "This notebook provides an example of a quick training of [Proximal-Policy Optimization](https://arxiv.org/abs/1707.06347) (PPO) algorithm and of the loading of an existing trained agent on the `DamEnv` environment."
   ],
   "id": "d3d61dc410c345be"
  },
  {
   "cell_type": "code",
   "id": "initial_id",
   "metadata": {
    "collapsed": true,
    "ExecuteTime": {
     "end_time": "2025-05-16T10:28:31.267363Z",
     "start_time": "2025-05-16T10:28:31.234103Z"
    }
   },
   "source": [
    "%load_ext autoreload\n",
    "%autoreload 2\n",
    "%matplotlib inline\n",
    "%cd ../.."
   ],
   "outputs": [
    {
     "name": "stdout",
     "output_type": "stream",
     "text": [
      "/media/samuele/Disco/PycharmProjectsUbuntu/gym4ReaL\n"
     ]
    }
   ],
   "execution_count": 1
  },
  {
   "metadata": {
    "ExecuteTime": {
     "end_time": "2025-05-16T10:28:33.834538Z",
     "start_time": "2025-05-16T10:28:31.355633Z"
    }
   },
   "cell_type": "code",
   "source": [
    "import matplotlib.pyplot as plt\n",
    "import seaborn as sns\n",
    "import numpy as np\n",
    "\n",
    "from tqdm import tqdm\n",
    "import torch\n",
    "\n",
    "import gymnasium as gym\n",
    "from gymnasium.wrappers import RescaleAction\n",
    "\n",
    "from skrl.agents.torch.ppo import PPO, PPO_DEFAULT_CONFIG\n",
    "from skrl.envs.wrappers.torch import wrap_env\n",
    "from skrl.memories.torch import RandomMemory\n",
    "from skrl.resources.preprocessors.torch import RunningStandardScaler\n",
    "from skrl.resources.schedulers.torch import KLAdaptiveRL\n",
    "from skrl.trainers.torch import SequentialTrainer\n",
    "from skrl.utils import set_seed\n",
    "\n",
    "from gym4real.envs.dam.utils import parameter_generator\n",
    "from gym4real.algorithms.dam.ppo_skrl import Policy, Value"
   ],
   "id": "af8abf3305a2254a",
   "outputs": [],
   "execution_count": 2
  },
  {
   "metadata": {
    "ExecuteTime": {
     "end_time": "2025-05-16T10:28:33.990946Z",
     "start_time": "2025-05-16T10:28:33.966875Z"
    }
   },
   "cell_type": "code",
   "source": [
    "sns.set_theme()\n",
    "sns.set_style('whitegrid')\n",
    "sns.set_context(\"paper\")\n",
    "plot_colors = sns.color_palette('colorblind')\n",
    "sns.set(font_scale=1.2)\n",
    "\n",
    "alg_color = {\n",
    "    'ppo_quick': plot_colors[1],\n",
    "    'ppo_pretrained': plot_colors[2]\n",
    "}\n",
    "\n",
    "alg_labels = {\n",
    "    'ppo_quick': 'PPO quick',\n",
    "    'ppo_pretrained': 'PPO pretrained'\n",
    "}"
   ],
   "id": "4e081dc64616da35",
   "outputs": [],
   "execution_count": 3
  },
  {
   "metadata": {
    "ExecuteTime": {
     "end_time": "2025-05-16T10:28:34.082443Z",
     "start_time": "2025-05-16T10:28:34.021587Z"
    }
   },
   "cell_type": "code",
   "source": [
    "n_episodes = 13\n",
    "rewards = {}"
   ],
   "id": "e0e18fd41d7f7f9d",
   "outputs": [],
   "execution_count": 4
  },
  {
   "metadata": {
    "ExecuteTime": {
     "end_time": "2025-05-16T10:28:34.374592Z",
     "start_time": "2025-05-16T10:28:34.097010Z"
    }
   },
   "cell_type": "code",
   "source": [
    "eval_params = parameter_generator(\n",
    "    world_options='gym4real/envs/dam/world_test.yaml',\n",
    "    lake_params='gym4real/envs/dam/lake.yaml'\n",
    ")\n",
    "\n",
    "eval_env = gym.make('gym4real/dam-v0', settings=eval_params)\n",
    "scaled_eval_env = RescaleAction(eval_env, min_action=-1., max_action=1.)\n",
    "scaled_eval_env = wrap_env(scaled_eval_env)"
   ],
   "id": "934a9455eb4b9535",
   "outputs": [
    {
     "name": "stderr",
     "output_type": "stream",
     "text": [
      "/media/samuele/Disco/PycharmProjectsUbuntu/gym4ReaL/.venv/lib/python3.12/site-packages/gymnasium/spaces/box.py:235: UserWarning: \u001B[33mWARN: Box low's precision lowered by casting to float32, current low.dtype=float64\u001B[0m\n",
      "  gym.logger.warn(\n",
      "/media/samuele/Disco/PycharmProjectsUbuntu/gym4ReaL/.venv/lib/python3.12/site-packages/gymnasium/spaces/box.py:305: UserWarning: \u001B[33mWARN: Box high's precision lowered by casting to float32, current high.dtype=float64\u001B[0m\n",
      "  gym.logger.warn(\n",
      "\u001B[38;20m[skrl:INFO] Environment wrapper: 'auto' (class: gymnasium.core.Env, gymnasium.utils.record_constructor.RecordConstructorArgs, gymnasium.wrappers.transform_action.TransformAction)\u001B[0m\n",
      "\u001B[38;20m[skrl:INFO] Environment wrapper: gymnasium\u001B[0m\n",
      "\u001B[33;20m[skrl:WARNING] Failed to check for a vectorized environment: module 'gymnasium.experimental' has no attribute 'vector'\u001B[0m\n"
     ]
    }
   ],
   "execution_count": 5
  },
  {
   "metadata": {},
   "cell_type": "markdown",
   "source": [
    "## Training\n",
    "\n",
    "Here we will provide an example of a very quick training"
   ],
   "id": "1239e6d849ad0488"
  },
  {
   "metadata": {
    "ExecuteTime": {
     "end_time": "2025-05-16T10:28:34.472391Z",
     "start_time": "2025-05-16T10:28:34.392467Z"
    }
   },
   "cell_type": "code",
   "source": [
    "params = parameter_generator(\n",
    "    world_options='gym4real/envs/dam/world_train.yaml',\n",
    "    lake_params='gym4real/envs/dam/lake.yaml'\n",
    ")\n",
    "\n",
    "env = gym.make('gym4real/dam-v0', settings=params)\n",
    "env = RescaleAction(env, min_action=-1., max_action=1.)\n",
    "env = wrap_env(env)"
   ],
   "id": "5c4bf47ffad4c350",
   "outputs": [
    {
     "name": "stderr",
     "output_type": "stream",
     "text": [
      "/media/samuele/Disco/PycharmProjectsUbuntu/gym4ReaL/.venv/lib/python3.12/site-packages/gymnasium/spaces/box.py:235: UserWarning: \u001B[33mWARN: Box low's precision lowered by casting to float32, current low.dtype=float64\u001B[0m\n",
      "  gym.logger.warn(\n",
      "/media/samuele/Disco/PycharmProjectsUbuntu/gym4ReaL/.venv/lib/python3.12/site-packages/gymnasium/spaces/box.py:305: UserWarning: \u001B[33mWARN: Box high's precision lowered by casting to float32, current high.dtype=float64\u001B[0m\n",
      "  gym.logger.warn(\n",
      "\u001B[38;20m[skrl:INFO] Environment wrapper: 'auto' (class: gymnasium.core.Env, gymnasium.utils.record_constructor.RecordConstructorArgs, gymnasium.wrappers.transform_action.TransformAction)\u001B[0m\n",
      "\u001B[38;20m[skrl:INFO] Environment wrapper: gymnasium\u001B[0m\n",
      "\u001B[33;20m[skrl:WARNING] Failed to check for a vectorized environment: module 'gymnasium.experimental' has no attribute 'vector'\u001B[0m\n"
     ]
    }
   ],
   "execution_count": 6
  },
  {
   "metadata": {
    "ExecuteTime": {
     "end_time": "2025-05-16T10:28:35.542418Z",
     "start_time": "2025-05-16T10:28:34.494526Z"
    }
   },
   "cell_type": "code",
   "source": [
    "set_seed(123)\n",
    "device =  torch.device('cuda' if torch.cuda.is_available() else 'cpu')\n",
    "net_arch = (16, 16)\n",
    "\n",
    "memory = RandomMemory(memory_size=2048, num_envs=env.num_envs, device=device)\n",
    "\n",
    "models = {}\n",
    "models[\"policy\"] = Policy(env.observation_space, env.action_space, device=device, net_arch=net_arch, initial_log_std=-0.5)#, clip_actions=True)\n",
    "models[\"value\"] = Value(env.observation_space, env.action_space, device=device, net_arch=net_arch)\n",
    "\n",
    "cfg = PPO_DEFAULT_CONFIG.copy()\n",
    "cfg[\"rollouts\"] = 2048\n",
    "cfg[\"learning_epochs\"] = 10\n",
    "cfg[\"mini_batches\"] = 32\n",
    "cfg[\"discount_factor\"] = 0.995\n",
    "cfg[\"lambda\"] = 0.95\n",
    "cfg[\"learning_rate\"] = 8e-6\n",
    "cfg[\"learning_rate_scheduler\"] = KLAdaptiveRL\n",
    "cfg[\"learning_rate_scheduler_kwargs\"] = {\"kl_threshold\": 0.008}\n",
    "cfg[\"grad_norm_clip\"] = 0.5\n",
    "cfg[\"ratio_clip\"] = 0.2\n",
    "cfg[\"value_clip\"] = 0.2\n",
    "cfg[\"clip_predicted_values\"] = False\n",
    "cfg[\"entropy_loss_scale\"] = 0.\n",
    "cfg[\"value_loss_scale\"] = 0.5\n",
    "cfg[\"kl_threshold\"] = 0\n",
    "cfg[\"mixed_precision\"] = True\n",
    "cfg[\"state_preprocessor\"] = RunningStandardScaler\n",
    "cfg[\"state_preprocessor_kwargs\"] = {\"size\": env.observation_space, \"device\": device}\n",
    "cfg[\"value_preprocessor\"] = RunningStandardScaler\n",
    "cfg[\"value_preprocessor_kwargs\"] = {\"size\": 1, \"device\": device}\n",
    "# logging to TensorBoard and write checkpoints (in timesteps)\n",
    "cfg[\"experiment\"][\"write_interval\"] = 500\n",
    "# cfg[\"experiment\"]['experiment_name'] = args['exp_name']\n",
    "cfg[\"experiment\"][\"checkpoint_interval\"] = 500\n",
    "cfg[\"experiment\"][\"directory\"] = \"examples/dam/trained_agents/quick\"\n",
    "\n",
    "agent = PPO(models=models,\n",
    "            memory=memory,\n",
    "            cfg=cfg,\n",
    "            observation_space=env.observation_space,\n",
    "            action_space=env.action_space,\n",
    "            device=device\n",
    "            )\n",
    "\n",
    "cfg_trainer = {\"timesteps\": 2000, \"headless\": True}\n",
    "trainer = SequentialTrainer(cfg=cfg_trainer, env=env, agents=[agent])\n",
    "agent.set_mode(\"eval\")"
   ],
   "id": "1decc1f9609d364d",
   "outputs": [
    {
     "name": "stderr",
     "output_type": "stream",
     "text": [
      "\u001B[38;20m[skrl:INFO] Seed: 123\u001B[0m\n"
     ]
    }
   ],
   "execution_count": 7
  },
  {
   "metadata": {
    "ExecuteTime": {
     "end_time": "2025-05-16T10:28:41.152061Z",
     "start_time": "2025-05-16T10:28:35.577796Z"
    }
   },
   "cell_type": "code",
   "source": "trainer.train()",
   "id": "e8cfeb099f0ca733",
   "outputs": [
    {
     "name": "stdout",
     "output_type": "stream",
     "text": [
      "100%|██████████| 2000/2000 [00:05<00:00, 360.89it/s]\n"
     ]
    }
   ],
   "execution_count": 8
  },
  {
   "metadata": {},
   "cell_type": "markdown",
   "source": [
    "### Testing\n",
    "\n",
    "Here we will test the agent we just trained"
   ],
   "id": "8830ff0115eb6a05"
  },
  {
   "metadata": {
    "ExecuteTime": {
     "end_time": "2025-05-16T10:28:47.235488Z",
     "start_time": "2025-05-16T10:28:41.178313Z"
    }
   },
   "cell_type": "code",
   "source": [
    "alg = 'ppo_quick'\n",
    "rewards[alg] = []\n",
    "\n",
    "\n",
    "scaled_eval_env.curr_year_data = None\n",
    "\n",
    "with torch.no_grad():\n",
    "\n",
    "    for episode in tqdm(range(n_episodes)):\n",
    "        obs, info = scaled_eval_env.reset()\n",
    "        done = False\n",
    "        rewards_episode = []\n",
    "        timesteps = 0\n",
    "        while not done:\n",
    "            output = agent.act(obs, timesteps, 365)\n",
    "            action = output[-1]['mean_actions']\n",
    "            obs, reward, terminated, truncated, info = scaled_eval_env.step(action)  # Return observation and reward\n",
    "            done = terminated or truncated\n",
    "            rewards_episode.append(info['weighted_reward'])\n",
    "            timesteps += 1\n",
    "\n",
    "        rewards[alg].append(rewards_episode)\n"
   ],
   "id": "5657b55ed8832507",
   "outputs": [
    {
     "name": "stderr",
     "output_type": "stream",
     "text": [
      "100%|██████████| 13/13 [00:06<00:00,  2.16it/s]\n"
     ]
    }
   ],
   "execution_count": 9
  },
  {
   "metadata": {},
   "cell_type": "markdown",
   "source": [
    "## Pretrained agent\n",
    "\n",
    "Here we will load and test a pretrained PPO agent from file"
   ],
   "id": "b811a153962d29c8"
  },
  {
   "metadata": {
    "ExecuteTime": {
     "end_time": "2025-05-16T10:28:47.290996Z",
     "start_time": "2025-05-16T10:28:47.255499Z"
    }
   },
   "cell_type": "code",
   "source": [
    "# The agent was trained with the same structure of the one we just quicly trained, so we can use the same parameters\n",
    "agent_pretrained = PPO(models=models,\n",
    "                      memory=memory,\n",
    "                      cfg=cfg,\n",
    "                      observation_space=env.observation_space,\n",
    "                      action_space=env.action_space,\n",
    "                      device=device\n",
    "                      )\n",
    "\n",
    "agent_pretrained.load('examples/dam/trained_agents/agent_200000.pt')"
   ],
   "id": "91e7967de81145d0",
   "outputs": [],
   "execution_count": 10
  },
  {
   "metadata": {
    "ExecuteTime": {
     "end_time": "2025-05-16T10:28:53.213470Z",
     "start_time": "2025-05-16T10:28:47.311580Z"
    }
   },
   "cell_type": "code",
   "source": [
    "alg = 'ppo_pretrained'\n",
    "rewards[alg] = []\n",
    "\n",
    "\n",
    "scaled_eval_env.curr_year_data = None\n",
    "\n",
    "with torch.no_grad():\n",
    "\n",
    "    for episode in tqdm(range(n_episodes)):\n",
    "        obs, info = scaled_eval_env.reset()\n",
    "        done = False\n",
    "        rewards_episode = []\n",
    "        timesteps = 0\n",
    "        while not done:\n",
    "            output = agent_pretrained.act(obs, timesteps, 365)\n",
    "            action = output[-1]['mean_actions']\n",
    "            obs, reward, terminated, truncated, info = scaled_eval_env.step(action)  # Return observation and reward\n",
    "            done = terminated or truncated\n",
    "            rewards_episode.append(info['weighted_reward'])\n",
    "            timesteps += 1\n",
    "\n",
    "        rewards[alg].append(rewards_episode)"
   ],
   "id": "9a2ce1852a2541b2",
   "outputs": [
    {
     "name": "stderr",
     "output_type": "stream",
     "text": [
      "100%|██████████| 13/13 [00:05<00:00,  2.21it/s]\n"
     ]
    }
   ],
   "execution_count": 11
  },
  {
   "metadata": {},
   "cell_type": "markdown",
   "source": "# Plotting",
   "id": "16588775981f8eff"
  },
  {
   "metadata": {
    "ExecuteTime": {
     "end_time": "2025-05-16T10:28:53.266969Z",
     "start_time": "2025-05-16T10:28:53.235963Z"
    }
   },
   "cell_type": "code",
   "source": [
    "# convert, for all policies, from list of dicts to dict of arrays\n",
    "rewards = {key: [{\n",
    "        r_type: np.array([prof[i][r_type] for i in range(len(prof))]) for r_type in prof[0].keys()\n",
    "    } for prof in rewards[key]] for key in rewards.keys()\n",
    "}"
   ],
   "id": "a0909b8e5055ffed",
   "outputs": [],
   "execution_count": 12
  },
  {
   "metadata": {
    "ExecuteTime": {
     "end_time": "2025-05-16T10:28:53.319815Z",
     "start_time": "2025-05-16T10:28:53.293365Z"
    }
   },
   "cell_type": "code",
   "source": [
    "rewards_types_to_plot = ['overflow_reward', 'starving_reward', 'daily_deficit_reward']\n",
    "\n",
    "rewards_to_plot = {key: [sum([prof[r_type] for r_type in rewards_types_to_plot]) for prof in rewards[key]] for key in rewards.keys()}\n",
    "cum_rewards = {key: [np.cumsum(prof) for prof in val] for key, val in rewards_to_plot.items()}"
   ],
   "id": "14ab9c11d5dba52",
   "outputs": [],
   "execution_count": 13
  },
  {
   "metadata": {
    "ExecuteTime": {
     "end_time": "2025-05-16T10:28:53.571752Z",
     "start_time": "2025-05-16T10:28:53.349665Z"
    }
   },
   "cell_type": "code",
   "source": [
    "fig, ax = plt.subplots(1, 1, figsize=(10, 5), tight_layout=True)\n",
    "\n",
    "for alg in cum_rewards.keys():\n",
    "    means = np.mean(cum_rewards[alg], axis=0)\n",
    "    stds = np.std(cum_rewards[alg], axis=0)\n",
    "    ci = 1.96 * stds/np.sqrt(len(cum_rewards[alg]))\n",
    "\n",
    "    ax.plot(means, label=alg_labels[alg], color=alg_color[alg])\n",
    "    ax.fill_between(range(len(means)), means + ci, means - ci, color=alg_color[alg], alpha=0.1)\n",
    "    ax.legend()\n",
    "\n",
    "ax.ticklabel_format(style='sci', axis='y', scilimits=(0, 0))\n",
    "ax.set_xlabel('Time (days)')\n",
    "ax.set_ylabel('Total objective reward')"
   ],
   "id": "15d8fc52c01569e8",
   "outputs": [
    {
     "data": {
      "text/plain": [
       "Text(0, 0.5, 'Total objective reward')"
      ]
     },
     "execution_count": 14,
     "metadata": {},
     "output_type": "execute_result"
    },
    {
     "data": {
      "text/plain": [
       "<Figure size 1000x500 with 1 Axes>"
      ],
      "image/png": "[encoded data removed]"
     },
     "metadata": {},
     "output_type": "display_data"
    }
   ],
   "execution_count": 14
  }
 ],
 "metadata": {
  "kernelspec": {
   "display_name": "Python 3",
   "language": "python",
   "name": "python3"
  },
  "language_info": {
   "codemirror_mode": {
    "name": "ipython",
    "version": 2
   },
   "file_extension": ".py",
   "mimetype": "text/x-python",
   "name": "python",
   "nbconvert_exporter": "python",
   "pygments_lexer": "ipython2",
   "version": "2.7.6"
  }
 },
 "nbformat": 4,
 "nbformat_minor": 5
}
