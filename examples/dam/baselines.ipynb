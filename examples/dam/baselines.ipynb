{
 "cells": [
  {
   "metadata": {},
   "cell_type": "markdown",
   "source": [
    "# Testing gym4ReaL within Dam environment\n",
    "\n",
    "This notebook provides examples of usage and comparison of rule-based policies with a PPO agent"
   ],
   "id": "828986a4c5cbb1e4"
  },
  {
   "cell_type": "code",
   "id": "initial_id",
   "metadata": {
    "collapsed": true,
    "ExecuteTime": {
     "end_time": "2025-05-08T14:43:53.529Z",
     "start_time": "2025-05-08T14:43:53.496817Z"
    }
   },
   "source": [
    "%load_ext autoreload\n",
    "%autoreload 2\n",
    "%matplotlib inline\n",
    "%cd ../.."
   ],
   "outputs": [
    {
     "name": "stdout",
     "output_type": "stream",
     "text": [
      "/media/samuele/Disco/PycharmProjectsUbuntu/gym4ReaL\n"
     ]
    }
   ],
   "execution_count": 1
  },
  {
   "metadata": {
    "ExecuteTime": {
     "end_time": "2025-05-08T14:43:54.387229Z",
     "start_time": "2025-05-08T14:43:53.611439Z"
    }
   },
   "cell_type": "code",
   "source": [
    "import matplotlib.pyplot as plt\n",
    "import seaborn as sns\n",
    "import numpy as np\n",
    "\n",
    "from tqdm import tqdm\n",
    "from collections import OrderedDict\n",
    "\n",
    "import gymnasium as gym\n",
    "from gymnasium.wrappers import RescaleAction\n",
    "\n",
    "from gym4real.envs.dam.utils import parameter_generator"
   ],
   "id": "74a2b9349412ef32",
   "outputs": [],
   "execution_count": 2
  },
  {
   "metadata": {
    "ExecuteTime": {
     "end_time": "2025-05-08T14:43:54.593958Z",
     "start_time": "2025-05-08T14:43:54.579259Z"
    }
   },
   "cell_type": "code",
   "source": [
    "sns.set_style('darkgrid')\n",
    "plot_colors = sns.color_palette()\n",
    "sns.set(font_scale=1.5)\n",
    "\n",
    "alg_color = OrderedDict({\n",
    "    'random': plot_colors[0],\n",
    "    'fixed_action': plot_colors[1],\n",
    "    'exp_avg_demand_action': plot_colors[2],\n",
    "    'ppo': plot_colors[3]\n",
    "})\n",
    "\n",
    "alg_markers = OrderedDict({\n",
    "    'random': '.',\n",
    "    'fixed_action': 'o',\n",
    "    'exp_avg_demand_action': 'v',\n",
    "    # '50-50': 'P',\n",
    "    'ppo': '*',\n",
    "})"
   ],
   "id": "35a5229c5684183f",
   "outputs": [],
   "execution_count": 3
  },
  {
   "metadata": {
    "ExecuteTime": {
     "end_time": "2025-05-08T14:43:54.646005Z",
     "start_time": "2025-05-08T14:43:54.634411Z"
    }
   },
   "cell_type": "code",
   "source": [
    "n_episodes = 1\n",
    "rewards = {}"
   ],
   "id": "1b0b5214078cdafa",
   "outputs": [],
   "execution_count": 4
  },
  {
   "metadata": {},
   "cell_type": "markdown",
   "source": "## Initialization of the environment",
   "id": "79461f43e77817e8"
  },
  {
   "metadata": {
    "ExecuteTime": {
     "end_time": "2025-05-08T14:43:54.727477Z",
     "start_time": "2025-05-08T14:43:54.687944Z"
    }
   },
   "cell_type": "code",
   "source": [
    "eval_params = parameter_generator(\n",
    "    world_options='/media/samuele/Disco/PycharmProjectsUbuntu/gym4ReaL/gym4real/envs/dam/world_test.yaml',\n",
    "    lake_params='/media/samuele/Disco/PycharmProjectsUbuntu/gym4ReaL/gym4real/envs/dam/lake.yaml'\n",
    ")\n",
    "\n",
    "eval_env = gym.make('gym4real/dam-v0', settings=eval_params)\n",
    "\n",
    "print(type(eval_env))\n",
    "# eval_env = RescaleAction(eval_env, min_action=-1., max_action=1.)"
   ],
   "id": "4c6920cff2531936",
   "outputs": [
    {
     "name": "stdout",
     "output_type": "stream",
     "text": [
      "<class 'gymnasium.wrappers.common.OrderEnforcing'>\n"
     ]
    },
    {
     "name": "stderr",
     "output_type": "stream",
     "text": [
      "/media/samuele/Disco/PycharmProjectsUbuntu/gym4ReaL/.venv/lib/python3.12/site-packages/gymnasium/spaces/box.py:235: UserWarning: \u001B[33mWARN: Box low's precision lowered by casting to float32, current low.dtype=float64\u001B[0m\n",
      "  gym.logger.warn(\n",
      "/media/samuele/Disco/PycharmProjectsUbuntu/gym4ReaL/.venv/lib/python3.12/site-packages/gymnasium/spaces/box.py:305: UserWarning: \u001B[33mWARN: Box high's precision lowered by casting to float32, current high.dtype=float64\u001B[0m\n",
      "  gym.logger.warn(\n"
     ]
    }
   ],
   "execution_count": 5
  },
  {
   "metadata": {},
   "cell_type": "markdown",
   "source": [
    "### Deterministic policies\n",
    "\n",
    "Here we will show three rule-based policies:\n",
    "1. random action policy\n",
    "2. fixed action policy\n",
    "3. exponential average demand policy"
   ],
   "id": "a14dff0b3ba25b0c"
  },
  {
   "metadata": {},
   "cell_type": "markdown",
   "source": [
    "### Random policy\n",
    "The action is chosen randomly at each decision step."
   ],
   "id": "176c0da5dd83cd13"
  },
  {
   "metadata": {
    "ExecuteTime": {
     "end_time": "2025-05-08T14:43:54.805116Z",
     "start_time": "2025-05-08T14:43:54.755151Z"
    }
   },
   "cell_type": "code",
   "source": [
    "alg = 'random'\n",
    "rewards[alg] = []\n",
    "\n",
    "for episode in tqdm(range(n_episodes)):\n",
    "    obs, info = eval_env.reset(options={'rewind_profiles': episode == 0})\n",
    "    done = False\n",
    "\n",
    "    while not done:\n",
    "        action = eval_env.action_space.sample()  # Randomly select an action\n",
    "        obs, reward, terminated, truncated, info = eval_env.step(action)  # Return observation and reward\n",
    "        done = terminated or truncated\n",
    "        rewards[alg].append(reward)"
   ],
   "id": "a7cb88bb91c6d05d",
   "outputs": [
    {
     "name": "stderr",
     "output_type": "stream",
     "text": [
      "100%|██████████| 1/1 [00:00<00:00, 30.65it/s]\n"
     ]
    }
   ],
   "execution_count": 6
  },
  {
   "metadata": {},
   "cell_type": "markdown",
   "source": [
    "### Fixed action policy\n",
    "The action is fixed for each decision step."
   ],
   "id": "643779a5fb6baf60"
  },
  {
   "metadata": {
    "ExecuteTime": {
     "end_time": "2025-05-08T14:43:54.854468Z",
     "start_time": "2025-05-08T14:43:54.822361Z"
    }
   },
   "cell_type": "code",
   "source": [
    "alg = 'fixed_action'\n",
    "rewards[alg] = []\n",
    "\n",
    "fixed_action = 200.\n",
    "\n",
    "for episode in tqdm(range(n_episodes)):\n",
    "    obs, info = eval_env.reset(options={'rewind_profiles': episode == 0})\n",
    "    done = False\n",
    "\n",
    "    while not done:\n",
    "        action = fixed_action\n",
    "        obs, reward, terminated, truncated, info = eval_env.step(action)  # Return observation and reward\n",
    "        done = terminated or truncated\n",
    "        rewards[alg].append(reward)"
   ],
   "id": "37e6e93d0b0c49ed",
   "outputs": [
    {
     "name": "stderr",
     "output_type": "stream",
     "text": [
      "100%|██████████| 1/1 [00:00<00:00, 60.69it/s]\n"
     ]
    }
   ],
   "execution_count": 7
  },
  {
   "metadata": {},
   "cell_type": "markdown",
   "source": [
    "### Exponential average demand policy\n",
    "The action is the exponential average of the past demand in the observation vector"
   ],
   "id": "7145e72b6169ea19"
  },
  {
   "metadata": {
    "ExecuteTime": {
     "end_time": "2025-05-08T14:43:54.917813Z",
     "start_time": "2025-05-08T14:43:54.884595Z"
    }
   },
   "cell_type": "code",
   "source": [
    "alg = 'exp_avg_demand_action'\n",
    "rewards[alg] = []\n",
    "\n",
    "index_exp_avg_demand = -1\n",
    "\n",
    "for episode in tqdm(range(n_episodes)):\n",
    "    obs, info = eval_env.reset(options={'rewind_profiles': episode == 0})\n",
    "    done = False\n",
    "\n",
    "    while not done:\n",
    "        action = obs[index_exp_avg_demand]\n",
    "        obs, reward, terminated, truncated, info = eval_env.step(action)  # Return observation and reward\n",
    "        done = terminated or truncated\n",
    "        rewards[alg].append(reward)"
   ],
   "id": "69dab9052eafe443",
   "outputs": [
    {
     "name": "stderr",
     "output_type": "stream",
     "text": [
      "100%|██████████| 1/1 [00:00<00:00, 56.35it/s]\n"
     ]
    }
   ],
   "execution_count": 8
  },
  {
   "metadata": {},
   "cell_type": "markdown",
   "source": "### PPO agent",
   "id": "51731ddd2405586a"
  },
  {
   "metadata": {
    "ExecuteTime": {
     "end_time": "2025-05-08T14:43:56.194044Z",
     "start_time": "2025-05-08T14:43:54.945860Z"
    }
   },
   "cell_type": "code",
   "source": [
    "import torch\n",
    "import torch.nn as nn\n",
    "\n",
    "# import the skrl components to build the RL system\n",
    "from skrl.agents.torch.ppo import PPO, PPO_DEFAULT_CONFIG\n",
    "from skrl.envs.wrappers.torch import wrap_env\n",
    "from skrl.memories.torch import RandomMemory\n",
    "from skrl.resources.preprocessors.torch import RunningStandardScaler\n",
    "from skrl.resources.schedulers.torch import KLAdaptiveRL\n",
    "from skrl.trainers.torch import SequentialTrainer\n",
    "from skrl.utils import set_seed\n",
    "\n",
    "from gym4real.algorithms.dam.ppo_skrl import Policy, Value"
   ],
   "id": "e14600e39ab4b925",
   "outputs": [],
   "execution_count": 9
  },
  {
   "metadata": {
    "ExecuteTime": {
     "end_time": "2025-05-08T14:43:56.530539Z",
     "start_time": "2025-05-08T14:43:56.227204Z"
    }
   },
   "cell_type": "code",
   "source": [
    "params = parameter_generator(\n",
    "    world_options='/media/samuele/Disco/PycharmProjectsUbuntu/gym4ReaL/gym4real/envs/dam/world_train.yaml',\n",
    "    lake_params='/media/samuele/Disco/PycharmProjectsUbuntu/gym4ReaL/gym4real/envs/dam/lake.yaml'\n",
    ")\n",
    "\n",
    "env = gym.make('gym4real/dam-v0', settings=params)\n",
    "env = RescaleAction(env, min_action=-1., max_action=1.)\n",
    "env = wrap_env(env)"
   ],
   "id": "671225dc68f9d183",
   "outputs": [
    {
     "name": "stderr",
     "output_type": "stream",
     "text": [
      "/media/samuele/Disco/PycharmProjectsUbuntu/gym4ReaL/.venv/lib/python3.12/site-packages/gymnasium/spaces/box.py:235: UserWarning: \u001B[33mWARN: Box low's precision lowered by casting to float32, current low.dtype=float64\u001B[0m\n",
      "  gym.logger.warn(\n",
      "/media/samuele/Disco/PycharmProjectsUbuntu/gym4ReaL/.venv/lib/python3.12/site-packages/gymnasium/spaces/box.py:305: UserWarning: \u001B[33mWARN: Box high's precision lowered by casting to float32, current high.dtype=float64\u001B[0m\n",
      "  gym.logger.warn(\n",
      "\u001B[38;20m[skrl:INFO] Environment wrapper: 'auto' (class: gymnasium.core.Env, gymnasium.utils.record_constructor.RecordConstructorArgs, gymnasium.wrappers.transform_action.TransformAction)\u001B[0m\n",
      "\u001B[38;20m[skrl:INFO] Environment wrapper: gymnasium\u001B[0m\n",
      "\u001B[33;20m[skrl:WARNING] Failed to check for a vectorized environment: module 'gymnasium.experimental' has no attribute 'vector'\u001B[0m\n"
     ]
    }
   ],
   "execution_count": 10
  },
  {
   "metadata": {
    "ExecuteTime": {
     "end_time": "2025-05-08T14:43:57.385753Z",
     "start_time": "2025-05-08T14:43:56.549889Z"
    }
   },
   "cell_type": "code",
   "source": [
    "set_seed(123)\n",
    "device =  torch.device('cuda' if torch.cuda.is_available() else 'cpu')\n",
    "net_arch = (16, 16)\n",
    "\n",
    "memory = RandomMemory(memory_size=2048, num_envs=env.num_envs, device=device)\n",
    "\n",
    "models = {}\n",
    "models[\"policy\"] = Policy(env.observation_space, env.action_space, device=device, net_arch=net_arch, initial_log_std=-0.5)#, clip_actions=True)\n",
    "models[\"value\"] = Value(env.observation_space, env.action_space, device=device, net_arch=net_arch)\n",
    "\n",
    "cfg = PPO_DEFAULT_CONFIG.copy()\n",
    "cfg[\"rollouts\"] = 2048\n",
    "cfg[\"learning_epochs\"] = 10\n",
    "cfg[\"mini_batches\"] = 32\n",
    "cfg[\"discount_factor\"] = 0.995\n",
    "cfg[\"lambda\"] = 0.95\n",
    "cfg[\"learning_rate\"] = 1e-4\n",
    "cfg[\"learning_rate_scheduler\"] = KLAdaptiveRL\n",
    "cfg[\"learning_rate_scheduler_kwargs\"] = {\"kl_threshold\": 0.008}\n",
    "cfg[\"grad_norm_clip\"] = 0.5\n",
    "cfg[\"ratio_clip\"] = 0.2\n",
    "cfg[\"value_clip\"] = 0.2\n",
    "cfg[\"clip_predicted_values\"] = False\n",
    "cfg[\"entropy_loss_scale\"] = 0.\n",
    "cfg[\"value_loss_scale\"] = 0.5\n",
    "cfg[\"kl_threshold\"] = 0\n",
    "cfg[\"mixed_precision\"] = True\n",
    "cfg[\"state_preprocessor\"] = RunningStandardScaler\n",
    "cfg[\"state_preprocessor_kwargs\"] = {\"size\": env.observation_space, \"device\": device}\n",
    "cfg[\"value_preprocessor\"] = RunningStandardScaler\n",
    "cfg[\"value_preprocessor_kwargs\"] = {\"size\": 1, \"device\": device}\n",
    "# logging to TensorBoard and write checkpoints (in timesteps)\n",
    "cfg[\"experiment\"][\"write_interval\"] = 500\n",
    "# cfg[\"experiment\"]['experiment_name'] = args['exp_name']\n",
    "cfg[\"experiment\"][\"checkpoint_interval\"] = 500\n",
    "cfg[\"experiment\"][\"directory\"] = \"runs/torch/lake\"\n",
    "\n",
    "agent = PPO(models=models,\n",
    "            memory=memory,\n",
    "            cfg=cfg,\n",
    "            observation_space=env.observation_space,\n",
    "            action_space=env.action_space,\n",
    "            device=device\n",
    "            )\n",
    "\n",
    "cfg_trainer = {\"timesteps\": 100000, \"headless\": True}\n",
    "trainer = SequentialTrainer(cfg=cfg_trainer, env=env, agents=[agent])\n",
    "agent.set_mode(\"eval\")"
   ],
   "id": "6f37cd679c991533",
   "outputs": [
    {
     "name": "stderr",
     "output_type": "stream",
     "text": [
      "\u001B[38;20m[skrl:INFO] Seed: 123\u001B[0m\n"
     ]
    }
   ],
   "execution_count": 11
  },
  {
   "metadata": {
    "ExecuteTime": {
     "end_time": "2025-05-08T14:47:09.318417Z",
     "start_time": "2025-05-08T14:43:57.415542Z"
    }
   },
   "cell_type": "code",
   "source": "trainer.train()",
   "id": "b5b79e27333355c4",
   "outputs": [
    {
     "name": "stdout",
     "output_type": "stream",
     "text": [
      "100%|██████████| 100000/100000 [03:11<00:00, 521.17it/s]\n"
     ]
    }
   ],
   "execution_count": 12
  },
  {
   "metadata": {
    "ExecuteTime": {
     "end_time": "2025-05-08T14:47:09.640800Z",
     "start_time": "2025-05-08T14:47:09.339055Z"
    }
   },
   "cell_type": "code",
   "source": [
    "alg = 'ppo'\n",
    "rewards[alg] = []\n",
    "\n",
    "scaled_eval_env = RescaleAction(eval_env, min_action=-1., max_action=1.)\n",
    "scaled_eval_env = wrap_env(scaled_eval_env)\n",
    "scaled_eval_env.curr_year_data = None\n",
    "\n",
    "with torch.no_grad():\n",
    "\n",
    "    for episode in tqdm(range(n_episodes)):\n",
    "        obs, info = scaled_eval_env.reset()\n",
    "        done = False\n",
    "        timesteps = 0\n",
    "        while not done:\n",
    "            output = agent.act(obs, timesteps, 365)\n",
    "            action = output[-1]['mean_actions']\n",
    "            obs, reward, terminated, truncated, info = scaled_eval_env.step(action)  # Return observation and reward\n",
    "            done = terminated or truncated\n",
    "            rewards[alg].append(reward.item())\n",
    "            timesteps += 1"
   ],
   "id": "5ec44961bb5e745a",
   "outputs": [
    {
     "name": "stderr",
     "output_type": "stream",
     "text": [
      "/media/samuele/Disco/PycharmProjectsUbuntu/gym4ReaL/.venv/lib/python3.12/site-packages/gymnasium/spaces/box.py:235: UserWarning: \u001B[33mWARN: Box low's precision lowered by casting to float32, current low.dtype=float64\u001B[0m\n",
      "  gym.logger.warn(\n",
      "/media/samuele/Disco/PycharmProjectsUbuntu/gym4ReaL/.venv/lib/python3.12/site-packages/gymnasium/spaces/box.py:305: UserWarning: \u001B[33mWARN: Box high's precision lowered by casting to float32, current high.dtype=float64\u001B[0m\n",
      "  gym.logger.warn(\n",
      "\u001B[38;20m[skrl:INFO] Environment wrapper: 'auto' (class: gymnasium.core.Env, gymnasium.utils.record_constructor.RecordConstructorArgs, gymnasium.wrappers.transform_action.TransformAction)\u001B[0m\n",
      "\u001B[38;20m[skrl:INFO] Environment wrapper: gymnasium\u001B[0m\n",
      "\u001B[33;20m[skrl:WARNING] Failed to check for a vectorized environment: module 'gymnasium.experimental' has no attribute 'vector'\u001B[0m\n",
      "100%|██████████| 1/1 [00:00<00:00,  3.70it/s]\n"
     ]
    }
   ],
   "execution_count": 13
  },
  {
   "metadata": {
    "ExecuteTime": {
     "end_time": "2025-05-08T14:47:09.687705Z",
     "start_time": "2025-05-08T14:47:09.662831Z"
    }
   },
   "cell_type": "code",
   "source": [
    "def plot_cum_rewards(res: dict, algs: list, sampling_rate=1):\n",
    "    fig, ax = plt.subplots(1, 1, figsize=(12, 4), tight_layout=True)\n",
    "\n",
    "    for i, alg in enumerate(algs):\n",
    "        ax.plot(res[alg][::sampling_rate], label=alg, color=alg_color[alg], marker=alg_markers[alg], markevery=500)\n",
    "        ax.legend()"
   ],
   "id": "2687c5b4e003c90d",
   "outputs": [],
   "execution_count": 14
  },
  {
   "metadata": {
    "ExecuteTime": {
     "end_time": "2025-05-08T14:47:09.744451Z",
     "start_time": "2025-05-08T14:47:09.721144Z"
    }
   },
   "cell_type": "code",
   "source": "algs_to_compare = ['random', 'fixed_action', 'exp_avg_demand_action', 'ppo']",
   "id": "5f075b9bd6e7181b",
   "outputs": [],
   "execution_count": 15
  },
  {
   "metadata": {
    "ExecuteTime": {
     "end_time": "2025-05-08T14:47:10.017369Z",
     "start_time": "2025-05-08T14:47:09.778914Z"
    }
   },
   "cell_type": "code",
   "source": [
    "rewards = {key: np.array(val) for key, val in rewards.items()}\n",
    "cum_rewards = {key: np.cumsum(val) for key, val in rewards.items()}\n",
    "\n",
    "plot_cum_rewards(res=cum_rewards, algs=algs_to_compare)"
   ],
   "id": "79c9aef332c3134",
   "outputs": [
    {
     "data": {
      "text/plain": [
       "<Figure size 1200x400 with 1 Axes>"
      ],
      "image/png": "[encoded data removed]"
     },
     "metadata": {},
     "output_type": "display_data"
    }
   ],
   "execution_count": 16
  }
 ],
 "metadata": {
  "kernelspec": {
   "display_name": "Python 3",
   "language": "python",
   "name": "python3"
  },
  "language_info": {
   "codemirror_mode": {
    "name": "ipython",
    "version": 2
   },
   "file_extension": ".py",
   "mimetype": "text/x-python",
   "name": "python",
   "nbconvert_exporter": "python",
   "pygments_lexer": "ipython2",
   "version": "2.7.6"
  }
 },
 "nbformat": 4,
 "nbformat_minor": 5
}
