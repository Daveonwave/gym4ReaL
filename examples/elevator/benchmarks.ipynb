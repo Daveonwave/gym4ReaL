{
 "cells": [
  {
   "cell_type": "markdown",
   "id": "c2551241",
   "metadata": {},
   "source": [
    "# Benchmarks for Microgrid environment\n",
    "\n",
    "The notebook provides testing and comparison between deterministic policies and a pretrained RL agent strategies among the `MicroGridEnv` environment."
   ]
  },
  {
   "cell_type": "code",
   "execution_count": 1,
   "id": "756ffdd3",
   "metadata": {
    "ExecuteTime": {
     "end_time": "2025-05-15T08:21:42.176880Z",
     "start_time": "2025-05-15T08:21:42.083748Z"
    }
   },
   "outputs": [
    {
     "name": "stdout",
     "output_type": "stream",
     "text": [
      "/Users/giovannidispoto/Desktop/PhD/gym4ReaL_github/gym4ReaL\n"
     ]
    }
   ],
   "source": [
    "%load_ext autoreload\n",
    "%autoreload 2\n",
    "%matplotlib inline\n",
    "%cd ../.."
   ]
  },
  {
   "cell_type": "code",
   "execution_count": 2,
   "id": "2f82ead8",
   "metadata": {
    "ExecuteTime": {
     "end_time": "2025-05-15T08:21:49.024005Z",
     "start_time": "2025-05-15T08:21:48.905442Z"
    }
   },
   "outputs": [],
   "source": [
    "import matplotlib.pyplot as plt\n",
    "import seaborn as sns\n",
    "import numpy as np\n",
    "from tqdm import tqdm\n",
    "from collections import OrderedDict, defaultdict\n",
    "import gymnasium as gym\n",
    "\n",
    "from gym4real.envs.elevator.utils import parameter_generator"
   ]
  },
  {
   "cell_type": "code",
   "execution_count": 3,
   "id": "4f59cf43",
   "metadata": {
    "ExecuteTime": {
     "end_time": "2025-05-15T08:21:50.251144Z",
     "start_time": "2025-05-15T08:21:50.229662Z"
    }
   },
   "outputs": [],
   "source": [
    "sns.set_theme()\n",
    "sns.set_style('whitegrid')\n",
    "sns.set_context(\"paper\")\n",
    "plot_colors = sns.color_palette('colorblind')\n",
    "sns.set(font_scale=1.2)\n",
    "\n",
    "alg_color = OrderedDict({\n",
    "    'random': plot_colors[1],\n",
    "    'longest_first': plot_colors[2],\n",
    "    'shortest_first': plot_colors[3],\n",
    "    'q-learning': plot_colors[0],\n",
    "    'sarsa': plot_colors[4],\n",
    "    'dqn': plot_colors[5],\n",
    "    'ppo': plot_colors[6],\n",
    "    'fqi': plot_colors[7]\n",
    "})\n",
    "\n",
    "alg_markers = OrderedDict({\n",
    "    'random': '.',\n",
    "    'longest_first': 'o',\n",
    "    'shortest_first': 's',\n",
    "    'q-learning': 's',\n",
    "    'sarsa': 's',\n",
    "})\n",
    "\n",
    "alg_labels = {\n",
    "    'random': 'Random',\n",
    "    'longest_first': 'LF',\n",
    "    'shortest_first': 'SF',\n",
    "    'q-learning': 'Q-Learning',\n",
    "    'sarsa': 'SARSA',\n",
    "    'dqn': 'DQN',\n",
    "    'ppo': 'PPO',\n",
    "    'fqi': 'FQI'\n",
    "}"
   ]
  },
  {
   "cell_type": "code",
   "execution_count": 4,
   "id": "ed53fe83-9efd-422a-bd60-41b7633afe59",
   "metadata": {
    "ExecuteTime": {
     "end_time": "2025-05-15T08:21:56.233721Z",
     "start_time": "2025-05-15T08:21:56.216515Z"
    }
   },
   "outputs": [],
   "source": [
    "# IF RESULTS ARE ALREADY AVAILABLE, GO TO LAST CELLS TO LOAD THEM FROM JSON FILE AND DIRECTLY PLOT THEM!!"
   ]
  },
  {
   "cell_type": "markdown",
   "id": "733076f5",
   "metadata": {},
   "source": [
    "## Deterministic policies\n",
    "Here we can evaluate different rule-based and deterministic policies.\n",
    "Hereafter we will test:\n",
    "1. random action policy\n",
    "2. longest-first policy"
   ]
  },
  {
   "cell_type": "code",
   "execution_count": 5,
   "id": "33b1615b",
   "metadata": {
    "ExecuteTime": {
     "end_time": "2025-05-15T08:25:09.727951Z",
     "start_time": "2025-05-15T08:25:09.693407Z"
    }
   },
   "outputs": [],
   "source": [
    "# Test profiles belonging to the test set\n",
    "rewards = defaultdict(dict)\n",
    "eval_episodes = 30"
   ]
  },
  {
   "cell_type": "markdown",
   "id": "fe3c54d0",
   "metadata": {},
   "source": [
    "<h3> Random Policy: </h3>\n",
    "The action is chosen randomly at each decision step."
   ]
  },
  {
   "cell_type": "code",
   "execution_count": 6,
   "id": "0e3e6651",
   "metadata": {
    "scrolled": true,
    "ExecuteTime": {
     "end_time": "2025-05-15T08:25:12.377552Z",
     "start_time": "2025-05-15T08:25:11.204130Z"
    }
   },
   "outputs": [
    {
     "name": "stderr",
     "output_type": "stream",
     "text": [
      "  0%|          | 0/30 [00:00<?, ?it/s]/Users/giovannidispoto/miniforge3/envs/gym4real/lib/python3.12/site-packages/gymnasium/utils/passive_env_checker.py:139: UserWarning: \u001B[33mWARN: The obs returned by the `reset()` method was expecting a numpy array, actual type: <class 'list'>\u001B[0m\n",
      "  logger.warn(f\"{pre} was expecting a numpy array, actual type: {type(obs)}\")\n",
      "/Users/giovannidispoto/miniforge3/envs/gym4real/lib/python3.12/site-packages/gymnasium/utils/passive_env_checker.py:139: UserWarning: \u001B[33mWARN: The obs returned by the `step()` method was expecting a numpy array, actual type: <class 'list'>\u001B[0m\n",
      "  logger.warn(f\"{pre} was expecting a numpy array, actual type: {type(obs)}\")\n",
      "100%|██████████| 30/30 [00:01<00:00, 26.85it/s]\n"
     ]
    }
   ],
   "source": [
    "params = parameter_generator(world_options='gym4real/envs/elevator/world.yaml', seed=1234)\n",
    "env = gym.make(id=\"gym4real/elevator-v0\", **{'settings':params})\n",
    "\n",
    "alg = 'random'\n",
    "rewards[alg] = {}\n",
    "\n",
    "for episode in tqdm(range(eval_episodes)):\n",
    "    obs, info = env.reset()\n",
    "    done = False\n",
    "    cumulated_reward = 0\n",
    "    rewards[alg][episode] = {}\n",
    "    rewards[alg][episode]['cum'] = []\n",
    "    rewards[alg][episode]['reward'] = []\n",
    "    \n",
    "    while not done:\n",
    "        action = env.action_space.sample()  # Randomly select an action\n",
    "        obs, reward, terminated, truncated, info = env.step(action)  \n",
    "        done = terminated or truncated\n",
    "        cumulated_reward += reward\n",
    "        rewards[alg][episode]['cum'].append(cumulated_reward)\n",
    "        rewards[alg][episode]['reward'].append(reward)"
   ]
  },
  {
   "cell_type": "markdown",
   "id": "85f24d08",
   "metadata": {},
   "source": [
    "<h3> Longest First Policy: </h3>\n",
    "The action chosen is the one that allows for handling the **longest** queue at the moment. However, if some passengers are already inside the elevator, they are served immediately, even if the elevator is not at full capacity."
   ]
  },
  {
   "cell_type": "code",
   "execution_count": 7,
   "id": "9c1a8ff2",
   "metadata": {
    "ExecuteTime": {
     "end_time": "2025-05-15T08:25:17.414149Z",
     "start_time": "2025-05-15T08:25:16.444491Z"
    }
   },
   "outputs": [
    {
     "name": "stderr",
     "output_type": "stream",
     "text": [
      "100%|██████████| 30/30 [00:00<00:00, 31.89it/s]\n"
     ]
    }
   ],
   "source": [
    "params = parameter_generator(world_options='gym4real/envs/elevator/world.yaml', seed=1234)\n",
    "env = gym.make(id=\"gym4real/elevator-v0\", **{'settings':params})\n",
    "\n",
    "alg = 'longest_first'\n",
    "rewards[alg] = {}\n",
    "\n",
    "for episode in tqdm(range(eval_episodes)):\n",
    "    obs, info = env.reset()\n",
    "    done = False\n",
    "    cumulated_reward = 0\n",
    "    rewards[alg][episode] = {}\n",
    "    rewards[alg][episode]['cum'] = []\n",
    "    rewards[alg][episode]['reward'] = []\n",
    "    \n",
    "    while not done:\n",
    "        if obs['n_passengers'] > 0:\n",
    "            if obs['current_position'] * info['movement_speed'] / info['floor_height'] == info['goal_floor']:\n",
    "                action = 1  # stay still\n",
    "            else:\n",
    "                action = 0  # move down\n",
    "        else:\n",
    "            # Check if any passengers are waiting on the current floor\n",
    "            len_max_queue, idx_max_queue = max((queue, idx+1) for idx, queue in enumerate(obs['floor_queues']))\n",
    "            \n",
    "            if len_max_queue == 0:\n",
    "                action = 1  # stay still\n",
    "            else:\n",
    "                if obs['current_position'] * info['movement_speed'] == (idx_max_queue) * info['floor_height']:\n",
    "                    action = 1  # stay still\n",
    "                elif obs['current_position'] * info['movement_speed'] < (idx_max_queue) * info['floor_height']:\n",
    "                    action = 2  # move up            \n",
    "                elif obs['current_position'] * info['movement_speed'] > (idx_max_queue) * info['floor_height']:\n",
    "                    action = 0\n",
    "                else:\n",
    "                    action = 1\n",
    "                    \n",
    "        obs, reward, terminated, truncated, info = env.step(action)  \n",
    "        done = terminated or truncated\n",
    "        cumulated_reward += reward\n",
    "        rewards[alg][episode]['cum'].append(cumulated_reward)\n",
    "        rewards[alg][episode]['reward'].append(reward)"
   ]
  },
  {
   "cell_type": "markdown",
   "id": "4d4cf9a6",
   "metadata": {},
   "source": [
    "<h3> Shortest First Policy: </h3>\n",
    "The action chosen is the one that allows for handling the **shortest** queue at the moment. However, if some passengers are already inside the elevator, they are served immediately, even if the elevator is not at full capacity."
   ]
  },
  {
   "cell_type": "code",
   "execution_count": 8,
   "id": "670df112",
   "metadata": {
    "scrolled": true,
    "ExecuteTime": {
     "end_time": "2025-05-15T08:25:19.818743Z",
     "start_time": "2025-05-15T08:25:18.835330Z"
    }
   },
   "outputs": [
    {
     "name": "stderr",
     "output_type": "stream",
     "text": [
      "100%|██████████| 30/30 [00:00<00:00, 31.21it/s]\n"
     ]
    }
   ],
   "source": [
    "params = parameter_generator(world_options='gym4real/envs/elevator/world.yaml', seed=1234)\n",
    "env = gym.make(id=\"gym4real/elevator-v0\", **{'settings':params})\n",
    "\n",
    "alg = 'shortest_first'\n",
    "rewards[alg] = {}\n",
    "\n",
    "for episode in tqdm(range(eval_episodes)):\n",
    "    obs, info = env.reset()\n",
    "    done = False\n",
    "    cumulated_reward = 0\n",
    "    rewards[alg][episode] = {}\n",
    "    rewards[alg][episode]['cum'] = []\n",
    "    rewards[alg][episode]['reward'] = []\n",
    "    \n",
    "    while not done:\n",
    "        if obs['n_passengers'] > 0:\n",
    "            if obs['current_position'] * info['movement_speed'] / info['floor_height'] == info['goal_floor']:\n",
    "                action = 1  # stay still\n",
    "            else:    \n",
    "                action = 0  # move down\n",
    "        else:\n",
    "            # Check if any passengers are waiting on the current floor\n",
    "            if sum([queue for queue in obs['floor_queues']]) > 0:\n",
    "                len_min_queue, idx_min_queue = min((queue, idx+1) for idx, queue in enumerate(obs['floor_queues']) if queue > 0)\n",
    "            \n",
    "                if obs['current_position'] * info['movement_speed'] == (idx_min_queue) * info['floor_height']:\n",
    "                    action = 1  # stay still\n",
    "                elif obs['current_position'] * info['movement_speed'] < (idx_min_queue) * info['floor_height']:\n",
    "                    action = 2  # move up            \n",
    "                else: \n",
    "                    action = 0  # move down\n",
    "            else:\n",
    "                action = 1\n",
    "                    \n",
    "        obs, reward, terminated, truncated, info = env.step(action)  \n",
    "        done = terminated or truncated\n",
    "        cumulated_reward += reward\n",
    "        rewards[alg][episode]['cum'].append(cumulated_reward)\n",
    "        rewards[alg][episode]['reward'].append(reward)"
   ]
  },
  {
   "cell_type": "markdown",
   "id": "b6fea41f-49ae-4efb-b41b-828aa821f0fe",
   "metadata": {},
   "source": [
    "### Q-Learning\n",
    "Here we load a custom pre-trained `Q-Learning` model."
   ]
  },
  {
   "cell_type": "code",
   "execution_count": 9,
   "id": "729f6789-5f41-48ab-8ea9-a447ebec59ff",
   "metadata": {
    "ExecuteTime": {
     "end_time": "2025-05-15T08:25:22.120432Z",
     "start_time": "2025-05-15T08:25:22.098831Z"
    }
   },
   "outputs": [],
   "source": [
    "import pickle\n",
    "\n",
    "def default_q_values():\n",
    "        return np.zeros(3)\n",
    "\n",
    "def obs_to_key(obs):\n",
    "    # Manually flatten the dict to a tuple of ints\n",
    "    return (\n",
    "        obs['current_position'],\n",
    "        obs['n_passengers'],\n",
    "        *obs['floor_queues'],\n",
    "        *obs['arrivals']\n",
    "    )"
   ]
  },
  {
   "cell_type": "code",
   "execution_count": 10,
   "id": "a9a3e52e-a5c2-424b-8822-0efecaca861f",
   "metadata": {
    "ExecuteTime": {
     "end_time": "2025-05-15T08:25:24.603993Z",
     "start_time": "2025-05-15T08:25:22.812013Z"
    }
   },
   "outputs": [
    {
     "name": "stderr",
     "output_type": "stream",
     "text": [
      "100%|██████████| 30/30 [00:01<00:00, 25.70it/s]\n"
     ]
    }
   ],
   "source": [
    "params = parameter_generator(world_options='gym4real/envs/elevator/world.yaml', seed=1234)\n",
    "env = gym.make(id=\"gym4real/elevator-v0\", **{'settings':params})\n",
    "\n",
    "alg = 'q-learning'\n",
    "rewards[alg] = {}\n",
    "with open('examples/elevator/trained_models/trained_qlearning_Qtable.pkl', 'rb') as f:\n",
    "    Q = pickle.load(f)\n",
    "\n",
    "for episode in tqdm(range(eval_episodes)):\n",
    "    obs, _ = env.reset()\n",
    "    obs_key = obs_to_key(obs)\n",
    "\n",
    "    done = False\n",
    "    cumulated_reward = 0\n",
    "    rewards[alg][episode] = {}\n",
    "    rewards[alg][episode]['cum'] = []\n",
    "    rewards[alg][episode]['reward'] = []\n",
    "    \n",
    "    while not done:\n",
    "        action = np.argmax(Q[obs_key])  # Exploit learned values\n",
    "        new_obs, reward, terminated, truncated, _ = env.step(action)\n",
    "        new_obs_key = obs_to_key(new_obs)\n",
    "        \n",
    "        cumulated_reward += reward\n",
    "        done = terminated or truncated\n",
    "        obs_key = new_obs_key\n",
    "\n",
    "        rewards[alg][episode]['cum'].append(cumulated_reward)\n",
    "        rewards[alg][episode]['reward'].append(reward)"
   ]
  },
  {
   "cell_type": "markdown",
   "id": "1e8bd737-1cef-4ec6-8f10-3bfcbda8778b",
   "metadata": {},
   "source": [
    "### SARSA"
   ]
  },
  {
   "cell_type": "code",
   "execution_count": 11,
   "id": "bc059d4c-e396-4abf-929e-109b56aac27c",
   "metadata": {
    "ExecuteTime": {
     "end_time": "2025-05-15T08:25:26.377001Z",
     "start_time": "2025-05-15T08:25:24.604926Z"
    }
   },
   "outputs": [
    {
     "name": "stderr",
     "output_type": "stream",
     "text": [
      "100%|██████████| 30/30 [00:01<00:00, 25.74it/s]\n"
     ]
    }
   ],
   "source": [
    "params = parameter_generator(world_options='gym4real/envs/elevator/world.yaml', seed=1234)\n",
    "env = gym.make(id=\"gym4real/elevator-v0\", **{'settings':params})\n",
    "\n",
    "alg = 'sarsa'\n",
    "rewards[alg] = {}\n",
    "with open('examples/elevator/trained_models/trained_sarsa_Qtable.pkl', 'rb') as f:\n",
    "    Q = pickle.load(f)\n",
    "\n",
    "for episode in tqdm(range(eval_episodes)):\n",
    "    obs, _ = env.reset()\n",
    "    obs_key = obs_to_key(obs)\n",
    "\n",
    "    done = False\n",
    "    cumulated_reward = 0\n",
    "    rewards[alg][episode] = {}\n",
    "    rewards[alg][episode]['cum'] = []\n",
    "    rewards[alg][episode]['reward'] = []\n",
    "    \n",
    "    while not done:\n",
    "        action = np.argmax(Q[obs_key])  # Exploit learned values\n",
    "        new_obs, reward, terminated, truncated, _ = env.step(action)\n",
    "        new_obs_key = obs_to_key(new_obs)\n",
    "        \n",
    "        cumulated_reward += reward\n",
    "        done = terminated or truncated\n",
    "        obs_key = new_obs_key\n",
    "\n",
    "        rewards[alg][episode]['cum'].append(cumulated_reward)\n",
    "        rewards[alg][episode]['reward'].append(reward)"
   ]
  },
  {
   "cell_type": "markdown",
   "id": "706e0a44",
   "metadata": {},
   "source": [
    "## Result analysis\n",
    "Here we compare the average cumulated reward across all the test profiles among the different methods."
   ]
  },
  {
   "cell_type": "code",
   "execution_count": 12,
   "id": "51413190-0a1a-45a3-aefe-403af3cc5ca8",
   "metadata": {
    "ExecuteTime": {
     "end_time": "2025-05-15T08:25:34.595271Z",
     "start_time": "2025-05-15T08:25:33.708290Z"
    }
   },
   "outputs": [
    {
     "ename": "FileNotFoundError",
     "evalue": "[Errno 2] No such file or directory: '/plots/elevator_avg_reward.pdf'",
     "output_type": "error",
     "traceback": [
      "\u001B[31m---------------------------------------------------------------------------\u001B[39m",
      "\u001B[31mFileNotFoundError\u001B[39m                         Traceback (most recent call last)",
      "\u001B[36mCell\u001B[39m\u001B[36m \u001B[39m\u001B[32mIn[12]\u001B[39m\u001B[32m, line 12\u001B[39m\n\u001B[32m     10\u001B[39m     ax.fill_between(\u001B[38;5;28mrange\u001B[39m(\u001B[38;5;28mlen\u001B[39m(means)), means + ci, means - ci, color=alg_color[alg], alpha=\u001B[32m0.1\u001B[39m)\n\u001B[32m     11\u001B[39m     ax.legend()\n\u001B[32m---> \u001B[39m\u001B[32m12\u001B[39m \u001B[43mplt\u001B[49m\u001B[43m.\u001B[49m\u001B[43msavefig\u001B[49m\u001B[43m(\u001B[49m\u001B[33;43m'\u001B[39;49m\u001B[33;43m/plots/elevator_avg_reward.pdf\u001B[39;49m\u001B[33;43m'\u001B[39;49m\u001B[43m)\u001B[49m\n",
      "\u001B[36mFile \u001B[39m\u001B[32m~/miniforge3/envs/gym4real/lib/python3.12/site-packages/matplotlib/pyplot.py:1243\u001B[39m, in \u001B[36msavefig\u001B[39m\u001B[34m(*args, **kwargs)\u001B[39m\n\u001B[32m   1240\u001B[39m fig = gcf()\n\u001B[32m   1241\u001B[39m \u001B[38;5;66;03m# savefig default implementation has no return, so mypy is unhappy\u001B[39;00m\n\u001B[32m   1242\u001B[39m \u001B[38;5;66;03m# presumably this is here because subclasses can return?\u001B[39;00m\n\u001B[32m-> \u001B[39m\u001B[32m1243\u001B[39m res = \u001B[43mfig\u001B[49m\u001B[43m.\u001B[49m\u001B[43msavefig\u001B[49m\u001B[43m(\u001B[49m\u001B[43m*\u001B[49m\u001B[43margs\u001B[49m\u001B[43m,\u001B[49m\u001B[43m \u001B[49m\u001B[43m*\u001B[49m\u001B[43m*\u001B[49m\u001B[43mkwargs\u001B[49m\u001B[43m)\u001B[49m  \u001B[38;5;66;03m# type: ignore[func-returns-value]\u001B[39;00m\n\u001B[32m   1244\u001B[39m fig.canvas.draw_idle()  \u001B[38;5;66;03m# Need this if 'transparent=True', to reset colors.\u001B[39;00m\n\u001B[32m   1245\u001B[39m \u001B[38;5;28;01mreturn\u001B[39;00m res\n",
      "\u001B[36mFile \u001B[39m\u001B[32m~/miniforge3/envs/gym4real/lib/python3.12/site-packages/matplotlib/figure.py:3490\u001B[39m, in \u001B[36mFigure.savefig\u001B[39m\u001B[34m(self, fname, transparent, **kwargs)\u001B[39m\n\u001B[32m   3488\u001B[39m     \u001B[38;5;28;01mfor\u001B[39;00m ax \u001B[38;5;129;01min\u001B[39;00m \u001B[38;5;28mself\u001B[39m.axes:\n\u001B[32m   3489\u001B[39m         _recursively_make_axes_transparent(stack, ax)\n\u001B[32m-> \u001B[39m\u001B[32m3490\u001B[39m \u001B[38;5;28;43mself\u001B[39;49m\u001B[43m.\u001B[49m\u001B[43mcanvas\u001B[49m\u001B[43m.\u001B[49m\u001B[43mprint_figure\u001B[49m\u001B[43m(\u001B[49m\u001B[43mfname\u001B[49m\u001B[43m,\u001B[49m\u001B[43m \u001B[49m\u001B[43m*\u001B[49m\u001B[43m*\u001B[49m\u001B[43mkwargs\u001B[49m\u001B[43m)\u001B[49m\n",
      "\u001B[36mFile \u001B[39m\u001B[32m~/miniforge3/envs/gym4real/lib/python3.12/site-packages/matplotlib/backend_bases.py:2184\u001B[39m, in \u001B[36mFigureCanvasBase.print_figure\u001B[39m\u001B[34m(self, filename, dpi, facecolor, edgecolor, orientation, format, bbox_inches, pad_inches, bbox_extra_artists, backend, **kwargs)\u001B[39m\n\u001B[32m   2180\u001B[39m \u001B[38;5;28;01mtry\u001B[39;00m:\n\u001B[32m   2181\u001B[39m     \u001B[38;5;66;03m# _get_renderer may change the figure dpi (as vector formats\u001B[39;00m\n\u001B[32m   2182\u001B[39m     \u001B[38;5;66;03m# force the figure dpi to 72), so we need to set it again here.\u001B[39;00m\n\u001B[32m   2183\u001B[39m     \u001B[38;5;28;01mwith\u001B[39;00m cbook._setattr_cm(\u001B[38;5;28mself\u001B[39m.figure, dpi=dpi):\n\u001B[32m-> \u001B[39m\u001B[32m2184\u001B[39m         result = \u001B[43mprint_method\u001B[49m\u001B[43m(\u001B[49m\n\u001B[32m   2185\u001B[39m \u001B[43m            \u001B[49m\u001B[43mfilename\u001B[49m\u001B[43m,\u001B[49m\n\u001B[32m   2186\u001B[39m \u001B[43m            \u001B[49m\u001B[43mfacecolor\u001B[49m\u001B[43m=\u001B[49m\u001B[43mfacecolor\u001B[49m\u001B[43m,\u001B[49m\n\u001B[32m   2187\u001B[39m \u001B[43m            \u001B[49m\u001B[43medgecolor\u001B[49m\u001B[43m=\u001B[49m\u001B[43medgecolor\u001B[49m\u001B[43m,\u001B[49m\n\u001B[32m   2188\u001B[39m \u001B[43m            \u001B[49m\u001B[43morientation\u001B[49m\u001B[43m=\u001B[49m\u001B[43morientation\u001B[49m\u001B[43m,\u001B[49m\n\u001B[32m   2189\u001B[39m \u001B[43m            \u001B[49m\u001B[43mbbox_inches_restore\u001B[49m\u001B[43m=\u001B[49m\u001B[43m_bbox_inches_restore\u001B[49m\u001B[43m,\u001B[49m\n\u001B[32m   2190\u001B[39m \u001B[43m            \u001B[49m\u001B[43m*\u001B[49m\u001B[43m*\u001B[49m\u001B[43mkwargs\u001B[49m\u001B[43m)\u001B[49m\n\u001B[32m   2191\u001B[39m \u001B[38;5;28;01mfinally\u001B[39;00m:\n\u001B[32m   2192\u001B[39m     \u001B[38;5;28;01mif\u001B[39;00m bbox_inches \u001B[38;5;129;01mand\u001B[39;00m restore_bbox:\n",
      "\u001B[36mFile \u001B[39m\u001B[32m~/miniforge3/envs/gym4real/lib/python3.12/site-packages/matplotlib/backend_bases.py:2040\u001B[39m, in \u001B[36mFigureCanvasBase._switch_canvas_and_return_print_method.<locals>.<lambda>\u001B[39m\u001B[34m(*args, **kwargs)\u001B[39m\n\u001B[32m   2036\u001B[39m     optional_kws = {  \u001B[38;5;66;03m# Passed by print_figure for other renderers.\u001B[39;00m\n\u001B[32m   2037\u001B[39m         \u001B[33m\"\u001B[39m\u001B[33mdpi\u001B[39m\u001B[33m\"\u001B[39m, \u001B[33m\"\u001B[39m\u001B[33mfacecolor\u001B[39m\u001B[33m\"\u001B[39m, \u001B[33m\"\u001B[39m\u001B[33medgecolor\u001B[39m\u001B[33m\"\u001B[39m, \u001B[33m\"\u001B[39m\u001B[33morientation\u001B[39m\u001B[33m\"\u001B[39m,\n\u001B[32m   2038\u001B[39m         \u001B[33m\"\u001B[39m\u001B[33mbbox_inches_restore\u001B[39m\u001B[33m\"\u001B[39m}\n\u001B[32m   2039\u001B[39m     skip = optional_kws - {*inspect.signature(meth).parameters}\n\u001B[32m-> \u001B[39m\u001B[32m2040\u001B[39m     print_method = functools.wraps(meth)(\u001B[38;5;28;01mlambda\u001B[39;00m *args, **kwargs: \u001B[43mmeth\u001B[49m\u001B[43m(\u001B[49m\n\u001B[32m   2041\u001B[39m \u001B[43m        \u001B[49m\u001B[43m*\u001B[49m\u001B[43margs\u001B[49m\u001B[43m,\u001B[49m\u001B[43m \u001B[49m\u001B[43m*\u001B[49m\u001B[43m*\u001B[49m\u001B[43m{\u001B[49m\u001B[43mk\u001B[49m\u001B[43m:\u001B[49m\u001B[43m \u001B[49m\u001B[43mv\u001B[49m\u001B[43m \u001B[49m\u001B[38;5;28;43;01mfor\u001B[39;49;00m\u001B[43m \u001B[49m\u001B[43mk\u001B[49m\u001B[43m,\u001B[49m\u001B[43m \u001B[49m\u001B[43mv\u001B[49m\u001B[43m \u001B[49m\u001B[38;5;129;43;01min\u001B[39;49;00m\u001B[43m \u001B[49m\u001B[43mkwargs\u001B[49m\u001B[43m.\u001B[49m\u001B[43mitems\u001B[49m\u001B[43m(\u001B[49m\u001B[43m)\u001B[49m\u001B[43m \u001B[49m\u001B[38;5;28;43;01mif\u001B[39;49;00m\u001B[43m \u001B[49m\u001B[43mk\u001B[49m\u001B[43m \u001B[49m\u001B[38;5;129;43;01mnot\u001B[39;49;00m\u001B[43m \u001B[49m\u001B[38;5;129;43;01min\u001B[39;49;00m\u001B[43m \u001B[49m\u001B[43mskip\u001B[49m\u001B[43m}\u001B[49m\u001B[43m)\u001B[49m)\n\u001B[32m   2042\u001B[39m \u001B[38;5;28;01melse\u001B[39;00m:  \u001B[38;5;66;03m# Let third-parties do as they see fit.\u001B[39;00m\n\u001B[32m   2043\u001B[39m     print_method = meth\n",
      "\u001B[36mFile \u001B[39m\u001B[32m~/miniforge3/envs/gym4real/lib/python3.12/site-packages/matplotlib/backends/backend_pdf.py:2779\u001B[39m, in \u001B[36mFigureCanvasPdf.print_pdf\u001B[39m\u001B[34m(self, filename, bbox_inches_restore, metadata)\u001B[39m\n\u001B[32m   2777\u001B[39m     file = filename._ensure_file()\n\u001B[32m   2778\u001B[39m \u001B[38;5;28;01melse\u001B[39;00m:\n\u001B[32m-> \u001B[39m\u001B[32m2779\u001B[39m     file = \u001B[43mPdfFile\u001B[49m\u001B[43m(\u001B[49m\u001B[43mfilename\u001B[49m\u001B[43m,\u001B[49m\u001B[43m \u001B[49m\u001B[43mmetadata\u001B[49m\u001B[43m=\u001B[49m\u001B[43mmetadata\u001B[49m\u001B[43m)\u001B[49m\n\u001B[32m   2780\u001B[39m \u001B[38;5;28;01mtry\u001B[39;00m:\n\u001B[32m   2781\u001B[39m     file.newPage(width, height)\n",
      "\u001B[36mFile \u001B[39m\u001B[32m~/miniforge3/envs/gym4real/lib/python3.12/site-packages/matplotlib/backends/backend_pdf.py:687\u001B[39m, in \u001B[36mPdfFile.__init__\u001B[39m\u001B[34m(self, filename, metadata)\u001B[39m\n\u001B[32m    685\u001B[39m \u001B[38;5;28mself\u001B[39m.original_file_like = \u001B[38;5;28;01mNone\u001B[39;00m\n\u001B[32m    686\u001B[39m \u001B[38;5;28mself\u001B[39m.tell_base = \u001B[32m0\u001B[39m\n\u001B[32m--> \u001B[39m\u001B[32m687\u001B[39m fh, opened = \u001B[43mcbook\u001B[49m\u001B[43m.\u001B[49m\u001B[43mto_filehandle\u001B[49m\u001B[43m(\u001B[49m\u001B[43mfilename\u001B[49m\u001B[43m,\u001B[49m\u001B[43m \u001B[49m\u001B[33;43m\"\u001B[39;49m\u001B[33;43mwb\u001B[39;49m\u001B[33;43m\"\u001B[39;49m\u001B[43m,\u001B[49m\u001B[43m \u001B[49m\u001B[43mreturn_opened\u001B[49m\u001B[43m=\u001B[49m\u001B[38;5;28;43;01mTrue\u001B[39;49;00m\u001B[43m)\u001B[49m\n\u001B[32m    688\u001B[39m \u001B[38;5;28;01mif\u001B[39;00m \u001B[38;5;129;01mnot\u001B[39;00m opened:\n\u001B[32m    689\u001B[39m     \u001B[38;5;28;01mtry\u001B[39;00m:\n",
      "\u001B[36mFile \u001B[39m\u001B[32m~/miniforge3/envs/gym4real/lib/python3.12/site-packages/matplotlib/cbook.py:546\u001B[39m, in \u001B[36mto_filehandle\u001B[39m\u001B[34m(fname, flag, return_opened, encoding)\u001B[39m\n\u001B[32m    544\u001B[39m         fh = bz2.BZ2File(fname, flag)\n\u001B[32m    545\u001B[39m     \u001B[38;5;28;01melse\u001B[39;00m:\n\u001B[32m--> \u001B[39m\u001B[32m546\u001B[39m         fh = \u001B[38;5;28;43mopen\u001B[39;49m\u001B[43m(\u001B[49m\u001B[43mfname\u001B[49m\u001B[43m,\u001B[49m\u001B[43m \u001B[49m\u001B[43mflag\u001B[49m\u001B[43m,\u001B[49m\u001B[43m \u001B[49m\u001B[43mencoding\u001B[49m\u001B[43m=\u001B[49m\u001B[43mencoding\u001B[49m\u001B[43m)\u001B[49m\n\u001B[32m    547\u001B[39m     opened = \u001B[38;5;28;01mTrue\u001B[39;00m\n\u001B[32m    548\u001B[39m \u001B[38;5;28;01melif\u001B[39;00m \u001B[38;5;28mhasattr\u001B[39m(fname, \u001B[33m'\u001B[39m\u001B[33mseek\u001B[39m\u001B[33m'\u001B[39m):\n",
      "\u001B[31mFileNotFoundError\u001B[39m: [Errno 2] No such file or directory: '/plots/elevator_avg_reward.pdf'"
     ]
    },
    {
     "data": {
      "text/plain": "<Figure size 500x350 with 1 Axes>",
      "image/png": "[encoded data removed]"
     },
     "metadata": {},
     "output_type": "display_data"
    }
   ],
   "source": [
    "fig, ax = plt.subplots(1, 1, figsize=(5, 3.5), tight_layout=True)\n",
    "\n",
    "for i, alg in enumerate(rewards.keys()):\n",
    "    cum_rewards = [rewards[alg][episode]['cum'] for episode in range(eval_episodes)]\n",
    "    means = np.mean(cum_rewards, axis=0)\n",
    "    stds = np.std(cum_rewards, axis=0)\n",
    "    ci = 1.96 * stds/np.sqrt(len(rewards[alg].keys()))\n",
    "    \n",
    "    ax.plot(means, label=alg_labels[alg], color=alg_color[alg])        \n",
    "    ax.fill_between(range(len(means)), means + ci, means - ci, color=alg_color[alg], alpha=0.1)\n",
    "    ax.legend()\n",
    "plt.savefig('/plots/elevator_avg_reward.pdf')"
   ]
  },
  {
   "cell_type": "code",
   "execution_count": 13,
   "id": "5bbf8626-a7fe-4699-9b69-acee15543ee6",
   "metadata": {
    "ExecuteTime": {
     "end_time": "2025-05-15T08:25:42.280330Z",
     "start_time": "2025-05-15T08:25:42.065740Z"
    }
   },
   "outputs": [
    {
     "ename": "FileNotFoundError",
     "evalue": "[Errno 2] No such file or directory: '/plots/elevator-boxplot.pdf'",
     "output_type": "error",
     "traceback": [
      "\u001B[31m---------------------------------------------------------------------------\u001B[39m",
      "\u001B[31mFileNotFoundError\u001B[39m                         Traceback (most recent call last)",
      "\u001B[36mCell\u001B[39m\u001B[36m \u001B[39m\u001B[32mIn[13]\u001B[39m\u001B[32m, line 34\u001B[39m\n\u001B[32m     22\u001B[39m vertical_offset = \u001B[32m3000\u001B[39m \u001B[38;5;66;03m# offset from median for display\u001B[39;00m\n\u001B[32m     24\u001B[39m \u001B[33;03m\"\"\"\u001B[39;00m\n\u001B[32m     25\u001B[39m \u001B[33;03mfor xtick, alg in zip(box_plot.get_xticks(), rewards.keys()):\u001B[39;00m\n\u001B[32m     26\u001B[39m \u001B[33;03m    box_plot.text(xtick, \u001B[39;00m\n\u001B[32m   (...)\u001B[39m\u001B[32m     32\u001B[39m \u001B[33;03m                  weight='semibold')\u001B[39;00m\n\u001B[32m     33\u001B[39m \u001B[33;03m                  \"\"\"\u001B[39;00m\n\u001B[32m---> \u001B[39m\u001B[32m34\u001B[39m \u001B[43mplt\u001B[49m\u001B[43m.\u001B[49m\u001B[43msavefig\u001B[49m\u001B[43m(\u001B[49m\u001B[33;43m\"\u001B[39;49m\u001B[33;43m/plots/elevator-boxplot.pdf\u001B[39;49m\u001B[33;43m\"\u001B[39;49m\u001B[43m)\u001B[49m\n",
      "\u001B[36mFile \u001B[39m\u001B[32m~/miniforge3/envs/gym4real/lib/python3.12/site-packages/matplotlib/pyplot.py:1243\u001B[39m, in \u001B[36msavefig\u001B[39m\u001B[34m(*args, **kwargs)\u001B[39m\n\u001B[32m   1240\u001B[39m fig = gcf()\n\u001B[32m   1241\u001B[39m \u001B[38;5;66;03m# savefig default implementation has no return, so mypy is unhappy\u001B[39;00m\n\u001B[32m   1242\u001B[39m \u001B[38;5;66;03m# presumably this is here because subclasses can return?\u001B[39;00m\n\u001B[32m-> \u001B[39m\u001B[32m1243\u001B[39m res = \u001B[43mfig\u001B[49m\u001B[43m.\u001B[49m\u001B[43msavefig\u001B[49m\u001B[43m(\u001B[49m\u001B[43m*\u001B[49m\u001B[43margs\u001B[49m\u001B[43m,\u001B[49m\u001B[43m \u001B[49m\u001B[43m*\u001B[49m\u001B[43m*\u001B[49m\u001B[43mkwargs\u001B[49m\u001B[43m)\u001B[49m  \u001B[38;5;66;03m# type: ignore[func-returns-value]\u001B[39;00m\n\u001B[32m   1244\u001B[39m fig.canvas.draw_idle()  \u001B[38;5;66;03m# Need this if 'transparent=True', to reset colors.\u001B[39;00m\n\u001B[32m   1245\u001B[39m \u001B[38;5;28;01mreturn\u001B[39;00m res\n",
      "\u001B[36mFile \u001B[39m\u001B[32m~/miniforge3/envs/gym4real/lib/python3.12/site-packages/matplotlib/figure.py:3490\u001B[39m, in \u001B[36mFigure.savefig\u001B[39m\u001B[34m(self, fname, transparent, **kwargs)\u001B[39m\n\u001B[32m   3488\u001B[39m     \u001B[38;5;28;01mfor\u001B[39;00m ax \u001B[38;5;129;01min\u001B[39;00m \u001B[38;5;28mself\u001B[39m.axes:\n\u001B[32m   3489\u001B[39m         _recursively_make_axes_transparent(stack, ax)\n\u001B[32m-> \u001B[39m\u001B[32m3490\u001B[39m \u001B[38;5;28;43mself\u001B[39;49m\u001B[43m.\u001B[49m\u001B[43mcanvas\u001B[49m\u001B[43m.\u001B[49m\u001B[43mprint_figure\u001B[49m\u001B[43m(\u001B[49m\u001B[43mfname\u001B[49m\u001B[43m,\u001B[49m\u001B[43m \u001B[49m\u001B[43m*\u001B[49m\u001B[43m*\u001B[49m\u001B[43mkwargs\u001B[49m\u001B[43m)\u001B[49m\n",
      "\u001B[36mFile \u001B[39m\u001B[32m~/miniforge3/envs/gym4real/lib/python3.12/site-packages/matplotlib/backend_bases.py:2184\u001B[39m, in \u001B[36mFigureCanvasBase.print_figure\u001B[39m\u001B[34m(self, filename, dpi, facecolor, edgecolor, orientation, format, bbox_inches, pad_inches, bbox_extra_artists, backend, **kwargs)\u001B[39m\n\u001B[32m   2180\u001B[39m \u001B[38;5;28;01mtry\u001B[39;00m:\n\u001B[32m   2181\u001B[39m     \u001B[38;5;66;03m# _get_renderer may change the figure dpi (as vector formats\u001B[39;00m\n\u001B[32m   2182\u001B[39m     \u001B[38;5;66;03m# force the figure dpi to 72), so we need to set it again here.\u001B[39;00m\n\u001B[32m   2183\u001B[39m     \u001B[38;5;28;01mwith\u001B[39;00m cbook._setattr_cm(\u001B[38;5;28mself\u001B[39m.figure, dpi=dpi):\n\u001B[32m-> \u001B[39m\u001B[32m2184\u001B[39m         result = \u001B[43mprint_method\u001B[49m\u001B[43m(\u001B[49m\n\u001B[32m   2185\u001B[39m \u001B[43m            \u001B[49m\u001B[43mfilename\u001B[49m\u001B[43m,\u001B[49m\n\u001B[32m   2186\u001B[39m \u001B[43m            \u001B[49m\u001B[43mfacecolor\u001B[49m\u001B[43m=\u001B[49m\u001B[43mfacecolor\u001B[49m\u001B[43m,\u001B[49m\n\u001B[32m   2187\u001B[39m \u001B[43m            \u001B[49m\u001B[43medgecolor\u001B[49m\u001B[43m=\u001B[49m\u001B[43medgecolor\u001B[49m\u001B[43m,\u001B[49m\n\u001B[32m   2188\u001B[39m \u001B[43m            \u001B[49m\u001B[43morientation\u001B[49m\u001B[43m=\u001B[49m\u001B[43morientation\u001B[49m\u001B[43m,\u001B[49m\n\u001B[32m   2189\u001B[39m \u001B[43m            \u001B[49m\u001B[43mbbox_inches_restore\u001B[49m\u001B[43m=\u001B[49m\u001B[43m_bbox_inches_restore\u001B[49m\u001B[43m,\u001B[49m\n\u001B[32m   2190\u001B[39m \u001B[43m            \u001B[49m\u001B[43m*\u001B[49m\u001B[43m*\u001B[49m\u001B[43mkwargs\u001B[49m\u001B[43m)\u001B[49m\n\u001B[32m   2191\u001B[39m \u001B[38;5;28;01mfinally\u001B[39;00m:\n\u001B[32m   2192\u001B[39m     \u001B[38;5;28;01mif\u001B[39;00m bbox_inches \u001B[38;5;129;01mand\u001B[39;00m restore_bbox:\n",
      "\u001B[36mFile \u001B[39m\u001B[32m~/miniforge3/envs/gym4real/lib/python3.12/site-packages/matplotlib/backend_bases.py:2040\u001B[39m, in \u001B[36mFigureCanvasBase._switch_canvas_and_return_print_method.<locals>.<lambda>\u001B[39m\u001B[34m(*args, **kwargs)\u001B[39m\n\u001B[32m   2036\u001B[39m     optional_kws = {  \u001B[38;5;66;03m# Passed by print_figure for other renderers.\u001B[39;00m\n\u001B[32m   2037\u001B[39m         \u001B[33m\"\u001B[39m\u001B[33mdpi\u001B[39m\u001B[33m\"\u001B[39m, \u001B[33m\"\u001B[39m\u001B[33mfacecolor\u001B[39m\u001B[33m\"\u001B[39m, \u001B[33m\"\u001B[39m\u001B[33medgecolor\u001B[39m\u001B[33m\"\u001B[39m, \u001B[33m\"\u001B[39m\u001B[33morientation\u001B[39m\u001B[33m\"\u001B[39m,\n\u001B[32m   2038\u001B[39m         \u001B[33m\"\u001B[39m\u001B[33mbbox_inches_restore\u001B[39m\u001B[33m\"\u001B[39m}\n\u001B[32m   2039\u001B[39m     skip = optional_kws - {*inspect.signature(meth).parameters}\n\u001B[32m-> \u001B[39m\u001B[32m2040\u001B[39m     print_method = functools.wraps(meth)(\u001B[38;5;28;01mlambda\u001B[39;00m *args, **kwargs: \u001B[43mmeth\u001B[49m\u001B[43m(\u001B[49m\n\u001B[32m   2041\u001B[39m \u001B[43m        \u001B[49m\u001B[43m*\u001B[49m\u001B[43margs\u001B[49m\u001B[43m,\u001B[49m\u001B[43m \u001B[49m\u001B[43m*\u001B[49m\u001B[43m*\u001B[49m\u001B[43m{\u001B[49m\u001B[43mk\u001B[49m\u001B[43m:\u001B[49m\u001B[43m \u001B[49m\u001B[43mv\u001B[49m\u001B[43m \u001B[49m\u001B[38;5;28;43;01mfor\u001B[39;49;00m\u001B[43m \u001B[49m\u001B[43mk\u001B[49m\u001B[43m,\u001B[49m\u001B[43m \u001B[49m\u001B[43mv\u001B[49m\u001B[43m \u001B[49m\u001B[38;5;129;43;01min\u001B[39;49;00m\u001B[43m \u001B[49m\u001B[43mkwargs\u001B[49m\u001B[43m.\u001B[49m\u001B[43mitems\u001B[49m\u001B[43m(\u001B[49m\u001B[43m)\u001B[49m\u001B[43m \u001B[49m\u001B[38;5;28;43;01mif\u001B[39;49;00m\u001B[43m \u001B[49m\u001B[43mk\u001B[49m\u001B[43m \u001B[49m\u001B[38;5;129;43;01mnot\u001B[39;49;00m\u001B[43m \u001B[49m\u001B[38;5;129;43;01min\u001B[39;49;00m\u001B[43m \u001B[49m\u001B[43mskip\u001B[49m\u001B[43m}\u001B[49m\u001B[43m)\u001B[49m)\n\u001B[32m   2042\u001B[39m \u001B[38;5;28;01melse\u001B[39;00m:  \u001B[38;5;66;03m# Let third-parties do as they see fit.\u001B[39;00m\n\u001B[32m   2043\u001B[39m     print_method = meth\n",
      "\u001B[36mFile \u001B[39m\u001B[32m~/miniforge3/envs/gym4real/lib/python3.12/site-packages/matplotlib/backends/backend_pdf.py:2779\u001B[39m, in \u001B[36mFigureCanvasPdf.print_pdf\u001B[39m\u001B[34m(self, filename, bbox_inches_restore, metadata)\u001B[39m\n\u001B[32m   2777\u001B[39m     file = filename._ensure_file()\n\u001B[32m   2778\u001B[39m \u001B[38;5;28;01melse\u001B[39;00m:\n\u001B[32m-> \u001B[39m\u001B[32m2779\u001B[39m     file = \u001B[43mPdfFile\u001B[49m\u001B[43m(\u001B[49m\u001B[43mfilename\u001B[49m\u001B[43m,\u001B[49m\u001B[43m \u001B[49m\u001B[43mmetadata\u001B[49m\u001B[43m=\u001B[49m\u001B[43mmetadata\u001B[49m\u001B[43m)\u001B[49m\n\u001B[32m   2780\u001B[39m \u001B[38;5;28;01mtry\u001B[39;00m:\n\u001B[32m   2781\u001B[39m     file.newPage(width, height)\n",
      "\u001B[36mFile \u001B[39m\u001B[32m~/miniforge3/envs/gym4real/lib/python3.12/site-packages/matplotlib/backends/backend_pdf.py:687\u001B[39m, in \u001B[36mPdfFile.__init__\u001B[39m\u001B[34m(self, filename, metadata)\u001B[39m\n\u001B[32m    685\u001B[39m \u001B[38;5;28mself\u001B[39m.original_file_like = \u001B[38;5;28;01mNone\u001B[39;00m\n\u001B[32m    686\u001B[39m \u001B[38;5;28mself\u001B[39m.tell_base = \u001B[32m0\u001B[39m\n\u001B[32m--> \u001B[39m\u001B[32m687\u001B[39m fh, opened = \u001B[43mcbook\u001B[49m\u001B[43m.\u001B[49m\u001B[43mto_filehandle\u001B[49m\u001B[43m(\u001B[49m\u001B[43mfilename\u001B[49m\u001B[43m,\u001B[49m\u001B[43m \u001B[49m\u001B[33;43m\"\u001B[39;49m\u001B[33;43mwb\u001B[39;49m\u001B[33;43m\"\u001B[39;49m\u001B[43m,\u001B[49m\u001B[43m \u001B[49m\u001B[43mreturn_opened\u001B[49m\u001B[43m=\u001B[49m\u001B[38;5;28;43;01mTrue\u001B[39;49;00m\u001B[43m)\u001B[49m\n\u001B[32m    688\u001B[39m \u001B[38;5;28;01mif\u001B[39;00m \u001B[38;5;129;01mnot\u001B[39;00m opened:\n\u001B[32m    689\u001B[39m     \u001B[38;5;28;01mtry\u001B[39;00m:\n",
      "\u001B[36mFile \u001B[39m\u001B[32m~/miniforge3/envs/gym4real/lib/python3.12/site-packages/matplotlib/cbook.py:546\u001B[39m, in \u001B[36mto_filehandle\u001B[39m\u001B[34m(fname, flag, return_opened, encoding)\u001B[39m\n\u001B[32m    544\u001B[39m         fh = bz2.BZ2File(fname, flag)\n\u001B[32m    545\u001B[39m     \u001B[38;5;28;01melse\u001B[39;00m:\n\u001B[32m--> \u001B[39m\u001B[32m546\u001B[39m         fh = \u001B[38;5;28;43mopen\u001B[39;49m\u001B[43m(\u001B[49m\u001B[43mfname\u001B[49m\u001B[43m,\u001B[49m\u001B[43m \u001B[49m\u001B[43mflag\u001B[49m\u001B[43m,\u001B[49m\u001B[43m \u001B[49m\u001B[43mencoding\u001B[49m\u001B[43m=\u001B[49m\u001B[43mencoding\u001B[49m\u001B[43m)\u001B[49m\n\u001B[32m    547\u001B[39m     opened = \u001B[38;5;28;01mTrue\u001B[39;00m\n\u001B[32m    548\u001B[39m \u001B[38;5;28;01melif\u001B[39;00m \u001B[38;5;28mhasattr\u001B[39m(fname, \u001B[33m'\u001B[39m\u001B[33mseek\u001B[39m\u001B[33m'\u001B[39m):\n",
      "\u001B[31mFileNotFoundError\u001B[39m: [Errno 2] No such file or directory: '/plots/elevator-boxplot.pdf'"
     ]
    },
    {
     "data": {
      "text/plain": "<Figure size 500x350 with 1 Axes>",
      "image/png": "[encoded data removed]"
     },
     "metadata": {},
     "output_type": "display_data"
    }
   ],
   "source": [
    "box_data = {}\n",
    "colors = []\n",
    "\n",
    "rewards_sorted = {'random': rewards['random'], \n",
    "           'longest_first' : rewards['longest_first'], \n",
    "           'q-learning': rewards['q-learning'], \n",
    "           'shortest_first': rewards['shortest_first'], \n",
    "           'sarsa': rewards['sarsa'] }\n",
    "\n",
    "for alg in rewards_sorted.keys():\n",
    "    box_data[alg_labels[alg]] = []\n",
    "    \n",
    "    for episode in rewards_sorted[alg].keys():\n",
    "        box_data[alg_labels[alg]].append(rewards_sorted[alg][episode]['cum'][-1])\n",
    "\n",
    "    colors.append(alg_color[alg])\n",
    "        \n",
    "fig, ax = plt.subplots(figsize=(5, 3.5), tight_layout=True)\n",
    "box_plot = sns.boxplot(box_data, gap=.1, palette=colors, width=0.8)\n",
    "\n",
    "medians = [np.mean(values) for key, values in box_data.items()]\n",
    "vertical_offset = 3000 # offset from median for display\n",
    "\n",
    "\"\"\"\n",
    "for xtick, alg in zip(box_plot.get_xticks(), rewards.keys()):\n",
    "    box_plot.text(xtick, \n",
    "                  vertical_offset, \n",
    "                  round(medians[xtick]), \n",
    "                  horizontalalignment='center',\n",
    "                  size='x-small', \n",
    "                  color=alg_color[alg], \n",
    "                  weight='semibold')\n",
    "                  \"\"\"\n",
    "plt.savefig(\"/plots/elevator-boxplot.pdf\")"
   ]
  }
 ],
 "metadata": {
  "kernelspec": {
   "display_name": "Python 3 (ipykernel)",
   "language": "python",
   "name": "python3"
  },
  "language_info": {
   "codemirror_mode": {
    "name": "ipython",
    "version": 3
   },
   "file_extension": ".py",
   "mimetype": "text/x-python",
   "name": "python",
   "nbconvert_exporter": "python",
   "pygments_lexer": "ipython3",
   "version": "3.12.9"
  }
 },
 "nbformat": 4,
 "nbformat_minor": 5
}
