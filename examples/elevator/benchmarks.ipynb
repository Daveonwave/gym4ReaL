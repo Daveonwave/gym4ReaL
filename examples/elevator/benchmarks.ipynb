{
 "cells": [
  {
   "cell_type": "markdown",
   "id": "c2551241",
   "metadata": {},
   "source": [
    "# Benchmarks for Elevator environment\n",
    "\n",
    "The notebook provides testing and comparison between deterministic policies and a pretrained RL agent strategies among the `ElevatorEnv` environment."
   ]
  },
  {
   "cell_type": "code",
   "execution_count": 1,
   "id": "756ffdd3",
   "metadata": {},
   "outputs": [
    {
     "name": "stdout",
     "output_type": "stream",
     "text": [
      "/Users/dave/Library/CloudStorage/OneDrive-PolitecnicodiMilano/PhD/Repositories/gym4ReaL\n"
     ]
    }
   ],
   "source": [
    "%load_ext autoreload\n",
    "%autoreload 2\n",
    "%matplotlib inline\n",
    "%cd ../.."
   ]
  },
  {
   "cell_type": "code",
   "execution_count": 2,
   "id": "2f82ead8",
   "metadata": {},
   "outputs": [],
   "source": [
    "import matplotlib.pyplot as plt\n",
    "import seaborn as sns\n",
    "import numpy as np\n",
    "from datetime import datetime\n",
    "from tqdm import tqdm\n",
    "from collections import OrderedDict, defaultdict\n",
    "from gymnasium.utils.env_checker import check_env\n",
    "import gymnasium as gym\n",
    "\n",
    "from gym4real.envs.elevator.utils import parameter_generator"
   ]
  },
  {
   "cell_type": "code",
   "execution_count": 3,
   "id": "4f59cf43",
   "metadata": {},
   "outputs": [],
   "source": [
    "sns.set_theme()\n",
    "sns.set_style('whitegrid')\n",
    "sns.set_context(\"paper\")\n",
    "plot_colors = sns.color_palette('colorblind')\n",
    "sns.set(font_scale=1.2)\n",
    "\n",
    "alg_color = OrderedDict({\n",
    "    'random': plot_colors[1],\n",
    "    'longest_first': plot_colors[2],\n",
    "    'shortest_first': plot_colors[3],\n",
    "    'q-learning': plot_colors[0],\n",
    "    'sarsa': plot_colors[4],\n",
    "    'dqn': plot_colors[5],\n",
    "    'ppo': plot_colors[6],\n",
    "    'fqi': plot_colors[7]\n",
    "})\n",
    "\n",
    "alg_markers = OrderedDict({\n",
    "    'random': '.',\n",
    "    'longest_first': 'o',\n",
    "    'shortest_first': 's',\n",
    "    'q-learning': 's',\n",
    "    'sarsa': 's',\n",
    "})\n",
    "\n",
    "alg_labels = {\n",
    "    'random': 'Random',\n",
    "    'longest_first': 'LF',\n",
    "    'shortest_first': 'SF',\n",
    "    'q-learning': 'Q-Learning',\n",
    "    'sarsa': 'SARSA',\n",
    "    'dqn': 'DQN',\n",
    "    'ppo': 'PPO',\n",
    "    'fqi': 'FQI'\n",
    "}"
   ]
  },
  {
   "cell_type": "markdown",
   "id": "733076f5",
   "metadata": {},
   "source": [
    "## Deterministic policies\n",
    "Here we can evaluate different rule-based and deterministic policies.\n",
    "Hereafter we will test:\n",
    "1. random action policy\n",
    "2. longest-first policy"
   ]
  },
  {
   "cell_type": "code",
   "execution_count": 33,
   "id": "33b1615b",
   "metadata": {},
   "outputs": [],
   "source": [
    "# Test profiles belonging to the test set\n",
    "rewards = defaultdict(dict)\n",
    "eval_episodes = 30"
   ]
  },
  {
   "cell_type": "markdown",
   "id": "fe3c54d0",
   "metadata": {},
   "source": [
    "<h3> Random Policy: </h3>\n",
    "The action is chosen randomly at each decision step."
   ]
  },
  {
   "cell_type": "code",
   "execution_count": 34,
   "id": "0e3e6651",
   "metadata": {
    "scrolled": true
   },
   "outputs": [
    {
     "name": "stderr",
     "output_type": "stream",
     "text": [
      "  0%|                                                                                    | 0/30 [00:00<?, ?it/s]/Users/dave/miniconda3/envs/gym4real/lib/python3.12/site-packages/gymnasium/utils/passive_env_checker.py:139: UserWarning: \u001b[33mWARN: The obs returned by the `reset()` method was expecting a numpy array, actual type: <class 'list'>\u001b[0m\n",
      "  logger.warn(f\"{pre} was expecting a numpy array, actual type: {type(obs)}\")\n",
      "/Users/dave/miniconda3/envs/gym4real/lib/python3.12/site-packages/gymnasium/utils/passive_env_checker.py:139: UserWarning: \u001b[33mWARN: The obs returned by the `step()` method was expecting a numpy array, actual type: <class 'list'>\u001b[0m\n",
      "  logger.warn(f\"{pre} was expecting a numpy array, actual type: {type(obs)}\")\n",
      "100%|███████████████████████████████████████████████████████████████████████████| 30/30 [00:01<00:00, 26.83it/s]\n"
     ]
    }
   ],
   "source": [
    "params = parameter_generator(world_options='gym4real/envs/elevator/world.yaml', seed=1234)\n",
    "env = gym.make(id=\"gym4real/elevator-v0\", **{'settings':params})\n",
    "\n",
    "alg = 'random'\n",
    "rewards[alg] = {}\n",
    "\n",
    "for episode in tqdm(range(eval_episodes)):\n",
    "    obs, info = env.reset()\n",
    "    done = False\n",
    "    cumulated_reward = 0\n",
    "    rewards[alg][episode] = {}\n",
    "    rewards[alg][episode]['cum'] = []\n",
    "    rewards[alg][episode]['reward'] = []\n",
    "    \n",
    "    while not done:\n",
    "        action = env.action_space.sample()  # Randomly select an action\n",
    "        obs, reward, terminated, truncated, info = env.step(action)  \n",
    "        done = terminated or truncated\n",
    "        cumulated_reward += reward\n",
    "        rewards[alg][episode]['cum'].append(cumulated_reward)\n",
    "        rewards[alg][episode]['reward'].append(reward)"
   ]
  },
  {
   "cell_type": "markdown",
   "id": "85f24d08",
   "metadata": {},
   "source": [
    "### Longest First Policy:\n",
    "The action chosen is the one that allows for handling the **longest** queue at the moment. However, if some passengers are already inside the elevator, they are served immediately, even if the elevator is not at full capacity."
   ]
  },
  {
   "cell_type": "code",
   "execution_count": 35,
   "id": "9c1a8ff2",
   "metadata": {},
   "outputs": [
    {
     "name": "stderr",
     "output_type": "stream",
     "text": [
      "100%|███████████████████████████████████████████████████████████████████████████| 30/30 [00:00<00:00, 39.57it/s]\n"
     ]
    }
   ],
   "source": [
    "params = parameter_generator(world_options='gym4real/envs/elevator/world.yaml', seed=1234)\n",
    "env = gym.make(id=\"gym4real/elevator-v0\", **{'settings':params})\n",
    "\n",
    "alg = 'longest_first'\n",
    "rewards[alg] = {}\n",
    "\n",
    "for episode in tqdm(range(eval_episodes)):\n",
    "    obs, info = env.reset()\n",
    "    done = False\n",
    "    cumulated_reward = 0\n",
    "    rewards[alg][episode] = {}\n",
    "    rewards[alg][episode]['cum'] = []\n",
    "    rewards[alg][episode]['reward'] = []\n",
    "    \n",
    "    while not done:\n",
    "        if obs['n_passengers'] > 0:\n",
    "            if obs['current_position'] * info['movement_speed'] / info['floor_height'] == info['goal_floor']:\n",
    "                action = 1  # stay still\n",
    "            else:\n",
    "                action = 0  # move down\n",
    "        else:\n",
    "            # Check if any passengers are waiting on the current floor\n",
    "            len_max_queue, idx_max_queue = max((queue, idx+1) for idx, queue in enumerate(obs['floor_queues']))\n",
    "            \n",
    "            if len_max_queue == 0:\n",
    "                action = 1  # stay still\n",
    "            else:\n",
    "                if obs['current_position'] * info['movement_speed'] == (idx_max_queue) * info['floor_height']:\n",
    "                    action = 1  # stay still\n",
    "                elif obs['current_position'] * info['movement_speed'] < (idx_max_queue) * info['floor_height']:\n",
    "                    action = 2  # move up            \n",
    "                elif obs['current_position'] * info['movement_speed'] > (idx_max_queue) * info['floor_height']:\n",
    "                    action = 0\n",
    "                else:\n",
    "                    action = 1\n",
    "                    \n",
    "        obs, reward, terminated, truncated, info = env.step(action)  \n",
    "        done = terminated or truncated\n",
    "        cumulated_reward += reward\n",
    "        rewards[alg][episode]['cum'].append(cumulated_reward)\n",
    "        rewards[alg][episode]['reward'].append(reward)"
   ]
  },
  {
   "cell_type": "markdown",
   "id": "4d4cf9a6",
   "metadata": {},
   "source": [
    "### Shortest First Policy: \n",
    "The action chosen is the one that allows for handling the **shortest** queue at the moment. However, if some passengers are already inside the elevator, they are served immediately, even if the elevator is not at full capacity."
   ]
  },
  {
   "cell_type": "code",
   "execution_count": 36,
   "id": "670df112",
   "metadata": {
    "scrolled": true
   },
   "outputs": [
    {
     "name": "stderr",
     "output_type": "stream",
     "text": [
      "100%|███████████████████████████████████████████████████████████████████████████| 30/30 [00:00<00:00, 35.38it/s]\n"
     ]
    }
   ],
   "source": [
    "params = parameter_generator(world_options='gym4real/envs/elevator/world.yaml', seed=1234)\n",
    "env = gym.make(id=\"gym4real/elevator-v0\", **{'settings':params})\n",
    "\n",
    "alg = 'shortest_first'\n",
    "rewards[alg] = {}\n",
    "\n",
    "for episode in tqdm(range(eval_episodes)):\n",
    "    obs, info = env.reset()\n",
    "    done = False\n",
    "    cumulated_reward = 0\n",
    "    rewards[alg][episode] = {}\n",
    "    rewards[alg][episode]['cum'] = []\n",
    "    rewards[alg][episode]['reward'] = []\n",
    "    \n",
    "    while not done:\n",
    "        if obs['n_passengers'] > 0:\n",
    "            if obs['current_position'] * info['movement_speed'] / info['floor_height'] == info['goal_floor']:\n",
    "                action = 1  # stay still\n",
    "            else:    \n",
    "                action = 0  # move down\n",
    "        else:\n",
    "            # Check if any passengers are waiting on the current floor\n",
    "            if sum([queue for queue in obs['floor_queues']]) > 0:\n",
    "                len_min_queue, idx_min_queue = min((queue, idx+1) for idx, queue in enumerate(obs['floor_queues']) if queue > 0)\n",
    "            \n",
    "                if obs['current_position'] * info['movement_speed'] == (idx_min_queue) * info['floor_height']:\n",
    "                    action = 1  # stay still\n",
    "                elif obs['current_position'] * info['movement_speed'] < (idx_min_queue) * info['floor_height']:\n",
    "                    action = 2  # move up            \n",
    "                else: \n",
    "                    action = 0  # move down\n",
    "            else:\n",
    "                action = 1\n",
    "                    \n",
    "        obs, reward, terminated, truncated, info = env.step(action)  \n",
    "        done = terminated or truncated\n",
    "        cumulated_reward += reward\n",
    "        rewards[alg][episode]['cum'].append(cumulated_reward)\n",
    "        rewards[alg][episode]['reward'].append(reward)"
   ]
  },
  {
   "cell_type": "markdown",
   "id": "b6fea41f-49ae-4efb-b41b-828aa821f0fe",
   "metadata": {},
   "source": [
    "### Q-Learning\n",
    "Here we load a custom pre-trained `Q-Learning` model."
   ]
  },
  {
   "cell_type": "code",
   "execution_count": 37,
   "id": "729f6789-5f41-48ab-8ea9-a447ebec59ff",
   "metadata": {},
   "outputs": [],
   "source": [
    "import pickle\n",
    "\n",
    "def default_q_values():\n",
    "        return np.zeros(3)\n",
    "\n",
    "def obs_to_key(obs):\n",
    "    # Manually flatten the dict to a tuple of ints\n",
    "    return (\n",
    "        obs['current_position'],\n",
    "        obs['n_passengers'],\n",
    "        *obs['floor_queues'],\n",
    "        *obs['arrivals']\n",
    "    )"
   ]
  },
  {
   "cell_type": "code",
   "execution_count": 38,
   "id": "a9a3e52e-a5c2-424b-8822-0efecaca861f",
   "metadata": {},
   "outputs": [
    {
     "name": "stderr",
     "output_type": "stream",
     "text": [
      "100%|███████████████████████████████████████████████████████████████████████████| 30/30 [00:01<00:00, 27.37it/s]\n"
     ]
    }
   ],
   "source": [
    "params = parameter_generator(world_options='gym4real/envs/elevator/world.yaml', seed=1234)\n",
    "env = gym.make(id=\"gym4real/elevator-v0\", **{'settings':params})\n",
    "\n",
    "alg = 'q-learning'\n",
    "rewards[alg] = {}\n",
    "with open('examples/elevator/trained_models/trained_qlearning_Qtable.pkl', 'rb') as f:\n",
    "    Q = pickle.load(f)\n",
    "\n",
    "for episode in tqdm(range(eval_episodes)):\n",
    "    obs, _ = env.reset()\n",
    "    obs_key = obs_to_key(obs)\n",
    "\n",
    "    done = False\n",
    "    cumulated_reward = 0\n",
    "    rewards[alg][episode] = {}\n",
    "    rewards[alg][episode]['cum'] = []\n",
    "    rewards[alg][episode]['reward'] = []\n",
    "    \n",
    "    while not done:\n",
    "        action = np.argmax(Q[obs_key])  # Exploit learned values\n",
    "        new_obs, reward, terminated, truncated, _ = env.step(action)\n",
    "        new_obs_key = obs_to_key(new_obs)\n",
    "        \n",
    "        cumulated_reward += reward\n",
    "        done = terminated or truncated\n",
    "        obs_key = new_obs_key\n",
    "\n",
    "        rewards[alg][episode]['cum'].append(cumulated_reward)\n",
    "        rewards[alg][episode]['reward'].append(reward)"
   ]
  },
  {
   "cell_type": "markdown",
   "id": "1e8bd737-1cef-4ec6-8f10-3bfcbda8778b",
   "metadata": {},
   "source": [
    "### SARSA"
   ]
  },
  {
   "cell_type": "code",
   "execution_count": 39,
   "id": "bc059d4c-e396-4abf-929e-109b56aac27c",
   "metadata": {},
   "outputs": [
    {
     "name": "stderr",
     "output_type": "stream",
     "text": [
      "100%|███████████████████████████████████████████████████████████████████████████| 30/30 [00:01<00:00, 27.38it/s]\n"
     ]
    }
   ],
   "source": [
    "params = parameter_generator(world_options='gym4real/envs/elevator/world.yaml', seed=1234)\n",
    "env = gym.make(id=\"gym4real/elevator-v0\", **{'settings':params})\n",
    "\n",
    "alg = 'sarsa'\n",
    "rewards[alg] = {}\n",
    "with open('examples/elevator/trained_models/trained_sarsa_Qtable.pkl', 'rb') as f:\n",
    "    Q = pickle.load(f)\n",
    "\n",
    "for episode in tqdm(range(eval_episodes)):\n",
    "    obs, _ = env.reset()\n",
    "    obs_key = obs_to_key(obs)\n",
    "\n",
    "    done = False\n",
    "    cumulated_reward = 0\n",
    "    rewards[alg][episode] = {}\n",
    "    rewards[alg][episode]['cum'] = []\n",
    "    rewards[alg][episode]['reward'] = []\n",
    "    \n",
    "    while not done:\n",
    "        action = np.argmax(Q[obs_key])  # Exploit learned values\n",
    "        new_obs, reward, terminated, truncated, _ = env.step(action)\n",
    "        new_obs_key = obs_to_key(new_obs)\n",
    "        \n",
    "        cumulated_reward += reward\n",
    "        done = terminated or truncated\n",
    "        obs_key = new_obs_key\n",
    "\n",
    "        rewards[alg][episode]['cum'].append(cumulated_reward)\n",
    "        rewards[alg][episode]['reward'].append(reward)"
   ]
  },
  {
   "cell_type": "markdown",
   "id": "706e0a44",
   "metadata": {},
   "source": [
    "## Result analysis\n",
    "Here we compare the average cumulated reward across all the test profiles among the different methods."
   ]
  },
  {
   "cell_type": "code",
   "execution_count": 40,
   "id": "51413190-0a1a-45a3-aefe-403af3cc5ca8",
   "metadata": {},
   "outputs": [
    {
     "data": {
      "image/png": "[encoded data removed]",
      "text/plain": [
       "<Figure size 500x350 with 1 Axes>"
      ]
     },
     "metadata": {},
     "output_type": "display_data"
    }
   ],
   "source": [
    "fig, ax = plt.subplots(1, 1, figsize=(5, 3.5), tight_layout=True)\n",
    "\n",
    "for i, alg in enumerate(rewards.keys()):\n",
    "    cum_rewards = [rewards[alg][episode]['cum'] for episode in range(eval_episodes)]\n",
    "    means = np.mean(cum_rewards, axis=0)\n",
    "    stds = np.std(cum_rewards, axis=0)\n",
    "    ci = 1.96 * stds / np.sqrt(len(rewards[alg].keys()))\n",
    "\n",
    "    ax.plot(means, label=alg_labels[alg], color=alg_color[alg])\n",
    "    ax.fill_between(range(len(means)), means + ci, means - ci, color=alg_color[alg], alpha=0.1)\n",
    "\n",
    "# Set axis labels\n",
    "ax.set_xlabel(\"Time (s)\")\n",
    "ax.set_ylabel(\"Global waiting time (s)\")\n",
    "\n",
    "# Set scientific notation for y-axis\n",
    "ax.ticklabel_format(style='sci', axis='y', scilimits=(0, 0))\n",
    "\n",
    "# Add legend\n",
    "ax.legend()\n",
    "\n",
    "# Save figure\n",
    "plt.savefig('plots/elevator_avg_reward.pdf')"
   ]
  },
  {
   "cell_type": "code",
   "execution_count": null,
   "id": "5bbf8626-a7fe-4699-9b69-acee15543ee6",
   "metadata": {},
   "outputs": [
    {
     "data": {
      "image/png": "[encoded data removed]",
      "text/plain": [
       "<Figure size 500x350 with 1 Axes>"
      ]
     },
     "metadata": {},
     "output_type": "display_data"
    }
   ],
   "source": [
    "from matplotlib.ticker import ScalarFormatter\n",
    "\n",
    "# Prepare data for boxplot\n",
    "box_data = {}\n",
    "colors = []\n",
    "\n",
    "# Sort and organize the reward data by algorithm\n",
    "rewards_sorted = {\n",
    "    'random': rewards['random'], \n",
    "    'longest_first': rewards['longest_first'], \n",
    "    'q-learning': rewards['q-learning'], \n",
    "    'shortest_first': rewards['shortest_first'], \n",
    "    'sarsa': rewards['sarsa']\n",
    "}\n",
    "\n",
    "# Collect the final cumulative reward for each episode of each algorithm\n",
    "for alg in rewards_sorted.keys():\n",
    "    box_data[alg_labels[alg]] = []  # Use human-readable labels\n",
    "    for episode in rewards_sorted[alg].keys():\n",
    "        box_data[alg_labels[alg]].append(rewards_sorted[alg][episode]['cum'][-1])\n",
    "    colors.append(alg_color[alg])  # Store color for consistency in plotting\n",
    "\n",
    "# Create the boxplot\n",
    "fig, ax = plt.subplots(figsize=(5, 3.5), tight_layout=True)\n",
    "box_plot = sns.boxplot(data=box_data, palette=colors, width=0.8, ax=ax)\n",
    "\n",
    "# Label the axes\n",
    "ax.set_ylabel(\"Return (s)\")\n",
    "\n",
    "# Use scientific notation on y-axis\n",
    "formatter = ScalarFormatter()\n",
    "formatter.set_scientific(True)\n",
    "formatter.set_powerlimits((-2, 3))  # Show scientific notation when appropriate\n",
    "ax.yaxis.set_major_formatter(formatter)\n",
    "\n",
    "plt.tight_layout()\n",
    "plt.savefig(\"plots/elevator_boxplot.pdf\")"
   ]
  },
  {
   "cell_type": "code",
   "execution_count": null,
   "id": "ef22e51c-37c8-4f00-89f5-9c43629a02a5",
   "metadata": {},
   "outputs": [],
   "source": []
  }
 ],
 "metadata": {
  "kernelspec": {
   "display_name": "Python 3 (ipykernel)",
   "language": "python",
   "name": "python3"
  },
  "language_info": {
   "codemirror_mode": {
    "name": "ipython",
    "version": 3
   },
   "file_extension": ".py",
   "mimetype": "text/x-python",
   "name": "python",
   "nbconvert_exporter": "python",
   "pygments_lexer": "ipython3",
   "version": "3.12.9"
  }
 },
 "nbformat": 4,
 "nbformat_minor": 5
}
