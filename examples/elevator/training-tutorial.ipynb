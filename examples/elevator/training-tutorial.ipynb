{
 "cells": [
  {
   "cell_type": "markdown",
   "id": "c2551241",
   "metadata": {},
   "source": [
    "# Simple Q-learning agent\n",
    "\n",
    "The notebook provides a quick training of [Q-learning](https://link.springer.com/article/10.1007/bf00992698) algorithm on the `ElevatorEnv` environment."
   ]
  },
  {
   "cell_type": "code",
   "execution_count": 1,
   "id": "756ffdd3",
   "metadata": {},
   "outputs": [
    {
     "name": "stdout",
     "output_type": "stream",
     "text": [
      "/Users/dave/Library/CloudStorage/OneDrive-PolitecnicodiMilano/PhD/Repositories/gym4ReaL\n"
     ]
    }
   ],
   "source": [
    "%load_ext autoreload\n",
    "%autoreload 2\n",
    "%matplotlib inline\n",
    "%cd ../.."
   ]
  },
  {
   "cell_type": "code",
   "execution_count": 9,
   "id": "2f82ead8",
   "metadata": {},
   "outputs": [],
   "source": [
    "import matplotlib.pyplot as plt\n",
    "import seaborn as sns\n",
    "import numpy as np\n",
    "from datetime import datetime\n",
    "from tqdm import tqdm\n",
    "import pickle\n",
    "from collections import OrderedDict\n",
    "from gymnasium.utils.env_checker import check_env\n",
    "import gymnasium as gym\n",
    "\n",
    "from gym4real.envs.elevator.utils import parameter_generator"
   ]
  },
  {
   "cell_type": "code",
   "execution_count": 40,
   "id": "b1d063ac-c1aa-4a69-bf85-c3944f1eb865",
   "metadata": {},
   "outputs": [],
   "source": [
    "sns.set_theme()\n",
    "sns.set_style('whitegrid')\n",
    "sns.set_context(\"paper\")\n",
    "plot_colors = sns.color_palette('colorblind')\n",
    "sns.set(font_scale=1.2)\n",
    "\n",
    "alg_color = OrderedDict({\n",
    "    'random': plot_colors[1],\n",
    "    'longest_first': plot_colors[2],\n",
    "    'q-learning': plot_colors[0],\n",
    "})"
   ]
  },
  {
   "cell_type": "markdown",
   "id": "2a9efdeb",
   "metadata": {},
   "source": [
    "## Q-Learning Agent\n",
    "We are adopting a custom version of Q-Learning to solve the tabular MDP."
   ]
  },
  {
   "cell_type": "code",
   "execution_count": 41,
   "id": "e601a433-55cb-4ec6-aad3-03f7601906dc",
   "metadata": {},
   "outputs": [],
   "source": [
    "n_episodes = 100"
   ]
  },
  {
   "cell_type": "code",
   "execution_count": 42,
   "id": "58ae9496-9e0d-4b86-a767-a7461a1a0da1",
   "metadata": {
    "scrolled": true
   },
   "outputs": [
    {
     "data": {
      "text/plain": [
       "{'min_floor': 0,\n",
       " 'max_floor': 4,\n",
       " 'max_capacity': 4,\n",
       " 'movement_speed': 3.0,\n",
       " 'floor_height': 6,\n",
       " 'max_arrivals': 2,\n",
       " 'max_queue_length': 3,\n",
       " 'duration': 3600,\n",
       " 'timestep': 1,\n",
       " 'goal_floor': 0,\n",
       " 'init_elevator_pos': None,\n",
       " 'random_init_state': False,\n",
       " 'arrival_distributions': {'lambda_min': 0.01, 'lambda_max': 0.1, 'seed': 42}}"
      ]
     },
     "execution_count": 42,
     "metadata": {},
     "output_type": "execute_result"
    }
   ],
   "source": [
    "params = parameter_generator(lambda_min=0.01, lambda_max=0.1, seed=42)\n",
    "params"
   ]
  },
  {
   "cell_type": "code",
   "execution_count": 43,
   "id": "09f158d9-32f9-4b81-bdcb-7974a6918275",
   "metadata": {},
   "outputs": [],
   "source": [
    "env = gym.make(\"gym4real/elevator-v0\",  **{'settings':params})"
   ]
  },
  {
   "cell_type": "code",
   "execution_count": 44,
   "id": "4d8b544b-d1b2-4081-903e-258670b9a53d",
   "metadata": {},
   "outputs": [],
   "source": [
    "alpha = 0.1\n",
    "gamma = 1\n",
    "epsilon = 1.0\n",
    "epsilon_decay = 0.99\n",
    "epsilon_min = 0.05\n",
    "\n",
    "def default_q_values():\n",
    "        return np.zeros(3)\n",
    "    \n",
    "def obs_to_key(obs):\n",
    "        # Manually flatten the dict to a tuple of ints\n",
    "        return (\n",
    "            obs['current_position'],\n",
    "            obs['n_passengers'],\n",
    "            #obs['speed'],\n",
    "            *obs['floor_queues'],\n",
    "            *obs['arrivals']\n",
    "        )"
   ]
  },
  {
   "cell_type": "code",
   "execution_count": 45,
   "id": "03d394e2-8b63-4f30-9dae-57af8d707b0e",
   "metadata": {
    "scrolled": true
   },
   "outputs": [
    {
     "name": "stderr",
     "output_type": "stream",
     "text": [
      "100%|████████████████████████████████████████████████████████████████████████████████████████████████████████████████████████████████████████████████████████████████████████████████████████████████| 100/100 [00:05<00:00, 19.86it/s]\n"
     ]
    }
   ],
   "source": [
    "from collections import defaultdict\n",
    "\n",
    "actions_size = env.action_space.n\n",
    "Q = defaultdict(default_q_values)\n",
    "    \n",
    "for episode in tqdm(range(n_episodes)):\n",
    "    obs, _ = env.reset()\n",
    "    obs_key = obs_to_key(obs)\n",
    "    \n",
    "    cumulated_reward = 0        \n",
    "    \n",
    "    rng = np.random.default_rng(seed=42)\n",
    "    done = False\n",
    "    while not done:\n",
    "        if rng.uniform() < epsilon:\n",
    "            action = env.action_space.sample()  # Explore action space\n",
    "        else:\n",
    "            action = np.argmax(Q[obs_key])     # Exploit learned values\n",
    "        \n",
    "        new_obs, reward, terminated, truncated, _ = env.step(action) \n",
    "        new_obs_key = obs_to_key(new_obs)\n",
    "                    \n",
    "        cumulated_reward += reward\n",
    "        done = terminated or truncated\n",
    "        \n",
    "        # Q-update\n",
    "        best_next_action = np.argmax(Q[new_obs_key])\n",
    "        td_target = reward + gamma * Q[new_obs_key][best_next_action]\n",
    "        Q[obs_key][action] += alpha * (td_target - Q[obs_key][action])\n",
    "\n",
    "        obs, obs_key = new_obs, new_obs_key\n",
    "        \n",
    "    # Decay epsilon\n",
    "    epsilon = max(epsilon_min, epsilon * epsilon_decay)\n",
    "\n",
    "#with open(f\"examples/elevator/trained_models/Qtable_quick.pkl\", \"wb\") as output_file:\n",
    "#    pickle.dump(Q, output_file)"
   ]
  },
  {
   "cell_type": "markdown",
   "id": "214ee1fa-d382-413b-b0b7-877483b5c8fb",
   "metadata": {},
   "source": [
    "## Comparison with Random policy\n",
    "\n",
    "Here we will compare the Q-Learning table saved with a simple random policy and another rule-based policy. The policies will be compared on several arrival profiles with another seed."
   ]
  },
  {
   "cell_type": "code",
   "execution_count": 46,
   "id": "1150be22-d531-4c54-90cb-388620db3cf9",
   "metadata": {},
   "outputs": [],
   "source": [
    "eval_params = parameter_generator(seed=1234)\n",
    "\n",
    "eval_episodes = 30\n",
    "rewards = {}"
   ]
  },
  {
   "cell_type": "markdown",
   "id": "fe3c54d0",
   "metadata": {},
   "source": [
    "### Random Policy\n",
    "The action is chosen randomly at each decision step by randomly sampling within the action space."
   ]
  },
  {
   "cell_type": "code",
   "execution_count": 47,
   "id": "0e3e6651",
   "metadata": {
    "scrolled": true
   },
   "outputs": [
    {
     "name": "stderr",
     "output_type": "stream",
     "text": [
      "100%|██████████████████████████████████████████████████████████████████████████████████████████████████████████████████████████████████████████████████████████████████████████████████████████████████| 30/30 [00:01<00:00, 27.94it/s]\n"
     ]
    }
   ],
   "source": [
    "env = gym.make(\"gym4real/elevator-v0\", **{'settings':eval_params})\n",
    "\n",
    "alg = 'random'\n",
    "rewards[alg] = {}\n",
    "\n",
    "for episode in tqdm(range(eval_episodes)):\n",
    "    obs, info = env.reset()\n",
    "    done = False\n",
    "    cumulated_reward = 0\n",
    "    rewards[alg][episode] = []\n",
    "    \n",
    "    while not done:\n",
    "        action = env.action_space.sample()  # Randomly select an action\n",
    "        obs, reward, terminated, truncated, info = env.step(action)  \n",
    "        done = terminated or truncated\n",
    "        cumulated_reward += reward\n",
    "        rewards[alg][episode].append(cumulated_reward)"
   ]
  },
  {
   "cell_type": "markdown",
   "id": "0065e777-117b-4eab-92b6-cd85c368e728",
   "metadata": {},
   "source": [
    "### Longest Queue First Policy\n",
    "The `longest_first` policy gives priority to the floor with more waiting people."
   ]
  },
  {
   "cell_type": "code",
   "execution_count": 48,
   "id": "e652afa2-2508-4e1a-b8d5-6b02ef67eca8",
   "metadata": {},
   "outputs": [
    {
     "name": "stderr",
     "output_type": "stream",
     "text": [
      "100%|██████████████████████████████████████████████████████████████████████████████████████████████████████████████████████████████████████████████████████████████████████████████████████████████████| 30/30 [00:00<00:00, 40.42it/s]\n"
     ]
    }
   ],
   "source": [
    "env = gym.make(\"gym4real/elevator-v0\", **{'settings':eval_params})\n",
    "\n",
    "alg = 'longest_first'\n",
    "rewards[alg] = {}\n",
    "\n",
    "for episode in tqdm(range(eval_episodes)):\n",
    "    obs, info = env.reset()\n",
    "    done = False\n",
    "    cumulated_reward = 0\n",
    "    rewards[alg][episode] = []\n",
    "        \n",
    "    while not done:\n",
    "        if obs['n_passengers'] > 0:\n",
    "            if obs['current_position'] * info['movement_speed'] / info['floor_height'] == info['goal_floor']:\n",
    "                action = 1  # stay still\n",
    "            else:\n",
    "                action = 0  # move down\n",
    "        else:\n",
    "            # Check if any passengers are waiting on the current floor\n",
    "            len_max_queue, idx_max_queue = max((queue, idx+1) for idx, queue in enumerate(obs['floor_queues']))\n",
    "            \n",
    "            if len_max_queue == 0:\n",
    "                action = 1  # stay still\n",
    "            else:\n",
    "                if obs['current_position'] * info['movement_speed'] == (idx_max_queue) * info['floor_height']:\n",
    "                    action = 1  # stay still\n",
    "                elif obs['current_position'] * info['movement_speed'] < (idx_max_queue) * info['floor_height']:\n",
    "                    action = 2  # move up            \n",
    "                elif obs['current_position'] * info['movement_speed'] > (idx_max_queue) * info['floor_height']:\n",
    "                    action = 0\n",
    "                else:\n",
    "                    action = 1\n",
    "                    \n",
    "        obs, reward, terminated, truncated, info = env.step(action)\n",
    "        cumulated_reward += reward\n",
    "        done = terminated or truncated\n",
    "        rewards[alg][episode].append(cumulated_reward)"
   ]
  },
  {
   "cell_type": "markdown",
   "id": "87c569e2-f270-433f-b7cd-f1639ce32b7d",
   "metadata": {},
   "source": [
    "### Q-Learning\n",
    "We test with the Q-Learning model trained so far, importing the saved `Qtable_quick.pkl` serialized object."
   ]
  },
  {
   "cell_type": "code",
   "execution_count": 49,
   "id": "d1f4832e-dfbf-4ca7-beb0-1de2a986db02",
   "metadata": {},
   "outputs": [
    {
     "name": "stderr",
     "output_type": "stream",
     "text": [
      "100%|██████████████████████████████████████████████████████████████████████████████████████████████████████████████████████████████████████████████████████████████████████████████████████████████████| 30/30 [00:01<00:00, 27.88it/s]\n"
     ]
    }
   ],
   "source": [
    "env = gym.make(\"gym4real/elevator-v0\", **{'settings':eval_params})\n",
    "\n",
    "alg = 'q-learning'\n",
    "rewards[alg] = {}\n",
    "with open('examples/elevator/trained_models/trained_qlearning_Qtable.pkl', 'rb') as f:\n",
    "    Q = pickle.load(f)\n",
    "\n",
    "for episode in tqdm(range(eval_episodes)):\n",
    "    obs, _ = env.reset()\n",
    "    obs_key = obs_to_key(obs)\n",
    "    \n",
    "    done = False\n",
    "    cumulated_reward = 0\n",
    "    rewards[alg][episode] = []\n",
    "        \n",
    "    while not done:\n",
    "        action = np.argmax(Q[obs_key])  # Exploit learned values\n",
    "        new_obs, reward, terminated, truncated, _ = env.step(action)\n",
    "        new_obs_key = obs_to_key(new_obs)\n",
    "        \n",
    "        cumulated_reward += reward\n",
    "        done = terminated or truncated\n",
    "        obs_key = new_obs_key\n",
    "        rewards[alg][episode].append(cumulated_reward)"
   ]
  },
  {
   "cell_type": "markdown",
   "id": "40212b46-1e6d-4072-ae55-c0cdd02c6b6b",
   "metadata": {},
   "source": [
    "Let's compare the cumulative rewards averaged among the test profiles between `Q-Learning` undergone a quick training, the `random` policy and the `longest_first` policy."
   ]
  },
  {
   "cell_type": "code",
   "execution_count": 50,
   "id": "c313a3a3",
   "metadata": {},
   "outputs": [
    {
     "data": {
      "image/png": "[encoded data removed]",
      "text/plain": [
       "<Figure size 1000x400 with 1 Axes>"
      ]
     },
     "metadata": {},
     "output_type": "display_data"
    }
   ],
   "source": [
    "fig, ax = plt.subplots(1, 1, figsize=(10, 4), tight_layout=True)\n",
    "\n",
    "for i, alg in enumerate(rewards.keys()):\n",
    "    means = np.mean([(rewards[alg][profile]) for profile in rewards[alg].keys()], axis=0)\n",
    "    stds = np.std([(rewards[alg][profile]) for profile in rewards[alg].keys()], axis=0)\n",
    "    ci = 1.96 * stds/np.sqrt(len(rewards[alg].keys()))\n",
    "    \n",
    "    ax.plot(means, label=alg, color=alg_color[alg])        \n",
    "    ax.fill_between(range(len(means)), means + ci, means - ci, alpha=0.1, color=alg_color[alg])\n",
    "    ax.legend()"
   ]
  },
  {
   "cell_type": "code",
   "execution_count": null,
   "id": "81cac5ce-b1bc-4c97-ab0a-9b35a8ddecad",
   "metadata": {},
   "outputs": [],
   "source": []
  }
 ],
 "metadata": {
  "kernelspec": {
   "display_name": "Python (gym4real)",
   "language": "python",
   "name": "gym4real"
  },
  "language_info": {
   "codemirror_mode": {
    "name": "ipython",
    "version": 3
   },
   "file_extension": ".py",
   "mimetype": "text/x-python",
   "name": "python",
   "nbconvert_exporter": "python",
   "pygments_lexer": "ipython3",
   "version": "3.12.9"
  }
 },
 "nbformat": 4,
 "nbformat_minor": 5
}
