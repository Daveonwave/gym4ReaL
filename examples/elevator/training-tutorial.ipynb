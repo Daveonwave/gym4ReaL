{
 "cells": [
  {
   "cell_type": "markdown",
   "id": "c2551241",
   "metadata": {},
   "source": [
    "# Simple Q-learning agent\n",
    "\n",
    "The notebook provides a quick training of [Q-learning](https://link.springer.com/article/10.1007/bf00992698) algorithm on the `ElevatorEnv` environment."
   ]
  },
  {
   "cell_type": "code",
   "execution_count": 1,
   "id": "756ffdd3",
   "metadata": {},
   "outputs": [
    {
     "name": "stdout",
     "output_type": "stream",
     "text": [
      "/Users/dave/Library/CloudStorage/OneDrive-PolitecnicodiMilano/PhD/Repositories/gym4ReaL\n"
     ]
    }
   ],
   "source": [
    "%load_ext autoreload\n",
    "%autoreload 2\n",
    "%matplotlib inline\n",
    "%cd ../.."
   ]
  },
  {
   "cell_type": "code",
   "execution_count": 2,
   "id": "2f82ead8",
   "metadata": {},
   "outputs": [],
   "source": [
    "import matplotlib.pyplot as plt\n",
    "import seaborn as sns\n",
    "import numpy as np\n",
    "from datetime import datetime\n",
    "from tqdm import tqdm\n",
    "from collections import OrderedDict\n",
    "from gymnasium.utils.env_checker import check_env\n",
    "import gymnasium as gym\n",
    "\n",
    "from gym4real.envs.elevator.utils import parameter_generator"
   ]
  },
  {
   "cell_type": "code",
   "execution_count": 3,
   "id": "b1d063ac-c1aa-4a69-bf85-c3944f1eb865",
   "metadata": {},
   "outputs": [],
   "source": [
    "sns.set_style('darkgrid')\n",
    "plot_colors = sns.color_palette()\n",
    "sns.set(font_scale=1.2)"
   ]
  },
  {
   "cell_type": "markdown",
   "id": "2a9efdeb",
   "metadata": {},
   "source": [
    "## DQN Agent\n",
    "We are adopting a custom version of Q-Learning to solve the tabular MDP."
   ]
  },
  {
   "cell_type": "code",
   "execution_count": 10,
   "id": "56bb9ce5-437b-4f4a-be17-15ed5e1e42f3",
   "metadata": {},
   "outputs": [],
   "source": [
    "from stable_baselines3 import DQN\n",
    "from stable_baselines3.common.env_util import make_vec_env"
   ]
  },
  {
   "cell_type": "code",
   "execution_count": 11,
   "id": "e601a433-55cb-4ec6-aad3-03f7601906dc",
   "metadata": {},
   "outputs": [],
   "source": [
    "n_episodes = 25\n",
    "n_envs = 4"
   ]
  },
  {
   "cell_type": "code",
   "execution_count": 12,
   "id": "58ae9496-9e0d-4b86-a767-a7461a1a0da1",
   "metadata": {
    "scrolled": true
   },
   "outputs": [
    {
     "data": {
      "text/plain": [
       "{'min_floor': 0,\n",
       " 'max_floor': 4,\n",
       " 'max_capacity': 4,\n",
       " 'movement_speed': 3.0,\n",
       " 'floor_height': 6,\n",
       " 'max_arrivals': 2,\n",
       " 'max_queue_length': 3,\n",
       " 'duration': 3600,\n",
       " 'timestep': 1,\n",
       " 'goal_floor': 0,\n",
       " 'init_elevator_pos': None,\n",
       " 'random_init_state': False,\n",
       " 'arrival_distributions': {'lambda_min': 0.01, 'lambda_max': 0.1, 'seed': 42}}"
      ]
     },
     "execution_count": 12,
     "metadata": {},
     "output_type": "execute_result"
    }
   ],
   "source": [
    "params = parameter_generator(lambda_min=0.01, lambda_max=0.1, seed=42)\n",
    "params"
   ]
  },
  {
   "cell_type": "code",
   "execution_count": 13,
   "id": "09f158d9-32f9-4b81-bdcb-7974a6918275",
   "metadata": {},
   "outputs": [
    {
     "name": "stderr",
     "output_type": "stream",
     "text": [
      "/Users/dave/miniconda3/envs/gym4real/lib/python3.12/site-packages/gymnasium/envs/registration.py:736: UserWarning: \u001b[33mWARN: The environment is being initialised with render_mode='rgb_array' that is not in the possible render_modes ([]).\u001b[0m\n",
      "  logger.warn(\n"
     ]
    }
   ],
   "source": [
    "envs = make_vec_env(\"gym4real/elevator-v0\",  n_envs=n_envs, env_kwargs={'settings':params})"
   ]
  },
  {
   "cell_type": "code",
   "execution_count": 14,
   "id": "03d394e2-8b63-4f30-9dae-57af8d707b0e",
   "metadata": {
    "scrolled": true
   },
   "outputs": [
    {
     "data": {
      "application/vnd.jupyter.widget-view+json": {
       "model_id": "7f93ee85c91246e4b456622e1fdc1190",
       "version_major": 2,
       "version_minor": 0
      },
      "text/plain": [
       "Output()"
      ]
     },
     "metadata": {},
     "output_type": "display_data"
    },
    {
     "data": {
      "text/html": [
       "<pre style=\"white-space:pre;overflow-x:auto;line-height:normal;font-family:Menlo,'DejaVu Sans Mono',consolas,'Courier New',monospace\"></pre>\n"
      ],
      "text/plain": []
     },
     "metadata": {},
     "output_type": "display_data"
    }
   ],
   "source": [
    "model = DQN(\"MultiInputPolicy\", envs)\n",
    "model.learn(total_timesteps=params['duration'] * n_episodes * n_envs, \n",
    "            progress_bar=True)\n",
    "model.save('examples/elevator/trained_models/DQN_quick')"
   ]
  },
  {
   "cell_type": "markdown",
   "id": "214ee1fa-d382-413b-b0b7-877483b5c8fb",
   "metadata": {},
   "source": [
    "## Comparison with Random policy\n",
    "\n",
    "Here we will compare the DQN model saved with a simple random policy. The policies will be compared on several arrival profiles with another seed."
   ]
  },
  {
   "cell_type": "code",
   "execution_count": 28,
   "id": "1150be22-d531-4c54-90cb-388620db3cf9",
   "metadata": {},
   "outputs": [],
   "source": [
    "eval_params = parameter_generator(seed=1234)\n",
    "\n",
    "eval_episodes = 30\n",
    "rewards = {}"
   ]
  },
  {
   "cell_type": "markdown",
   "id": "fe3c54d0",
   "metadata": {},
   "source": [
    "### Random Policy\n",
    "The action is chosen randomly at each decision step by randomly sampling within the action space."
   ]
  },
  {
   "cell_type": "code",
   "execution_count": 36,
   "id": "0e3e6651",
   "metadata": {
    "scrolled": true
   },
   "outputs": [
    {
     "name": "stderr",
     "output_type": "stream",
     "text": [
      " 20%|█████████████████████████████                                                                                                                    | 6/30 [00:00<00:00, 24.50it/s]"
     ]
    },
    {
     "name": "stdout",
     "output_type": "stream",
     "text": [
      "0\n",
      "0\n",
      "0\n",
      "0\n",
      "0\n",
      "0\n",
      "0\n",
      "0\n"
     ]
    },
    {
     "name": "stderr",
     "output_type": "stream",
     "text": [
      " 40%|█████████████████████████████████████████████████████████▌                                                                                      | 12/30 [00:00<00:00, 24.94it/s]"
     ]
    },
    {
     "name": "stdout",
     "output_type": "stream",
     "text": [
      "0\n",
      "0\n",
      "0\n",
      "0\n",
      "0\n",
      "0\n",
      "0\n"
     ]
    },
    {
     "name": "stderr",
     "output_type": "stream",
     "text": [
      " 70%|████████████████████████████████████████████████████████████████████████████████████████████████████▊                                           | 21/30 [00:00<00:00, 25.28it/s]"
     ]
    },
    {
     "name": "stdout",
     "output_type": "stream",
     "text": [
      "0\n",
      "0\n",
      "0\n",
      "0\n",
      "0\n",
      "0\n"
     ]
    },
    {
     "name": "stderr",
     "output_type": "stream",
     "text": [
      " 90%|█████████████████████████████████████████████████████████████████████████████████████████████████████████████████████████████████▌              | 27/30 [00:01<00:00, 25.39it/s]"
     ]
    },
    {
     "name": "stdout",
     "output_type": "stream",
     "text": [
      "0\n",
      "0\n",
      "0\n",
      "0\n",
      "0\n",
      "0\n",
      "0\n",
      "0\n",
      "0\n"
     ]
    },
    {
     "name": "stderr",
     "output_type": "stream",
     "text": [
      "100%|████████████████████████████████████████████████████████████████████████████████████████████████████████████████████████████████████████████████| 30/30 [00:01<00:00, 24.98it/s]\n"
     ]
    }
   ],
   "source": [
    "env = gym.make(\"gym4real/elevator-v0\", **{'settings':eval_params})\n",
    "\n",
    "alg = 'random'\n",
    "rewards[alg] = {}\n",
    "\n",
    "for episode in tqdm(range(eval_episodes)):\n",
    "    obs, info = env.reset(options={'is_evaluation': True})\n",
    "    done = False\n",
    "    cumulated_reward = 0\n",
    "    rewards[alg][episode] = []\n",
    "    \n",
    "    while not done:\n",
    "        action = env.action_space.sample()  # Randomly select an action\n",
    "        obs, reward, terminated, truncated, info = env.step(action)  \n",
    "        done = terminated or truncated\n",
    "        cumulated_reward += reward\n",
    "        rewards[alg][episode].append(cumulated_reward)"
   ]
  },
  {
   "cell_type": "markdown",
   "id": "0065e777-117b-4eab-92b6-cd85c368e728",
   "metadata": {},
   "source": [
    "### Longest Queue First Policy"
   ]
  },
  {
   "cell_type": "code",
   "execution_count": 30,
   "id": "e652afa2-2508-4e1a-b8d5-6b02ef67eca8",
   "metadata": {},
   "outputs": [
    {
     "name": "stderr",
     "output_type": "stream",
     "text": [
      "100%|████████████████████████████████████████████████████████████████████████████████████████████████████████████████████████████████████████████████| 30/30 [00:00<00:00, 31.25it/s]\n"
     ]
    }
   ],
   "source": [
    "env = gym.make(\"gym4real/elevator-v0\", **{'settings':eval_params})\n",
    "\n",
    "alg = 'longest_queue_first'\n",
    "rewards[alg] = {}\n",
    "\n",
    "for episode in tqdm(range(eval_episodes)):\n",
    "    obs, info = env.reset(options={'is_evaluation': True})\n",
    "    done = False\n",
    "    cumulated_reward = 0\n",
    "    rewards[alg][episode] = []\n",
    "        \n",
    "    while not done:\n",
    "        if obs['n_passengers'] > 0:\n",
    "            if obs['current_position'] * info['movement_speed'] / info['floor_height'] == info['goal_floor']:\n",
    "                action = 1  # stay still\n",
    "            else:\n",
    "                action = 0  # move down\n",
    "        else:\n",
    "            # Check if any passengers are waiting on the current floor\n",
    "            len_max_queue, idx_max_queue = max((queue, idx+1) for idx, queue in enumerate(obs['floor_queues']))\n",
    "            \n",
    "            if len_max_queue == 0:\n",
    "                action = 1  # stay still\n",
    "            else:\n",
    "                if obs['current_position'] * info['movement_speed'] == (idx_max_queue) * info['floor_height']:\n",
    "                    action = 1  # stay still\n",
    "                elif obs['current_position'] * info['movement_speed'] < (idx_max_queue) * info['floor_height']:\n",
    "                    action = 2  # move up            \n",
    "                elif obs['current_position'] * info['movement_speed'] > (idx_max_queue) * info['floor_height']:\n",
    "                    action = 0\n",
    "                else:\n",
    "                    action = 1\n",
    "                    \n",
    "        obs, reward, terminated, truncated, info = env.step(action)\n",
    "        cumulated_reward += reward\n",
    "        done = terminated or truncated\n",
    "        rewards[alg][episode].append(cumulated_reward)\n",
    "        #pprint(f\"Episode: {episode}, Step: {info['current_time']}, Action: {action}, \"f\"Reward: {reward}, Cumulative Reward: {cumulated_reward}, \" \n",
    "        #f\"Current Pos: {obs['current_position']}, Passengers: {obs['n_passengers']}, \" f\"Queues: {obs['floor_queues']}\")"
   ]
  },
  {
   "cell_type": "markdown",
   "id": "70f35066-0d9a-4e07-a9d1-6e7863acda64",
   "metadata": {},
   "source": [
    "### DQN agent\n",
    "Here we load the previously created model `DQN_quick`."
   ]
  },
  {
   "cell_type": "code",
   "execution_count": 31,
   "id": "a4d1271c-39b9-4dc9-bfe0-1c19afdabaf8",
   "metadata": {},
   "outputs": [
    {
     "name": "stdout",
     "output_type": "stream",
     "text": [
      "Using cpu device\n"
     ]
    },
    {
     "name": "stderr",
     "output_type": "stream",
     "text": [
      "100%|████████████████████████████████████████████████████████████████████████████████████████████████████████████████████████████████████████████████| 30/30 [00:18<00:00,  1.61it/s]\n"
     ]
    }
   ],
   "source": [
    "env = make_vec_env(\"gym4real/elevator-v0\", n_envs=1, env_kwargs={'settings':eval_params})\n",
    "\n",
    "alg = 'dqn'\n",
    "rewards[alg] = {}\n",
    "\n",
    "model = DQN('MultiInputPolicy', env, verbose=1)\n",
    "vec_env = model.get_env()\n",
    "model = DQN.load(\"examples/elevator/trained_models/DQN_quick\")\n",
    "\n",
    "for episode in tqdm(range(eval_episodes)):\n",
    "    vec_env.set_options({'is_evaluation': True})\n",
    "    obs = vec_env.reset()\n",
    "\n",
    "    done = False\n",
    "    cumulated_reward = 0\n",
    "    rewards[alg][episode] = []\n",
    "    \n",
    "    while not done:\n",
    "        action, _states = model.predict(obs)\n",
    "        obs, r, dones, info = vec_env.step(action)\n",
    "        done = dones[0]\n",
    "        cumulated_reward += r[0]\n",
    "        rewards[alg][episode].append(cumulated_reward)"
   ]
  },
  {
   "cell_type": "markdown",
   "id": "40212b46-1e6d-4072-ae55-c0cdd02c6b6b",
   "metadata": {},
   "source": [
    "Let's compare the cumulative rewards averaged among the test profiles between `DQN` undergone a quick training and the `random` policy."
   ]
  },
  {
   "cell_type": "code",
   "execution_count": 32,
   "id": "c313a3a3",
   "metadata": {},
   "outputs": [
    {
     "data": {
      "image/png": "[encoded data removed]",
      "text/plain": [
       "<Figure size 1000x400 with 1 Axes>"
      ]
     },
     "metadata": {},
     "output_type": "display_data"
    }
   ],
   "source": [
    "fig, ax = plt.subplots(1, 1, figsize=(10, 4), tight_layout=True)\n",
    "\n",
    "for i, alg in enumerate(rewards.keys()):\n",
    "    means = np.mean([(rewards[alg][profile]) for profile in rewards[alg].keys()], axis=0)\n",
    "    stds = np.std([(rewards[alg][profile]) for profile in rewards[alg].keys()], axis=0)\n",
    "    ci = 1.96 * stds/np.sqrt(len(rewards[alg].keys()))\n",
    "    \n",
    "    ax.plot(means, label=alg)        \n",
    "    ax.fill_between(range(len(means)), means + ci, means - ci, alpha=0.1)\n",
    "    ax.legend()"
   ]
  },
  {
   "cell_type": "code",
   "execution_count": null,
   "id": "cf099e49-396c-42f1-94a3-5c2cd420619f",
   "metadata": {},
   "outputs": [],
   "source": []
  }
 ],
 "metadata": {
  "kernelspec": {
   "display_name": "Python (gym4real)",
   "language": "python",
   "name": "gym4real"
  },
  "language_info": {
   "codemirror_mode": {
    "name": "ipython",
    "version": 3
   },
   "file_extension": ".py",
   "mimetype": "text/x-python",
   "name": "python",
   "nbconvert_exporter": "python",
   "pygments_lexer": "ipython3",
   "version": "3.12.9"
  }
 },
 "nbformat": 4,
 "nbformat_minor": 5
}
