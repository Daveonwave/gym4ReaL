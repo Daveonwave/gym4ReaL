{
 "cells": [
  {
   "cell_type": "markdown",
   "id": "ab0e0393",
   "metadata": {},
   "source": [
    "### Step 0 : Init RoboFeeder Env\n",
    "This cell sets up the environment for the RoboFeeder simulation by importing necessary modules and configuring the Python path."
   ]
  },
  {
   "cell_type": "code",
   "execution_count": null,
   "id": "0aa55387",
   "metadata": {},
   "outputs": [],
   "source": [
    "import os \n",
    "dir = os.getcwd()\n",
    "if 'examples' in dir:\n",
    "    os.chdir(os.getcwd().split('examples')[0])\n",
    "else:\n",
    "    print(\"please set the working directory to the root of the gym4ReaL repository\")\n",
    "\n",
    "# check if the current working directory is the root of the gym4ReaL repository\n",
    "os.getcwd()"
   ]
  },
  {
   "cell_type": "markdown",
   "id": "dec35aab",
   "metadata": {},
   "source": [
    "### Step 1 : Import Required Modules\n",
    "This cell imports the necessary modules and updates the system path to include the gym4ReaL repository. It also imports the robot simulator and matplotlib for visualization purposes."
   ]
  },
  {
   "cell_type": "code",
   "execution_count": null,
   "id": "dc4f1eb2",
   "metadata": {},
   "outputs": [],
   "source": [
    "import sys\n",
    "sys.path.append(os.getcwd())  # <-- path to the *parent* of gym4real\n",
    "\n",
    "import os\n",
    "import gymnasium as gym\n",
    "import onnxruntime as ort\n",
    "import numpy as np\n",
    "import matplotlib.pyplot as plt\n",
    "\n",
    "import gym4real.envs.robofeeder as rf\n",
    "from gym4real.algorithms.robofeeder import baseline"
   ]
  },
  {
   "cell_type": "code",
   "execution_count": null,
   "id": "60a628bb",
   "metadata": {
    "vscode": {
     "languageId": "markdown"
    }
   },
   "outputs": [],
   "source": [
    "### Step 2 : Define Plotting Function\n",
    "This cell defines the `plot_action` function, which visualizes the picking point (action) on the observation image. The function rescales the action coordinates to match the image size and displays the result using matplotlib."
   ]
  },
  {
   "cell_type": "code",
   "execution_count": 2,
   "id": "8cd3f3ea",
   "metadata": {},
   "outputs": [],
   "source": [
    "def plot_action(current_obs,action):\n",
    "    # evaluate picking point respect to the observation\n",
    "    print(\"evaluate picking point respect to the observation\")\n",
    "    plt.imshow(current_obs[0],cmap=plt.cm.gray)\n",
    "\n",
    "    #rescale the action to the image size, with aciion being in [-1,1]\n",
    "    action[0] = (action[0] + 1) * 0.5 * current_obs[0].shape[1]\n",
    "    action[1] = (action[1] + 1) * 0.5 * current_obs[0].shape[0]\n",
    "    # add x-y coordinates of the action\n",
    "    plt.scatter(action[0],action[1],marker='o',color='red',s=100)\n",
    "    plt.show()\n"
   ]
  },
  {
   "cell_type": "code",
   "execution_count": null,
   "id": "06bb1891",
   "metadata": {
    "vscode": {
     "languageId": "markdown"
    }
   },
   "outputs": [],
   "source": [
    "### Step 3 : Load Pretrained Agent\n",
    "This cell loads the pretrained PPO agent for the RoboFeeder environment using ONNX Runtime. It sets up the path to the pretrained model and initializes the inference session with available providers."
   ]
  },
  {
   "cell_type": "code",
   "execution_count": 3,
   "id": "7464db0f",
   "metadata": {},
   "outputs": [
    {
     "name": "stderr",
     "output_type": "stream",
     "text": [
      "/usr/local/lib/python3.10/site-packages/onnxruntime/capi/onnxruntime_inference_collection.py:118: UserWarning: Specified provider 'CUDAExecutionProvider' is not in available provider names.Available providers: 'AzureExecutionProvider, CPUExecutionProvider'\n",
      "  warnings.warn(\n"
     ]
    }
   ],
   "source": [
    "current_dir = os.path.dirname(rf.__file__)\n",
    "# Load the object detection network\n",
    "pretrained_ppo_dir = os.path.join(current_dir, \"utils\", \"Pretrained/\")\n",
    "\n",
    "# Init the ONNX runtime session\n",
    "providers = ['CUDAExecutionProvider','CPUExecutionProvider']\n",
    "pretrained_agent = ort.InferenceSession(pretrained_ppo_dir + 'robofeeder-picking.onnx',providers=providers)\n",
    "# baseline_agent = baseline.Baseline_picking()"
   ]
  },
  {
   "cell_type": "markdown",
   "id": "24c313a1",
   "metadata": {},
   "source": [
    "### Step 4 : Test Simulator\n",
    "import the simulator configuration file to pass the required parameters to run. \n",
    "Relevant parameters to adapt:\n",
    "\n",
    "#### ObjectToPick\n",
    "    NUMBER_OF_OBJECTS: 1           # (int) Number of objects to pick\n",
    "    SHUFFLE_OBJECTS: True          # (bool) Shuffle object positions at reset\n",
    "    OBJ_CORRECT_ORIENTATION: True  # (bool) Ensure objects have correct orientation\n",
    "\n",
    "#### Simulator Setting\n",
    "    IS_SIMULATION_REAL_TIME: False   # (bool) Run simulation in real time\n",
    "    IS_SIMULATION_SHOWED: True       # (bool) Show simulation window\n",
    "    IS_SIMULATION_RECORD: False      # (bool) Record simulation video\n",
    "    RECORD_FOLDER : \".\" # (str) Folder to save recorded videos\n"
   ]
  },
  {
   "cell_type": "code",
   "execution_count": null,
   "id": "86ab94df",
   "metadata": {},
   "outputs": [],
   "source": [
    "import shutil\n",
    "\n",
    "# Copy the default configuration file to a new editable file\n",
    "default_config_file = os.getcwd() + \"/gym4real/envs/robofeeder/configuration.yaml\"\n",
    "config_file = os.getcwd() + \"/examples/robofeeder/notebooks/configuration_editable.yaml\"\n",
    "shutil.copy(default_config_file, config_file)"
   ]
  },
  {
   "cell_type": "markdown",
   "id": "c8d4b78c",
   "metadata": {},
   "source": [
    "### Step 3 : Initialize RoboFeeder Environment\n",
    "\n",
    "This cell creates an instance of the RoboFeeder picking environment using the specified configuration file. The environment is initialized with the required settings for subsequent experiments and evaluations.\n"
   ]
  },
  {
   "cell_type": "code",
   "execution_count": null,
   "id": "a8043540",
   "metadata": {},
   "outputs": [
    {
     "name": "stderr",
     "output_type": "stream",
     "text": [
      "/usr/local/lib/python3.10/site-packages/gymnasium/envs/registration.py:519: DeprecationWarning: \u001b[33mWARN: The environment gym4real/robofeeder-picking-v0 is out of date. You should consider upgrading to version `v1`.\u001b[0m\n",
      "  logger.deprecation(\n",
      "/usr/local/lib/python3.10/site-packages/onnxruntime/capi/onnxruntime_inference_collection.py:118: UserWarning: Specified provider 'CUDAExecutionProvider' is not in available provider names.Available providers: 'AzureExecutionProvider, CPUExecutionProvider'\n",
      "  warnings.warn(\n"
     ]
    }
   ],
   "source": [
    "env = gym.make('gym4real/robofeeder-picking-v0', config_file=config_file)"
   ]
  },
  {
   "cell_type": "markdown",
   "id": "579af6ef",
   "metadata": {},
   "source": [
    "### Step 5 : Run Pretrained Agent and Visualize Action\n",
    "\n",
    "This cell demonstrates how to use the pretrained PPO agent to interact with the RoboFeeder environment. The agent observes the environment, predicts an action, and executes it. The normalized action coordinates (X, Y, Theta) are printed, along with the reward and completion status. If the episode ends (`done` is True), the environment is reset for the next run.\n"
   ]
  },
  {
   "cell_type": "code",
   "execution_count": null,
   "id": "ad8edba1",
   "metadata": {},
   "outputs": [
    {
     "name": "stdout",
     "output_type": "stream",
     "text": [
      "pretrained agent action\n",
      "normalized X: 0.010316761  normalized Y: 0.77002335  Theta [rad]: -0.20724064\n",
      "done: True\n",
      "reward: -0.1372836790352628 \n",
      "\n"
     ]
    }
   ],
   "source": [
    "# perform an action with pretrained agent   \n",
    "current_obs,_ = env.reset()\n",
    "action = pretrained_agent.run(None, {\"input\": np.expand_dims(current_obs,axis=0)})[0][0]\n",
    "print(\"pretrained agent action\")\n",
    "print(\"normalized X:\",action[0],\" normalized Y:\",action[1],\" Theta [rad]:\",action[2])\n",
    "obs,rew,done,_,_ = env.step(action)\n",
    "\n",
    "print(\"done:\",done) \n",
    "print(\"reward:\",rew,\"\\n\")\n",
    "\n",
    "if(done): env.reset()"
   ]
  },
  {
   "cell_type": "markdown",
   "id": "125b86a1",
   "metadata": {},
   "source": [
    "#### Result\n",
    "The following code block demonstrates how to use the pretrained PPO agent to interact with the RoboFeeder environment. The agent receives an observation from the environment, predicts an action using the ONNX model, and executes this action in the environment. The normalized action coordinates (X, Y, Theta) are printed, along with the reward and completion status. If the episode ends (`done` is True), the environment is reset for the next run.\n"
   ]
  },
  {
   "cell_type": "code",
   "execution_count": 6,
   "id": "df2272cc",
   "metadata": {},
   "outputs": [
    {
     "name": "stdout",
     "output_type": "stream",
     "text": [
      "evaluate picking point respect to the observation\n"
     ]
    },
    {
     "data": {
      "image/png": "[encoded data removed]",
      "text/plain": [
       "<Figure size 640x480 with 1 Axes>"
      ]
     },
     "metadata": {},
     "output_type": "display_data"
    }
   ],
   "source": [
    "plot_action(current_obs,action)"
   ]
  },
  {
   "cell_type": "markdown",
   "id": "cb846c67",
   "metadata": {},
   "source": [
    "\n",
    "### Step 6 : Run Baseline Agent and Visualize Action\n",
    "\n",
    "This cell demonstrates how to use the baseline picking agent to interact with the RoboFeeder environment. The baseline agent generates an action based on the environment's action space, which is then executed in the environment. The normalized action coordinates (X, Y, Theta) are printed, along with the reward and completion status. If the episode ends (`done` is True), the environment is reset for the next run.\n"
   ]
  },
  {
   "cell_type": "code",
   "execution_count": 7,
   "id": "7dab7e4a",
   "metadata": {},
   "outputs": [],
   "source": [
    "baseline_agent = baseline.Baseline_picking(env.action_space)"
   ]
  },
  {
   "cell_type": "code",
   "execution_count": 8,
   "id": "8d313fd1",
   "metadata": {},
   "outputs": [
    {
     "name": "stdout",
     "output_type": "stream",
     "text": [
      "pretrained agent action\n",
      "normalized X: 0.0  normalized Y: 0.0  Theta [rad]: 0.0\n",
      "done: True\n",
      "reward: -0.764448816103563 \n",
      "\n"
     ]
    }
   ],
   "source": [
    "# perform an action with baseline agent   \n",
    "\n",
    "current_obs,_ = env.reset()\n",
    "action = baseline_agent.act()\n",
    "print(\"pretrained agent action\")\n",
    "print(\"normalized X:\",action[0],\" normalized Y:\",action[1],\" Theta [rad]:\",action[2])\n",
    "action = np.array(action)\n",
    "obs,rew,done,_,_ = env.step(action)\n",
    "\n",
    "print(\"done:\",done) \n",
    "print(\"reward:\",rew,\"\\n\")\n",
    "\n",
    "if(done): env.reset()\n"
   ]
  },
  {
   "cell_type": "code",
   "execution_count": 9,
   "id": "1efd7d03",
   "metadata": {},
   "outputs": [
    {
     "name": "stdout",
     "output_type": "stream",
     "text": [
      "evaluate picking point respect to the observation\n"
     ]
    },
    {
     "data": {
      "image/png": "[encoded data removed]",
      "text/plain": [
       "<Figure size 640x480 with 1 Axes>"
      ]
     },
     "metadata": {},
     "output_type": "display_data"
    }
   ],
   "source": [
    "plot_action(current_obs,action)"
   ]
  }
 ],
 "metadata": {
  "kernelspec": {
   "display_name": "Python 3",
   "language": "python",
   "name": "python3"
  },
  "language_info": {
   "codemirror_mode": {
    "name": "ipython",
    "version": 3
   },
   "file_extension": ".py",
   "mimetype": "text/x-python",
   "name": "python",
   "nbconvert_exporter": "python",
   "pygments_lexer": "ipython3",
   "version": "3.10.17"
  }
 },
 "nbformat": 4,
 "nbformat_minor": 5
}
