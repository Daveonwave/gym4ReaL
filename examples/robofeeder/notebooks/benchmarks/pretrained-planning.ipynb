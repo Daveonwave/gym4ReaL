{
 "cells": [
  {
   "cell_type": "markdown",
   "id": "c81fe341",
   "metadata": {},
   "source": [
    "### Step 0 : Init RoboFeeder Env\n",
    "This cell sets up the environment for the RoboFeeder simulation by importing necessary modules and configuring the Python path."
   ]
  },
  {
   "cell_type": "code",
   "execution_count": 1,
   "id": "54628ada",
   "metadata": {},
   "outputs": [
    {
     "data": {
      "text/plain": [
       "'/home/edge/Desktop/gym4ReaL'"
      ]
     },
     "execution_count": 1,
     "metadata": {},
     "output_type": "execute_result"
    }
   ],
   "source": [
    "import os \n",
    "dir = os.getcwd()\n",
    "if 'gym4ReaL' in dir:\n",
    "    os.chdir(os.getcwd().split('gym4ReaL')[0] + 'gym4ReaL')\n",
    "else:\n",
    "    print(\"please set the working directory to the root of the gym4ReaL repository\")\n",
    "\n",
    "# check if the current working directory is the root of the gym4ReaL repository\n",
    "os.getcwd()"
   ]
  },
  {
   "cell_type": "markdown",
   "id": "5efc3c3f",
   "metadata": {},
   "source": [
    "### Step 1 : Import Required Modules\n",
    "This cell imports the necessary modules and updates the system path to include the gym4ReaL repository. It also imports the robot simulator and matplotlib for visualization purposes."
   ]
  },
  {
   "cell_type": "code",
   "execution_count": 2,
   "id": "dc4f1eb2",
   "metadata": {},
   "outputs": [],
   "source": [
    "import sys\n",
    "sys.path.append(os.getcwd())  # <-- path to the *parent* of gym4real\n",
    "import os\n",
    "import gymnasium as gym\n",
    "import onnxruntime as ort\n",
    "import numpy as np\n",
    "import matplotlib.pyplot as plt\n",
    "\n",
    "import gym4real.envs.robofeeder as rf\n",
    "from gym4real.algorithms.robofeeder import baseline"
   ]
  },
  {
   "cell_type": "markdown",
   "id": "e603db5f",
   "metadata": {},
   "source": [
    "\n",
    "### Step 2 : Load Pretrained Agent and Setup Action Mapping\n",
    "This cell sets up the ONNX runtime session for the pretrained PPO agent used in the RoboFeeder environment. It also defines the action index mapping for interpreting the agent's output.\n"
   ]
  },
  {
   "cell_type": "code",
   "execution_count": 4,
   "id": "7464db0f",
   "metadata": {},
   "outputs": [],
   "source": [
    "current_dir = os.path.dirname(rf.__file__)\n",
    "# Load the object detection network\n",
    "pretrained_ppo_dir = os.path.join(current_dir, \"utils\", \"Pretrained/\")\n",
    "\n",
    "# Init the ONNX runtime session\n",
    "providers = ['CUDAExecutionProvider','CPUExecutionProvider']\n",
    "pretrained_agent = ort.InferenceSession(pretrained_ppo_dir + 'robofeeder-planning.onnx',providers=providers)\n",
    "# baseline_agent = baseline.Baseline_picking()\n",
    "\n",
    "# index dictionary for the action space\n",
    "index_dict = {\n",
    "    0:'Reset',\n",
    "    1:'First',\n",
    "    2:'Second',\n",
    "    3:'Third',\n",
    "}"
   ]
  },
  {
   "cell_type": "markdown",
   "id": "910785b7",
   "metadata": {},
   "source": [
    "### Step 3 : Test Simulator\n",
    "import the simulator configuration file to pass the required parameters to run. \n",
    "Relevant parameters to adapt:\n",
    "\n",
    "#### ObjectToPick\n",
    "    NUMBER_OF_OBJECTS: 1           # (int) Number of objects to pick\n",
    "    SHUFFLE_OBJECTS: True          # (bool) Shuffle object positions at reset\n",
    "    OBJ_CORRECT_ORIENTATION: True  # (bool) Ensure objects have correct orientation\n",
    "\n",
    "#### Simulator Setting\n",
    "    IS_SIMULATION_REAL_TIME: False   # (bool) Run simulation in real time\n",
    "    IS_SIMULATION_SHOWED: True       # (bool) Show simulation window\n",
    "    IS_SIMULATION_RECORD: False      # (bool) Record simulation video\n",
    "    RECORD_FOLDER : \".\" # (str) Folder to save recorded videos"
   ]
  },
  {
   "cell_type": "code",
   "execution_count": 5,
   "id": "14f82c49",
   "metadata": {},
   "outputs": [
    {
     "data": {
      "text/plain": [
       "'/home/edge/Desktop/gym4ReaL/examples/robofeeder/notebooks/configuration_editable.yaml'"
      ]
     },
     "execution_count": 5,
     "metadata": {},
     "output_type": "execute_result"
    }
   ],
   "source": [
    "import shutil\n",
    "\n",
    "# Copy the default configuration file to a new editable file\n",
    "default_config_file = os.getcwd() + \"/gym4real/envs/robofeeder/configuration.yaml\"\n",
    "config_file = os.getcwd() + \"/examples/robofeeder/notebooks/configuration_editable.yaml\"\n",
    "shutil.copy(default_config_file, config_file)"
   ]
  },
  {
   "cell_type": "markdown",
   "id": "dcbbfe62",
   "metadata": {},
   "source": [
    "\n",
    "### Step 4 : Initialize the RoboFeeder Environment\n",
    "This cell creates an instance of the RoboFeeder environment using the specified configuration file and resets the environment to obtain the initial observation.\n"
   ]
  },
  {
   "cell_type": "code",
   "execution_count": 6,
   "id": "a8043540",
   "metadata": {},
   "outputs": [
    {
     "name": "stderr",
     "output_type": "stream",
     "text": [
      "/home/edge/Desktop/edgegym/lib/python3.10/site-packages/onnxruntime/capi/onnxruntime_inference_collection.py:118: UserWarning: Specified provider 'CUDAExecutionProvider' is not in available provider names.Available providers: 'AzureExecutionProvider, CPUExecutionProvider'\n",
      "  warnings.warn(\n"
     ]
    }
   ],
   "source": [
    "env = gym.make('gym4real/robofeeder-planning', config_file=config_file)\n",
    "current_obs,_ = env.reset()"
   ]
  },
  {
   "cell_type": "markdown",
   "id": "3274078a",
   "metadata": {},
   "source": [
    "\n",
    "### Step 5 : Visualize Observations and Take Actions\n",
    "\n",
    "-  Defines the `printobs` function to visualize the current observations from the RoboFeeder environment. It displays each camera view with its corresponding action and center coordinates.\n",
    "\n",
    "-  Demonstrates how to use the pretrained agent to select and perform an action in the environment. It visualizes the observations before and after the action, prints the chosen action, and displays the reward and completion status.\n"
   ]
  },
  {
   "cell_type": "code",
   "execution_count": 9,
   "id": "257bd1fb",
   "metadata": {},
   "outputs": [],
   "source": [
    "def printobs(env,title):\n",
    "    plt.figure(figsize=(10, 5))\n",
    "    for i in range(env.unwrapped.IMAGE_NUM):\n",
    "        ax = plt.subplot(1, env.unwrapped.IMAGE_NUM, i + 1)\n",
    "        ax.imshow(env.unwrapped.current_obs[i],cmap=plt.cm.gray)\n",
    "        ax.title.set_text(\"Action \"+str(i + 1)+\" - \"+str(env.unwrapped.obsCenter[i]))\n",
    "        ax.get_xaxis().set_visible(False)\n",
    "        ax.get_yaxis().set_visible(False)\n",
    "    plt.suptitle(title)\n",
    "    plt.show()"
   ]
  },
  {
   "cell_type": "code",
   "execution_count": 10,
   "id": "ad8edba1",
   "metadata": {},
   "outputs": [
    {
     "data": {
      "image/png": "[encoded data removed]",
      "text/plain": [
       "<Figure size 1000x500 with 3 Axes>"
      ]
     },
     "metadata": {},
     "output_type": "display_data"
    },
    {
     "name": "stdout",
     "output_type": "stream",
     "text": [
      "pretrained agent action\n",
      "Object to pick: First\n"
     ]
    },
    {
     "data": {
      "image/png": "[encoded data removed]",
      "text/plain": [
       "<Figure size 1000x500 with 3 Axes>"
      ]
     },
     "metadata": {},
     "output_type": "display_data"
    },
    {
     "name": "stdout",
     "output_type": "stream",
     "text": [
      "done: False\n",
      "reward: 1 \n",
      "\n"
     ]
    }
   ],
   "source": [
    "# perform an action with pretrained agent   \n",
    "# current_obs,_ = env.reset()\n",
    "printobs(env,\"Before action\")\n",
    "action = pretrained_agent.run(None, {\"input\": np.expand_dims(current_obs,axis=0)})[0][0]\n",
    "print(\"pretrained agent action\")\n",
    "print(f\"Object to pick: {index_dict[action]}\")\n",
    "current_obs,rew,done,_,_ = env.step(action)\n",
    "\n",
    "printobs(env,\"After action\")\n",
    "\n",
    "print(\"done:\",done) \n",
    "print(\"reward:\",rew,\"\\n\")\n",
    "if(done): env.reset()"
   ]
  },
  {
   "cell_type": "markdown",
   "id": "b431eeb8",
   "metadata": {},
   "source": [
    "### Step 6: The baseline agent\n",
    "\n",
    "-  Initializes the baseline planning agent for comparison with the pretrained agent.\n",
    "\n",
    "-  Shows how to use the baseline agent to select and perform an action in the environment. Similar to the pretrained agent, it visualizes the observations, prints the chosen action, and displays the reward and completion status."
   ]
  },
  {
   "cell_type": "code",
   "execution_count": 11,
   "id": "7dab7e4a",
   "metadata": {},
   "outputs": [],
   "source": [
    "baseline_agent = baseline.Baseline_planning(env.action_space)"
   ]
  },
  {
   "cell_type": "code",
   "execution_count": 12,
   "id": "8d313fd1",
   "metadata": {},
   "outputs": [
    {
     "data": {
      "image/png": "[encoded data removed]",
      "text/plain": [
       "<Figure size 1000x500 with 3 Axes>"
      ]
     },
     "metadata": {},
     "output_type": "display_data"
    },
    {
     "name": "stdout",
     "output_type": "stream",
     "text": [
      "pretrained agent action\n",
      "Object to pick: Reset\n"
     ]
    },
    {
     "data": {
      "image/png": "[encoded data removed]",
      "text/plain": [
       "<Figure size 1000x500 with 3 Axes>"
      ]
     },
     "metadata": {},
     "output_type": "display_data"
    },
    {
     "name": "stdout",
     "output_type": "stream",
     "text": [
      "done: True\n",
      "reward: 0 \n",
      "\n"
     ]
    }
   ],
   "source": [
    "# perform an action with baseline agent   \n",
    "\n",
    "# perform an action with pretrained agent   \n",
    "# current_obs,_ = env.reset()\n",
    "printobs(env,\"Before action\")\n",
    "action = baseline_agent.act()\n",
    "print(\"pretrained agent action\")\n",
    "print(f\"Object to pick: {index_dict[action]}\")\n",
    "current_obs,rew,done,_,_ = env.step(action)\n",
    "\n",
    "printobs(env,\"After action\")\n",
    "\n",
    "print(\"done:\",done) \n",
    "print(\"reward:\",rew,\"\\n\")\n",
    "if(done): env.reset()"
   ]
  },
  {
   "cell_type": "markdown",
   "id": "3cb26c6a",
   "metadata": {},
   "source": [
    "### Step 7: Resetting the Environment\n",
    "\n",
    "This cell resets the RoboFeeder environment to start a new cycle. It obtains a new observation and ensures the environment is ready for further actions.\n"
   ]
  },
  {
   "cell_type": "code",
   "execution_count": null,
   "id": "2e94a76e",
   "metadata": {},
   "outputs": [],
   "source": [
    "# Reset the environment to start a new cycle\n",
    "current_obs, _ = env.reset()\n",
    "print(\"Environment has been reset. New observation obtained.\")"
   ]
  }
 ],
 "metadata": {
  "kernelspec": {
   "display_name": "edgegym",
   "language": "python",
   "name": "python3"
  },
  "language_info": {
   "codemirror_mode": {
    "name": "ipython",
    "version": 3
   },
   "file_extension": ".py",
   "mimetype": "text/x-python",
   "name": "python",
   "nbconvert_exporter": "python",
   "pygments_lexer": "ipython3",
   "version": "3.10.12"
  }
 },
 "nbformat": 4,
 "nbformat_minor": 5
}
