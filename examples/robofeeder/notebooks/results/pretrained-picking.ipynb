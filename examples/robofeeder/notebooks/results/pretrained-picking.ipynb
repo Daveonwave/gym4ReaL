{
 "cells": [
  {
   "cell_type": "code",
   "execution_count": 1,
   "id": "dc4f1eb2",
   "metadata": {},
   "outputs": [],
   "source": [
    "import sys\n",
    "sys.path.append('/usr/src/gym4real')  # <-- path to the *parent* of gym4real\n",
    "import os\n",
    "import gymnasium as gym\n",
    "import onnxruntime as ort\n",
    "import numpy as np\n",
    "import matplotlib.pyplot as plt\n",
    "\n",
    "import gym4real.envs.robofeeder as rf\n",
    "from gym4real.algorithms.robofeeder import baseline"
   ]
  },
  {
   "cell_type": "code",
   "execution_count": 33,
   "id": "8cd3f3ea",
   "metadata": {},
   "outputs": [],
   "source": [
    "def plot_action(current_obs,action):\n",
    "    # evaluate picking point respect to the observation\n",
    "    print(\"evaluate picking point respect to the observation\")\n",
    "    plt.imshow(current_obs[0],cmap=plt.cm.gray)\n",
    "\n",
    "    #rescale the action to the image size, with aciion being in [-1,1]\n",
    "    action[0] = (action[0] + 1) * 0.5 * current_obs[0].shape[1]\n",
    "    action[1] = (action[1] + 1) * 0.5 * current_obs[0].shape[0]\n",
    "    # add x-y coordinates of the action\n",
    "    plt.scatter(action[0],action[1],marker='o',color='red',s=100)\n",
    "    plt.show()\n"
   ]
  },
  {
   "cell_type": "code",
   "execution_count": 2,
   "id": "7464db0f",
   "metadata": {},
   "outputs": [
    {
     "name": "stderr",
     "output_type": "stream",
     "text": [
      "/usr/local/lib/python3.10/site-packages/onnxruntime/capi/onnxruntime_inference_collection.py:118: UserWarning: Specified provider 'CUDAExecutionProvider' is not in available provider names.Available providers: 'AzureExecutionProvider, CPUExecutionProvider'\n",
      "  warnings.warn(\n"
     ]
    }
   ],
   "source": [
    "current_dir = os.path.dirname(rf.__file__)\n",
    "# Load the object detection network\n",
    "pretrained_ppo_dir = os.path.join(current_dir, \"utils\", \"Pretrained/\")\n",
    "\n",
    "# Init the ONNX runtime session\n",
    "providers = ['CUDAExecutionProvider','CPUExecutionProvider']\n",
    "pretrained_agent = ort.InferenceSession(pretrained_ppo_dir + 'PPO_Stoc.onnx',providers=providers)\n",
    "# baseline_agent = baseline.Baseline_picking()"
   ]
  },
  {
   "cell_type": "code",
   "execution_count": 3,
   "id": "a8043540",
   "metadata": {},
   "outputs": [
    {
     "name": "stderr",
     "output_type": "stream",
     "text": [
      "/usr/local/lib/python3.10/site-packages/gymnasium/envs/registration.py:519: DeprecationWarning: \u001b[33mWARN: The environment gym4real/robofeeder-picking-v0 is out of date. You should consider upgrading to version `v1`.\u001b[0m\n",
      "  logger.deprecation(\n",
      "/usr/local/lib/python3.10/site-packages/onnxruntime/capi/onnxruntime_inference_collection.py:118: UserWarning: Specified provider 'CUDAExecutionProvider' is not in available provider names.Available providers: 'AzureExecutionProvider, CPUExecutionProvider'\n",
      "  warnings.warn(\n"
     ]
    }
   ],
   "source": [
    "env = gym.make('gym4real/robofeeder-picking-v0', config_file=(current_dir + '/configuration.yaml'))"
   ]
  },
  {
   "cell_type": "code",
   "execution_count": 35,
   "id": "ad8edba1",
   "metadata": {},
   "outputs": [
    {
     "name": "stdout",
     "output_type": "stream",
     "text": [
      "pretrained agent action\n",
      "normalized X: -0.37315038  normalized Y: 0.6462805  Theta [rad]: 0.25387716\n",
      "done: True\n",
      "reward: 1 \n",
      "\n"
     ]
    }
   ],
   "source": [
    "# perform an action with pretrained agent   \n",
    "current_obs,_ = env.reset()\n",
    "action = pretrained_agent.run(None, {\"input\": np.expand_dims(current_obs,axis=0)})[0][0]\n",
    "print(\"pretrained agent action\")\n",
    "print(\"normalized X:\",action[0],\" normalized Y:\",action[1],\" Theta [rad]:\",action[2])\n",
    "obs,rew,done,_,_ = env.step(action)\n",
    "\n",
    "print(\"done:\",done) \n",
    "print(\"reward:\",rew,\"\\n\")\n",
    "\n",
    "if(done): env.reset()"
   ]
  },
  {
   "cell_type": "code",
   "execution_count": 36,
   "id": "df2272cc",
   "metadata": {},
   "outputs": [
    {
     "name": "stdout",
     "output_type": "stream",
     "text": [
      "evaluate picking point respect to the observation\n"
     ]
    },
    {
     "data": {
      "image/png": "[encoded data removed]",
      "text/plain": [
       "<Figure size 640x480 with 1 Axes>"
      ]
     },
     "metadata": {},
     "output_type": "display_data"
    }
   ],
   "source": [
    "plot_action(current_obs,action)"
   ]
  },
  {
   "cell_type": "code",
   "execution_count": 41,
   "id": "7dab7e4a",
   "metadata": {},
   "outputs": [],
   "source": [
    "baseline_agent = baseline.Baseline_picking(env.action_space)"
   ]
  },
  {
   "cell_type": "code",
   "execution_count": 42,
   "id": "8d313fd1",
   "metadata": {},
   "outputs": [
    {
     "name": "stdout",
     "output_type": "stream",
     "text": [
      "pretrained agent action\n",
      "normalized X: 0.0  normalized Y: 0.0  Theta [rad]: 0.0\n",
      "done: False\n",
      "reward: -1 \n",
      "\n"
     ]
    }
   ],
   "source": [
    "# perform an action with baseline agent   \n",
    "\n",
    "current_obs,_ = env.reset()\n",
    "action = baseline_agent.act()\n",
    "print(\"pretrained agent action\")\n",
    "print(\"normalized X:\",action[0],\" normalized Y:\",action[1],\" Theta [rad]:\",action[2])\n",
    "action = np.array(action)\n",
    "obs,rew,done,_,_ = env.step(action)\n",
    "\n",
    "print(\"done:\",done) \n",
    "print(\"reward:\",rew,\"\\n\")\n",
    "\n",
    "if(done): env.reset()\n"
   ]
  },
  {
   "cell_type": "code",
   "execution_count": 43,
   "id": "1efd7d03",
   "metadata": {},
   "outputs": [
    {
     "name": "stdout",
     "output_type": "stream",
     "text": [
      "evaluate picking point respect to the observation\n"
     ]
    },
    {
     "data": {
      "image/png": "[encoded data removed]",
      "text/plain": [
       "<Figure size 640x480 with 1 Axes>"
      ]
     },
     "metadata": {},
     "output_type": "display_data"
    }
   ],
   "source": [
    "plot_action(current_obs,action)"
   ]
  }
 ],
 "metadata": {
  "kernelspec": {
   "display_name": "Python 3",
   "language": "python",
   "name": "python3"
  },
  "language_info": {
   "codemirror_mode": {
    "name": "ipython",
    "version": 3
   },
   "file_extension": ".py",
   "mimetype": "text/x-python",
   "name": "python",
   "nbconvert_exporter": "python",
   "pygments_lexer": "ipython3",
   "version": "3.10.17"
  }
 },
 "nbformat": 4,
 "nbformat_minor": 5
}
