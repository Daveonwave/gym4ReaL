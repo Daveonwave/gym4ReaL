{
 "cells": [
  {
   "cell_type": "code",
   "execution_count": 1,
   "metadata": {},
   "outputs": [],
   "source": [
    "import sys\n",
    "sys.path.append('/usr/src/gym4real')  # <-- path to the *parent* of gym4real\n",
    "\n",
    "from gym4real.envs.robofeeder import robot_simulator as s\n",
    "import matplotlib.pyplot as plt"
   ]
  },
  {
   "attachments": {},
   "cell_type": "markdown",
   "metadata": {},
   "source": [
    "### Test Simulator"
   ]
  },
  {
   "cell_type": "code",
   "execution_count": 2,
   "metadata": {},
   "outputs": [],
   "source": [
    "config_file = \"/usr/src/gym4real/gym4real/envs/robofeeder/configuration.yaml\"\n",
    "simulator = s(config_file)\n",
    "simulator.reset()"
   ]
  },
  {
   "cell_type": "code",
   "execution_count": 3,
   "metadata": {},
   "outputs": [
    {
     "name": "stdout",
     "output_type": "stream",
     "text": [
      "Object to place: 1\n",
      "Initial coordinates: [-0.25851059  0.42520625  0.0822265 ]\n",
      "Initial rotation: 2.7447753926811695\n"
     ]
    }
   ],
   "source": [
    "from scipy.spatial.transform import Rotation\n",
    "import numpy as np\n",
    "\n",
    "\n",
    "def normalizeAngle(angle):\n",
    "    if(angle>np.pi):angle -=np.pi\n",
    "    elif(angle<0):angle += np.pi\n",
    "    return angle\n",
    "\n",
    "# Set the end effector destination as as the position of the object\n",
    "# change object to pick if it is picked\n",
    "picked = simulator.objPicked\n",
    "for i in range(len(picked)):\n",
    "    if(picked[i] == 1):\n",
    "        simulator.data.site(1).xpos = simulator.data.site(i+2).xpos.copy()\n",
    "        # Reset The height of the object respect the base link\n",
    "        simulator.data.site(1).xpos[2] = simulator.data.site(i+2).xpos[2] - 0.11\n",
    "        # Get z-rotation of the object\n",
    "        rot = Rotation.from_quat(simulator.data.qpos[3:7*(i+1)].copy()).as_euler('xyz')\n",
    "        rot = normalizeAngle(2.35+rot[0])\n",
    "        print(\"Object to pick:\", i+2)\n",
    "        break\n",
    "    else:\n",
    "        simulator.data.site(1).xpos = simulator.data.site(i+1).xpos.copy()\n",
    "        # Reset The height of the object respect the base link\n",
    "        simulator.data.site(1).xpos[2] = simulator.data.site(i+1).xpos[2] - 0.11\n",
    "        # Get z-rotation of the object\n",
    "        rot = Rotation.from_quat(simulator.data.qpos[3:7*(1)].copy()).as_euler('xyz')\n",
    "        rot = normalizeAngle(2.35+rot[0])\n",
    "        print(\"Object to place:\", i+1)\n",
    "        break\n",
    "coords = simulator.data.site(1).xpos.copy()\n",
    "print(\"Initial coordinates:\", coords)\n",
    "\n",
    "\n",
    "print(\"Initial rotation:\", rot)"
   ]
  },
  {
   "cell_type": "code",
   "execution_count": 4,
   "metadata": {},
   "outputs": [
    {
     "name": "stdout",
     "output_type": "stream",
     "text": [
      "Initial Joint Position: [0. 0. 0. 0. 0. 0. 0. 0. 0.]\n",
      "Object Position: [-0.25851059  0.42520625  0.0822265 ]\n"
     ]
    },
    {
     "name": "stderr",
     "output_type": "stream",
     "text": [
      "IMAGEIO FFMPEG_WRITER WARNING: input image is not divisible by macro_block_size=16, resizing from (300, 300) to (304, 304) to ensure video compatibility with most codecs and players. To prevent resizing, make your input image divisible by the macro_block_size or set the macro_block_size to 1 (risking incompatibility).\n"
     ]
    },
    {
     "name": "stdout",
     "output_type": "stream",
     "text": [
      "Video saved to /usr/src/gym4real/gym4real/envs/robofeeder/recordings/simulated_pick_1.mp4\n",
      "Result of the Simulator: 1\n"
     ]
    },
    {
     "data": {
      "image/png": "[encoded data removed]",
      "text/plain": [
       "<Figure size 640x480 with 1 Axes>"
      ]
     },
     "metadata": {},
     "output_type": "display_data"
    }
   ],
   "source": [
    "# Run the pick simulation\n",
    "image, result = simulator.simulate_pick(coords,rot)\n",
    "\n",
    "# Plot the image returned by the simulator\n",
    "plt.imshow(image)\n",
    "\n",
    "#1 if the pick was successful, 0 otherwise\n",
    "print(\"Result of the Simulator:\",result)"
   ]
  },
  {
   "cell_type": "code",
   "execution_count": 5,
   "metadata": {},
   "outputs": [
    {
     "data": {
      "text/html": [
       "\n",
       "    <div style=\"text-align: center;\">\n",
       "        <video width=\"300\" height=\"300\" controls>\n",
       "            <source src=\"/usr/src/gym4real/gym4real/envs/robofeeder/recordings/simulated_pick_1.mp4\" type=\"video/mp4\">\n",
       "            Your browser does not support the video tag.\n",
       "        </video>\n",
       "    </div>\n",
       "    "
      ],
      "text/plain": [
       "<IPython.core.display.HTML object>"
      ]
     },
     "metadata": {},
     "output_type": "display_data"
    }
   ],
   "source": [
    "import os\n",
    "from IPython.display import HTML\n",
    "\n",
    "if simulator.configs[\"IS_SIMULATION_RECORD\"]:\n",
    "    # Construct video path\n",
    "    video_name = f\"simulated_pick_{simulator.counter}.mp4\"\n",
    "    video_path = os.path.join(simulator.configs[\"RECORD_FOLDER\"], video_name)\n",
    "    \n",
    "    display(HTML(f\"\"\"\n",
    "    <div style=\"text-align: center;\">\n",
    "        <video width=\"300\" height=\"300\" controls>\n",
    "            <source src=\"{video_path}\" type=\"video/mp4\">\n",
    "            Your browser does not support the video tag.\n",
    "        </video>\n",
    "    </div>\n",
    "    \"\"\"))\n"
   ]
  },
  {
   "cell_type": "code",
   "execution_count": 6,
   "metadata": {},
   "outputs": [],
   "source": [
    "#shuffle pieces\n",
    "simulator.reset()"
   ]
  }
 ],
 "metadata": {
  "kernelspec": {
   "display_name": "Python 3",
   "language": "python",
   "name": "python3"
  },
  "language_info": {
   "codemirror_mode": {
    "name": "ipython",
    "version": 3
   },
   "file_extension": ".py",
   "mimetype": "text/x-python",
   "name": "python",
   "nbconvert_exporter": "python",
   "pygments_lexer": "ipython3",
   "version": "3.10.17"
  },
  "orig_nbformat": 4
 },
 "nbformat": 4,
 "nbformat_minor": 2
}
