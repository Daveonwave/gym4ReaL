{
 "cells": [
  {
   "cell_type": "markdown",
   "metadata": {},
   "source": [
    "### Step 0 : Init RoboFeeder Env\n",
    "This cell sets up the environment for the RoboFeeder simulation by importing necessary modules and configuring the Python path."
   ]
  },
  {
   "cell_type": "code",
   "execution_count": null,
   "metadata": {},
   "outputs": [],
   "source": [
    "import os \n",
    "dir = os.getcwd()\n",
    "if 'gym4ReaL' in dir:\n",
    "    os.chdir(os.getcwd().split('gym4ReaL')[0] + 'gym4ReaL')\n",
    "else:\n",
    "    print(\"please set the working directory to the root of the gym4ReaL repository\")\n",
    "\n",
    "# check if the current working directory is the root of the gym4ReaL repository\n",
    "os.getcwd()"
   ]
  },
  {
   "cell_type": "markdown",
   "metadata": {},
   "source": [
    "### Step 1 : Import the environment\n",
    "This cell imports the `os` module, checks if the current working directory is within the `gym4ReaL` repository, and sets the working directory to the root of the repository if necessary. It then prints the current working directory to confirm the setup.\n"
   ]
  },
  {
   "cell_type": "code",
   "execution_count": null,
   "metadata": {},
   "outputs": [],
   "source": [
    "import sys\n",
    "sys.path.append(os.getcwd())  # <-- path to the *parent* of gym4real\n",
    "\n",
    "import gym4real.envs.robofeeder.rf_planning as env\n",
    "import matplotlib.pyplot as plt\n",
    "from stable_baselines3.common.env_checker import check_env"
   ]
  },
  {
   "attachments": {},
   "cell_type": "markdown",
   "metadata": {},
   "source": [
    "### Step 2 : Test Simulator\n",
    "import the simulator configuration file to pass the required parameters to run. \n",
    "Relevant parameters to adapt:\n",
    "\n",
    "#### ObjectToPick\n",
    "    NUMBER_OF_OBJECTS: 1           # (int) Number of objects to pick\n",
    "    SHUFFLE_OBJECTS: True          # (bool) Shuffle object positions at reset\n",
    "    OBJ_CORRECT_ORIENTATION: True  # (bool) Ensure objects have correct orientation\n",
    "\n",
    "#### Simulator Setting\n",
    "    IS_SIMULATION_REAL_TIME: False   # (bool) Run simulation in real time\n",
    "    IS_SIMULATION_SHOWED: True       # (bool) Show simulation window\n",
    "    IS_SIMULATION_RECORD: False      # (bool) Record simulation video\n",
    "    RECORD_FOLDER : \".\" # (str) Folder to save recorded videos\n"
   ]
  },
  {
   "cell_type": "code",
   "execution_count": null,
   "metadata": {},
   "outputs": [],
   "source": [
    "import shutil\n",
    "\n",
    "# Copy the default configuration file to a new editable file\n",
    "default_config_file = os.getcwd() + \"/gym4real/envs/robofeeder/configuration.yaml\"\n",
    "config_file = os.getcwd() + \"/examples/robofeeder/notebooks/configuration_editable.yaml\"\n",
    "shutil.copy(default_config_file, config_file)"
   ]
  },
  {
   "cell_type": "markdown",
   "metadata": {},
   "source": [
    "\n",
    "### Step 3 : Initialize the RoboFeeder Environment\n",
    "This cell creates an instance of the RoboFeeder environment using the editable configuration file. The environment is now ready for interaction and simulation.\n"
   ]
  },
  {
   "cell_type": "code",
   "execution_count": 2,
   "metadata": {},
   "outputs": [
    {
     "name": "stderr",
     "output_type": "stream",
     "text": [
      "/usr/local/lib/python3.10/site-packages/onnxruntime/capi/onnxruntime_inference_collection.py:118: UserWarning: Specified provider 'CUDAExecutionProvider' is not in available provider names.Available providers: 'AzureExecutionProvider, CPUExecutionProvider'\n",
      "  warnings.warn(\n"
     ]
    }
   ],
   "source": [
    "env = env.robotEnv(\"/usr/src/gym4real/gym4real/envs/robofeeder/configuration.yaml\")"
   ]
  },
  {
   "attachments": {},
   "cell_type": "markdown",
   "metadata": {},
   "source": [
    "### Step 4 : Define some utilities\n",
    "This cell defines a helper function `printobs()` that visualizes the current observation from the RoboFeeder environment using matplotlib. The observation is reshaped according to the environment's crop dimensions and displayed as a grayscale image.\n"
   ]
  },
  {
   "cell_type": "code",
   "execution_count": 3,
   "metadata": {},
   "outputs": [],
   "source": [
    "def printobs():\n",
    "    plt.figure(figsize=(10, 5))\n",
    "    for i in range(env.IMAGE_NUM):\n",
    "        ax = plt.subplot(1, env.IMAGE_NUM, i + 1)\n",
    "        ax.imshow(env.current_obs[i],cmap=plt.cm.gray)\n",
    "        ax.title.set_text(\"Action \"+str(i)+\" - \"+str(env.obsCenter[i]))\n",
    "        ax.get_xaxis().set_visible(False)\n",
    "        ax.get_yaxis().set_visible(False)\n",
    "    plt.show()"
   ]
  },
  {
   "attachments": {},
   "cell_type": "markdown",
   "metadata": {},
   "source": [
    "### Step 5 : Run Random Actions\n",
    "This cell resets the environment, performs a random action, displays the observation, and prints the reward and done status. If the episode is done, it resets the environment again.\n"
   ]
  },
  {
   "cell_type": "code",
   "execution_count": 4,
   "metadata": {},
   "outputs": [
    {
     "data": {
      "image/png": "[encoded data removed]",
      "text/plain": [
       "<Figure size 1000x500 with 3 Axes>"
      ]
     },
     "metadata": {},
     "output_type": "display_data"
    },
    {
     "name": "stdout",
     "output_type": "stream",
     "text": [
      "action: 0\n",
      "done: False\n",
      "reward: 1 \n",
      "\n"
     ]
    }
   ],
   "source": [
    "# perform a random action\n",
    "printobs()\n",
    "action = env.action_space.sample()\n",
    "print(\"action:\",action)\n",
    "obs,rew,done,_,info = env.step(action)\n",
    "\n",
    "print(\"done:\",done) \n",
    "print(\"reward:\",rew,\"\\n\")\n",
    "\n",
    "if(done): env.reset()\n",
    "\n",
    "# print the obs after the action\n"
   ]
  },
  {
   "cell_type": "markdown",
   "metadata": {},
   "source": [
    "### Step 6 : Record Simulation Video\n",
    "This cell checks if simulation recording is enabled in the simulator configuration. If enabled, it constructs the video path and displays the recorded simulation video in the notebook using an HTML video player."
   ]
  },
  {
   "cell_type": "code",
   "execution_count": 5,
   "metadata": {},
   "outputs": [
    {
     "data": {
      "text/html": [
       "\n",
       "    <div style=\"text-align: center;\">\n",
       "        <video width=\"300\" height=\"300\" controls>\n",
       "            <source src=\"/usr/src/gym4real/gym4real/envs/robofeeder/recordings/simulated_pick_1.mp4\" type=\"video/mp4\">\n",
       "            Your browser does not support the video tag.\n",
       "        </video>\n",
       "    </div>\n",
       "    "
      ],
      "text/plain": [
       "<IPython.core.display.HTML object>"
      ]
     },
     "metadata": {},
     "output_type": "display_data"
    }
   ],
   "source": [
    "import os\n",
    "from IPython.display import HTML\n",
    "\n",
    "if env.simulator.configs[\"IS_SIMULATION_RECORD\"]:\n",
    "    # Construct video path\n",
    "    video_name = f\"simulated_pick_{env.simulator.counter}.mp4\"\n",
    "    video_path = os.path.join(env.simulator.configs[\"RECORD_FOLDER\"], video_name)\n",
    "    \n",
    "    display(HTML(f\"\"\"\n",
    "    <div style=\"text-align: center;\">\n",
    "        <video width=\"300\" height=\"300\" controls>\n",
    "            <source src=\"{video_path}\" type=\"video/mp4\">\n",
    "            Your browser does not support the video tag.\n",
    "        </video>\n",
    "    </div>\n",
    "    \"\"\"))"
   ]
  }
 ],
 "metadata": {
  "kernelspec": {
   "display_name": "Python 3",
   "language": "python",
   "name": "python3"
  },
  "language_info": {
   "codemirror_mode": {
    "name": "ipython",
    "version": 3
   },
   "file_extension": ".py",
   "mimetype": "text/x-python",
   "name": "python",
   "nbconvert_exporter": "python",
   "pygments_lexer": "ipython3",
   "version": "3.10.17"
  },
  "orig_nbformat": 4
 },
 "nbformat": 4,
 "nbformat_minor": 2
}
