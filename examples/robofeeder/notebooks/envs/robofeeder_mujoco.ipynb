{
 "cells": [
  {
   "cell_type": "markdown",
   "metadata": {},
   "source": [
    "### Step 0 : Init RoboFeeder Env\n",
    "This cell sets up the environment for the RoboFeeder simulation by importing necessary modules and configuring the Python path."
   ]
  },
  {
   "cell_type": "code",
   "execution_count": null,
   "metadata": {},
   "outputs": [
    {
     "data": {
      "text/plain": [
       "'/home/edge/Desktop/gym4ReaL'"
      ]
     },
     "execution_count": 3,
     "metadata": {},
     "output_type": "execute_result"
    }
   ],
   "source": [
    "import os \n",
    "dir = os.getcwd()\n",
    "if 'examples' in dir:\n",
    "    os.chdir(os.getcwd().split('examples')[0])\n",
    "else:\n",
    "    print(\"please set the working directory to the root of the gym4ReaL repository\")\n",
    "\n",
    "# check if the current working directory is the root of the gym4ReaL repository\n",
    "os.getcwd()\n"
   ]
  },
  {
   "cell_type": "markdown",
   "metadata": {},
   "source": [
    "\n",
    "### Step 1 : Import Required Modules\n",
    "This cell imports the necessary modules and updates the system path to include the gym4ReaL repository. It also imports the robot simulator and matplotlib for visualization purposes.\n"
   ]
  },
  {
   "cell_type": "code",
   "execution_count": 4,
   "metadata": {},
   "outputs": [],
   "source": [
    "import sys\n",
    "sys.path.append(os.getcwd())  # <-- path to the *parent* of gym4real\n",
    "\n",
    "from gym4real.envs.robofeeder.src import robot_simulator as s\n",
    "import os\n",
    "import matplotlib.pyplot as plt"
   ]
  },
  {
   "attachments": {},
   "cell_type": "markdown",
   "metadata": {},
   "source": [
    "### Step 2a : Test Simulator\n",
    "import the simulator configuration file to pass the required parameters to run. \n",
    "Relevant parameters to adapt:\n",
    "\n",
    "#### ObjectToPick\n",
    "    NUMBER_OF_OBJECTS: 1           # (int) Number of objects to pick\n",
    "    SHUFFLE_OBJECTS: True          # (bool) Shuffle object positions at reset\n",
    "    OBJ_CORRECT_ORIENTATION: True  # (bool) Ensure objects have correct orientation\n",
    "\n",
    "#### Simulator Setting\n",
    "    IS_SIMULATION_REAL_TIME: False   # (bool) Run simulation in real time\n",
    "    IS_SIMULATION_SHOWED: True       # (bool) Show simulation window\n",
    "    IS_SIMULATION_RECORD: False      # (bool) Record simulation video\n",
    "    RECORD_FOLDER : \".\" # (str) Folder to save recorded videos\n",
    "\n"
   ]
  },
  {
   "cell_type": "code",
   "execution_count": null,
   "metadata": {},
   "outputs": [],
   "source": [
    "import shutil\n",
    "\n",
    "# Copy the default configuration file to a new editable file\n",
    "default_config_file = os.getcwd() + \"/gym4real/envs/robofeeder/configuration.yaml\"\n",
    "config_file = os.getcwd() + \"/examples/robofeeder/notebooks/configuration_editable.yaml\"\n",
    "shutil.copy(default_config_file, config_file)"
   ]
  },
  {
   "cell_type": "markdown",
   "metadata": {},
   "source": [
    "### Step 2b : Test Simulator\n",
    "import the simulator class to setup the mujoco environment"
   ]
  },
  {
   "cell_type": "code",
   "execution_count": null,
   "metadata": {},
   "outputs": [],
   "source": [
    "# Now config_file points to the editable copy\n",
    "simulator = s(config_file)\n",
    "simulator.reset()"
   ]
  },
  {
   "cell_type": "markdown",
   "metadata": {},
   "source": [
    "### Step 3 : Test Object Coordinates\n",
    "This cell calculates the initial coordinates and rotation of the object to be picked or placed. It uses the simulator's data to determine the position and orientation of the object and adjusts the height relative to the base link. The coordinates and rotation are printed for verification."
   ]
  },
  {
   "cell_type": "code",
   "execution_count": 5,
   "metadata": {},
   "outputs": [
    {
     "name": "stdout",
     "output_type": "stream",
     "text": [
      "Object to place: 1\n",
      "Initial coordinates: [-0.3490128   0.34062989  0.09      ]\n",
      "Initial rotation: 0.7776630051051168\n"
     ]
    }
   ],
   "source": [
    "from scipy.spatial.transform import Rotation\n",
    "import numpy as np\n",
    "\n",
    "\n",
    "def normalizeAngle(angle):\n",
    "    if(angle>np.pi):angle -=np.pi\n",
    "    elif(angle<0):angle += np.pi\n",
    "    return angle\n",
    "\n",
    "# Set the end effector destination as as the position of the object\n",
    "# change object to pick if it is picked\n",
    "picked = simulator.objPicked\n",
    "for i in range(len(picked)):\n",
    "    if(picked[i] == 1):\n",
    "        simulator.data.site(1).xpos = simulator.data.site(i+2).xpos.copy()\n",
    "        # Reset The height of the object respect the base link\n",
    "        simulator.data.site(1).xpos[2] = simulator.data.site(i+2).xpos[2] - 0.11\n",
    "        # Get z-rotation of the object\n",
    "        rot = Rotation.from_quat(simulator.data.qpos[3:7*(i+1)].copy()).as_euler('xyz')\n",
    "        rot = normalizeAngle(2.35+rot[0])\n",
    "        print(\"Object to pick:\", i+2)\n",
    "        break\n",
    "    else:\n",
    "        simulator.data.site(1).xpos = simulator.data.site(i+1).xpos.copy()\n",
    "        # Reset The height of the object respect the base link\n",
    "        simulator.data.site(1).xpos[2] = simulator.data.site(i+1).xpos[2] - 0.11\n",
    "        # Get z-rotation of the object\n",
    "        rot = Rotation.from_quat(simulator.data.qpos[3:7*(1)].copy()).as_euler('xyz')\n",
    "        rot = normalizeAngle(2.35+rot[0])\n",
    "        print(\"Object to place:\", i+1)\n",
    "        break\n",
    "coords = simulator.data.site(1).xpos.copy()\n",
    "coords[2] = 0.09\n",
    "print(\"Initial coordinates:\", coords)\n",
    "\n",
    "print(\"Initial rotation:\", rot)\n",
    "c = coords.copy()\n",
    "r = rot.copy()"
   ]
  },
  {
   "cell_type": "markdown",
   "metadata": {},
   "source": [
    "### Step 4 :  Plot Observation Result\n",
    "This cell visualizes the result of the pick simulation by plotting the observation image returned by the simulator. It also prints whether the pick operation was successful."
   ]
  },
  {
   "cell_type": "code",
   "execution_count": 6,
   "metadata": {},
   "outputs": [
    {
     "name": "stdout",
     "output_type": "stream",
     "text": [
      "Result of the Simulator: 1\n"
     ]
    },
    {
     "data": {
      "image/png": "[encoded data removed]",
      "text/plain": [
       "<Figure size 640x480 with 1 Axes>"
      ]
     },
     "metadata": {},
     "output_type": "display_data"
    }
   ],
   "source": [
    "# Run the pick simulation\n",
    "image, result = simulator.simulate_pick(coords,rot)\n",
    "\n",
    "# Plot the image returned by the simulator\n",
    "plt.imshow(image)\n",
    "\n",
    "#1 if the pick was successful, 0 otherwise\n",
    "print(\"Result of the Simulator:\",result)"
   ]
  },
  {
   "cell_type": "markdown",
   "metadata": {},
   "source": [
    "\n",
    "### Step 5 : Record Simulation Video\n",
    "This cell checks if simulation recording is enabled in the simulator configuration. If enabled, it constructs the video path and displays the recorded simulation video in the notebook using an HTML video player.\n"
   ]
  },
  {
   "cell_type": "code",
   "execution_count": 6,
   "metadata": {},
   "outputs": [
    {
     "data": {
      "text/html": [
       "\n",
       "    <div style=\"text-align: center;\">\n",
       "        <video width=\"300\" height=\"300\" controls>\n",
       "            <source src=\"/usr/src/gym4real/simulated_pick_1.mp4\" type=\"video/mp4\">\n",
       "            Your browser does not support the video tag.\n",
       "        </video>\n",
       "    </div>\n",
       "    "
      ],
      "text/plain": [
       "<IPython.core.display.HTML object>"
      ]
     },
     "metadata": {},
     "output_type": "display_data"
    }
   ],
   "source": [
    "import os\n",
    "from IPython.display import HTML\n",
    "\n",
    "if simulator.configs[\"IS_SIMULATION_RECORD\"]:\n",
    "    # Construct video path\n",
    "    video_name = f\"simulated_pick_{simulator.counter}.mp4\"\n",
    "    video_path = os.path.join(simulator.configs[\"RECORD_FOLDER\"], video_name)\n",
    "    \n",
    "    display(HTML(f\"\"\"\n",
    "    <div style=\"text-align: center;\">\n",
    "        <video width=\"300\" height=\"300\" controls>\n",
    "            <source src=\"{video_path}\" type=\"video/mp4\">\n",
    "            Your browser does not support the video tag.\n",
    "        </video>\n",
    "    </div>\n",
    "    \"\"\"))\n"
   ]
  },
  {
   "cell_type": "markdown",
   "metadata": {},
   "source": [
    "### Step 6 : Reset The simulator\n",
    "Reset the simulator if you would like to start again a pick and place cycle with a random position of the object, please re-run from Step : 3"
   ]
  },
  {
   "cell_type": "code",
   "execution_count": 7,
   "metadata": {},
   "outputs": [],
   "source": [
    "#shuffle pieces\n",
    "simulator.reset()"
   ]
  }
 ],
 "metadata": {
  "kernelspec": {
   "display_name": "edgegym",
   "language": "python",
   "name": "python3"
  },
  "language_info": {
   "codemirror_mode": {
    "name": "ipython",
    "version": 3
   },
   "file_extension": ".py",
   "mimetype": "text/x-python",
   "name": "python",
   "nbconvert_exporter": "python",
   "pygments_lexer": "ipython3",
   "version": "3.10.12"
  },
  "orig_nbformat": 4
 },
 "nbformat": 4,
 "nbformat_minor": 2
}
