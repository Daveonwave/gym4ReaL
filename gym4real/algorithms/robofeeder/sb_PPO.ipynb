{
 "cells": [
  {
   "cell_type": "code",
   "execution_count": 1,
   "metadata": {},
   "outputs": [],
   "source": [
    "from stable_baselines3 import PPO\n",
    "from Env_1 import robotEnv\n",
    "\n",
    "from stable_baselines3.common.vec_env import SubprocVecEnv,DummyVecEnv\n",
    "from stable_baselines3.common.monitor import Monitor\n",
    "from stable_baselines3.common.env_checker import check_env"
   ]
  },
  {
   "cell_type": "code",
   "execution_count": 2,
   "metadata": {},
   "outputs": [],
   "source": [
    "config_path = \"/usr/src/data/configuration.yaml\""
   ]
  },
  {
   "cell_type": "code",
   "execution_count": 3,
   "metadata": {},
   "outputs": [],
   "source": [
    "# Function to generate the environment to stack in a vectorEnv\n",
    "def make_env(path):\n",
    "    def _init():\n",
    "        env = Monitor(robotEnv(config_file=path))\n",
    "        return env\n",
    "    return _init"
   ]
  },
  {
   "cell_type": "code",
   "execution_count": 4,
   "metadata": {},
   "outputs": [
    {
     "name": "stderr",
     "output_type": "stream",
     "text": [
      "/usr/local/lib/python3.10/site-packages/onnxruntime/capi/onnxruntime_inference_collection.py:118: UserWarning: Specified provider 'CUDAExecutionProvider' is not in available provider names.Available providers: 'AzureExecutionProvider, CPUExecutionProvider'\n",
      "  warnings.warn(\n",
      "/usr/local/lib/python3.10/site-packages/onnxruntime/capi/onnxruntime_inference_collection.py:118: UserWarning: Specified provider 'CUDAExecutionProvider' is not in available provider names.Available providers: 'AzureExecutionProvider, CPUExecutionProvider'\n",
      "  warnings.warn(\n"
     ]
    }
   ],
   "source": [
    "num_cpu = 2 # Number of processes/Env to use\n",
    "env = SubprocVecEnv([make_env(config_path) for i in range(1,num_cpu+ 1)]) # Create the vectorEnv (ROS_ID start at 1)"
   ]
  },
  {
   "cell_type": "code",
   "execution_count": 10,
   "metadata": {},
   "outputs": [],
   "source": [
    "from gymnasium import spaces\n",
    "import torch as th\n",
    "import torch.nn as nn\n",
    "from stable_baselines3.common.torch_layers import BaseFeaturesExtractor\n",
    "\n",
    "class CustomCNN(BaseFeaturesExtractor):\n",
    "    def __init__(self, observation_space: spaces.Box, features_dim: int = 256):\n",
    "        super().__init__(observation_space, features_dim)\n",
    "\n",
    "        n_input_channels = observation_space.shape[0]\n",
    "        ks = 3\n",
    "\n",
    "        self.cnn = nn.Sequential(\n",
    "            nn.Conv2d(n_input_channels, 16, kernel_size=ks, stride=2, padding=1),\n",
    "            nn.LeakyReLU(),\n",
    "            nn.Conv2d(16, 32, kernel_size=ks, stride=2, padding=1),\n",
    "            nn.LeakyReLU(),\n",
    "            nn.Conv2d(32, 64, kernel_size=ks, stride=2, padding=1),\n",
    "            nn.LeakyReLU(),\n",
    "            nn.Conv2d(64, 64, kernel_size=ks, stride=3, padding=1),\n",
    "            nn.LeakyReLU(),\n",
    "            nn.Flatten(),\n",
    "        )\n",
    "\n",
    "        # Dynamically calculate CNN output size\n",
    "        with th.no_grad():\n",
    "            dummy_input = th.zeros(1, *observation_space.shape)\n",
    "            flat_output = self.cnn(dummy_input)\n",
    "            cnn_output_dim = flat_output.shape[1]\n",
    "            #print(f\"Raw CNN output dim: {cnn_output_dim}\")\n",
    "\n",
    "        # Final projection to fixed feature dim\n",
    "        self.linear = nn.Sequential(\n",
    "            nn.Linear(cnn_output_dim, features_dim),\n",
    "            nn.ReLU()\n",
    "        )\n",
    "\n",
    "        self._features_dim = features_dim\n",
    "\n",
    "    def forward(self, observations: th.Tensor) -> th.Tensor:\n",
    "        features = self.cnn(observations)\n",
    "        return self.linear(features)\n",
    "\n",
    "\n",
    "pi = [256,256,128]\n",
    "vf = [256,256,128]\n",
    "\n",
    "features_dim = 256\n",
    "optimizer_kwargs= dict (weight_decay=1e-5,)\n",
    "\n",
    "\n",
    "policy_kwargs = dict(normalize_images=False,\n",
    "                     features_extractor_class=CustomCNN,\n",
    "                     features_extractor_kwargs=dict(features_dim=features_dim),\n",
    "                     net_arch=dict(pi=pi, vf=vf),\n",
    "                     optimizer_kwargs=optimizer_kwargs\n",
    "                     )\n"
   ]
  },
  {
   "cell_type": "code",
   "execution_count": 11,
   "metadata": {},
   "outputs": [],
   "source": [
    "# n_steps=2\n",
    "\n",
    "# policy_kwargs=dict(normalize_images=False)\n",
    "\n",
    "# model = PPO(\n",
    "#     \"CnnPolicy\",\n",
    "#     env,\n",
    "#     n_steps=n_steps,\n",
    "#     batch_size=n_steps*num_cpu, #Required for VectorEnv\n",
    "#     n_epochs=8,    \n",
    "#     learning_rate=0.001, \n",
    "#     clip_range=0.3,\n",
    "#     tensorboard_log= \".\",\n",
    "#     policy_kwargs=policy_kwargs,\n",
    "#     verbose=2\n",
    "# )\n",
    "\n",
    "\n",
    "n_steps=3\n",
    "\n",
    "model = PPO(\n",
    "    \"CnnPolicy\",\n",
    "    env,\n",
    "    n_steps=n_steps,\n",
    "    batch_size=n_steps*num_cpu,\n",
    "    n_epochs=20,\n",
    "    learning_rate=0.003, \n",
    "    clip_range=0.3,\n",
    "    #gamma=0.95,\n",
    "    ent_coef=0.01, \n",
    "    #vf_coef=0.5,\n",
    "    #max_grad_norm=.5,\n",
    "    verbose=0,\n",
    "    seed=123,\n",
    "    tensorboard_log= \".\",\n",
    "    policy_kwargs=policy_kwargs,\n",
    "    \n",
    ")"
   ]
  },
  {
   "cell_type": "code",
   "execution_count": null,
   "metadata": {},
   "outputs": [],
   "source": [
    "model.learn(total_timesteps=10000,reset_num_timesteps=False,progress_bar=True)"
   ]
  }
 ],
 "metadata": {
  "kernelspec": {
   "display_name": "Python 3",
   "language": "python",
   "name": "python3"
  },
  "language_info": {
   "codemirror_mode": {
    "name": "ipython",
    "version": 3
   },
   "file_extension": ".py",
   "mimetype": "text/x-python",
   "name": "python",
   "nbconvert_exporter": "python",
   "pygments_lexer": "ipython3",
   "version": "3.10.17"
  },
  "orig_nbformat": 4
 },
 "nbformat": 4,
 "nbformat_minor": 2
}
