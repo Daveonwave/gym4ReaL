{
 "cells": [
  {
   "cell_type": "code",
   "execution_count": 1,
   "metadata": {},
   "outputs": [],
   "source": [
    "import sys\n",
    "sys.path.append('/usr/src/data/')\n",
    "import os\n",
    "os.chdir('/usr/src/data/')\n",
    "import Env_0 as env\n",
    "\n",
    "import matplotlib.pyplot as plt\n",
    "import numpy as np\n",
    "from scipy.spatial.transform import Rotation\n",
    "from stable_baselines3.common.env_checker import check_env"
   ]
  },
  {
   "attachments": {},
   "cell_type": "markdown",
   "metadata": {},
   "source": [
    "### Init"
   ]
  },
  {
   "cell_type": "code",
   "execution_count": 2,
   "metadata": {},
   "outputs": [
    {
     "name": "stdout",
     "output_type": "stream",
     "text": [
      "/usr/src/data\n"
     ]
    }
   ],
   "source": [
    "env = env.robotEnv(\"/usr/src/data/configuration.yaml\")"
   ]
  },
  {
   "cell_type": "code",
   "execution_count": null,
   "metadata": {},
   "outputs": [],
   "source": [
    "check_env(env, warn=True)"
   ]
  },
  {
   "attachments": {},
   "cell_type": "markdown",
   "metadata": {},
   "source": [
    "#### Utilites"
   ]
  },
  {
   "cell_type": "code",
   "execution_count": null,
   "metadata": {},
   "outputs": [],
   "source": [
    "def compute_camera_matrix():\n",
    "  model = env.simulator.model\n",
    "  data = env.simulator.data\n",
    "  renderer = env.simulator.renderer\n",
    "  renderer.update_scene(data,camera=\"top_down\")\n",
    "  pos = np.mean([camera.pos for camera in renderer.scene.camera], axis=0)\n",
    "  z = -np.mean([camera.forward for camera in renderer.scene.camera], axis=0)\n",
    "  y = np.mean([camera.up for camera in renderer.scene.camera], axis=0)\n",
    "  rot = np.vstack((np.cross(y, z), y, z))\n",
    "  fov = model.cam('top_down').fovy[0]\n",
    "\n",
    "  # Translation matrix (4x4).\n",
    "  translation = np.eye(4)\n",
    "  translation[0:3, 3] = -pos\n",
    "\n",
    "  # Rotation matrix (4x4).\n",
    "  rotation = np.eye(4)\n",
    "  rotation[0:3, 0:3] = rot\n",
    "\n",
    "  # Focal transformation matrix (3x4).\n",
    "  focal_scaling = (1./np.tan(np.deg2rad(fov)/2)) * renderer.height / 2.0\n",
    "  focal = np.diag([-focal_scaling, focal_scaling, 1.0, 0])[0:3, :]\n",
    "\n",
    "  # Image matrix (3x3).\n",
    "  image = np.eye(3)\n",
    "  image[0, 2] = (renderer.width - 1) / 2.0\n",
    "  image[1, 2] = (renderer.height - 1) / 2.0\n",
    "  return image @ focal @ rotation @ translation\n",
    "\n",
    "def word2pixel(xyz_global):\n",
    "    cam_matrix = compute_camera_matrix()\n",
    "    # Camera matrices multiply homogenous [x, y, z, 1] vectors.\n",
    "    corners_homogeneous = np.ones((4, xyz_global.shape[1]), dtype=float)\n",
    "    corners_homogeneous[:3, :] = xyz_global\n",
    "    # Get the camera matrix.\n",
    "    xs, ys, s = cam_matrix @ corners_homogeneous\n",
    "    # x and y are in the pixel coordinate system.\n",
    "    x = xs / s\n",
    "    y = ys / s\n",
    "    return x,y\n",
    "\n",
    "\n",
    "def normalizeAngle(angle):\n",
    "    if(angle>np.pi):angle -=np.pi\n",
    "    elif(angle<0):angle += np.pi\n",
    "    return angle\n",
    "\n",
    "\n",
    "def get_objs(): # list(x,y,rot)\n",
    "    initialObjPos=[]\n",
    "    for i in range(env.simulator.configs[\"NUMBER_OF_OBJECTS\"]):\n",
    "        # get the position of the obj from the site in the right position (+1 due to the target (goal) site)\n",
    "        coords = env.simulator.data.site(1+i).xpos.copy()\n",
    "        pixelCoord = word2pixel(np.array([coords[0],coords[1],coords[2]]).reshape(3,1))\n",
    "        rot = Rotation.from_quat(env.simulator.data.qpos[0+7*i+3:7*(i+1)].copy()).as_euler('xyz')\n",
    "        rot = normalizeAngle(2.35+rot[0])\n",
    "        initialObjPos.append((pixelCoord[0][0],pixelCoord[1][0],rot))\n",
    "    return initialObjPos\n",
    "\n",
    "\n",
    "def showObs(obs):\n",
    "    plt.imshow(obs.transpose(1,2,0))\n",
    "    plt.gray()\n",
    "    plt.show()\n"
   ]
  },
  {
   "cell_type": "code",
   "execution_count": 3,
   "metadata": {},
   "outputs": [
    {
     "data": {
      "text/plain": [
       "<matplotlib.image.AxesImage at 0x7e38d07c0430>"
      ]
     },
     "execution_count": 3,
     "metadata": {},
     "output_type": "execute_result"
    },
    {
     "data": {
      "image/png": "[encoded data removed]",
      "text/plain": [
       "<Figure size 640x480 with 1 Axes>"
      ]
     },
     "metadata": {},
     "output_type": "display_data"
    }
   ],
   "source": [
    "#plot camera frame\n",
    "env.simulator.renderer.update_scene(env.simulator.data, camera=\"angled_side_view\")\n",
    "frame = env.simulator.renderer.render()\n",
    "plt.imshow((frame * 255).astype(np.uint8))\n"
   ]
  },
  {
   "attachments": {},
   "cell_type": "markdown",
   "metadata": {},
   "source": [
    "### Random Action\n"
   ]
  },
  {
   "cell_type": "code",
   "execution_count": 3,
   "metadata": {},
   "outputs": [
    {
     "name": "stdout",
     "output_type": "stream",
     "text": [
      "action: [ 0.83030164 -0.76818776 -0.4333688 ]\n",
      "[0.0, 0.0, 0.0, 0.0, 0.0, 0.0]\n",
      "Initial Joint Position: [0. 0. 0. 0. 0. 0. 0. 0. 0.]\n",
      "Object Position: [-0.35831002  0.19676381  0.11      ]\n"
     ]
    },
    {
     "name": "stderr",
     "output_type": "stream",
     "text": [
      "IMAGEIO FFMPEG_WRITER WARNING: input image is not divisible by macro_block_size=16, resizing from (300, 300) to (304, 304) to ensure video compatibility with most codecs and players. To prevent resizing, make your input image divisible by the macro_block_size or set the macro_block_size to 1 (risking incompatibility).\n"
     ]
    },
    {
     "name": "stdout",
     "output_type": "stream",
     "text": [
      "Video saved to simulated_pick.mp4\n",
      "done: False\n",
      "reward: -1 \n",
      "\n"
     ]
    }
   ],
   "source": [
    "# perform a random action\n",
    "env.reset()\n",
    "action = env.action_space.sample()\n",
    "print(\"action:\",action)\n",
    "action = np.array(action)\n",
    "obs,rew,done,_,_ = env.step(action)\n",
    "\n",
    "print(\"done:\",done) \n",
    "print(\"reward:\",rew,\"\\n\")\n",
    "\n",
    "if(done): env.reset()\n",
    "\n",
    "# print the obs after the action\n",
    "#showObs(env.current_obs)"
   ]
  },
  {
   "attachments": {},
   "cell_type": "markdown",
   "metadata": {},
   "source": [
    "### Pick Objs"
   ]
  },
  {
   "cell_type": "code",
   "execution_count": 5,
   "metadata": {},
   "outputs": [
    {
     "name": "stdout",
     "output_type": "stream",
     "text": [
      "[0.0, 0.0, 0.0, 0.0, 0.0, 0.0]\n",
      "Initial Joint Position: [0. 0. 0. 0. 0. 0. 0. 0. 0.]\n",
      "Object Position: [-0.30568702  0.33956615  0.11      ]\n"
     ]
    },
    {
     "name": "stderr",
     "output_type": "stream",
     "text": [
      "IMAGEIO FFMPEG_WRITER WARNING: input image is not divisible by macro_block_size=16, resizing from (300, 300) to (304, 304) to ensure video compatibility with most codecs and players. To prevent resizing, make your input image divisible by the macro_block_size or set the macro_block_size to 1 (risking incompatibility).\n"
     ]
    },
    {
     "name": "stdout",
     "output_type": "stream",
     "text": [
      "Video saved to simulated_pick.mp4\n",
      "Rew: -0.135\n",
      "done False\n",
      "[1.345147049298509, -0.7261200437459273, -0.7708851603895234, 0.016439544460273705, 1.6386114584982074, 0.35004224576676224]\n",
      "Initial Joint Position: [ 0.          1.34514705 -0.72612004 -0.77088516  0.01643954  1.63861146\n",
      "  0.35004225  0.          0.        ]\n",
      "Object Position: [-0.32235223  0.36225582  0.11      ]\n"
     ]
    },
    {
     "name": "stderr",
     "output_type": "stream",
     "text": [
      "IMAGEIO FFMPEG_WRITER WARNING: input image is not divisible by macro_block_size=16, resizing from (300, 300) to (304, 304) to ensure video compatibility with most codecs and players. To prevent resizing, make your input image divisible by the macro_block_size or set the macro_block_size to 1 (risking incompatibility).\n"
     ]
    },
    {
     "name": "stdout",
     "output_type": "stream",
     "text": [
      "Video saved to simulated_pick.mp4\n",
      "Rew: -0.07799999999999996\n",
      "done False\n"
     ]
    }
   ],
   "source": [
    "env.reset()\n",
    "obj = get_objs()\n",
    "obj_to_pick= env.simulator.constants[\"NUMBER_OF_OBJECTS\"]\n",
    "\n",
    "for i in range(obj_to_pick):\n",
    "    #normalize the coordinates between [-1,1]\n",
    "    coordinates = np.array(obj[i][0:2])/(env.simulator.constants[\"OBSERVATION_IMAGE_DIM\"]/2) -1 \n",
    "    rot = obj[i][2]/(np.pi/2)-1\n",
    "\n",
    "    obs, reward, done,_,info = env.step(np.append(coordinates,rot))\n",
    "    print(\"Rew:\",reward)\n",
    "    print(\"done\",done)\n",
    "    "
   ]
  },
  {
   "cell_type": "code",
   "execution_count": null,
   "metadata": {},
   "outputs": [
    {
     "name": "stdout",
     "output_type": "stream",
     "text": [
      "[1.3613407883153257, -0.7074216398927289, -0.8011015724486786, -0.014417523430305324, 1.6429533734444914, -2.5400701540422745]\n",
      "Initial Joint Position: [ 0.          1.36134079 -0.70742164 -0.80110157 -0.01441752  1.64295337\n",
      " -2.54007015  0.          0.        ]\n",
      "Object Position: [-0.27271192  0.42366434  0.20252   ]\n"
     ]
    },
    {
     "name": "stderr",
     "output_type": "stream",
     "text": [
      "IMAGEIO FFMPEG_WRITER WARNING: input image is not divisible by macro_block_size=16, resizing from (300, 300) to (304, 304) to ensure video compatibility with most codecs and players. To prevent resizing, make your input image divisible by the macro_block_size or set the macro_block_size to 1 (risking incompatibility).\n"
     ]
    },
    {
     "name": "stdout",
     "output_type": "stream",
     "text": [
      "[1.3629148299816531, -0.717996867172924, -0.7840435923834903, -0.01741642375308249, 1.641211222504462, -3.047001544659546]\n",
      "Initial Joint Position: [ 0.          1.36291483 -0.71799687 -0.78404359 -0.01741642  1.64121122\n",
      " -3.04700154  0.          0.        ]\n",
      "Object Position: [-0.27271192  0.42366434  0.20252   ]\n",
      "[1.3609010027293658, -0.7059794137119929, -0.8034215360106548, -0.013579316167174508, 1.6431937817048052, -2.4600262613682475]\n",
      "Initial Joint Position: [ 0.          1.360901   -0.70597941 -0.80342154 -0.01357932  1.64319378\n",
      " -2.46002626  0.          0.        ]\n",
      "Object Position: [-0.27271192  0.42366434  0.20252   ]\n",
      "[1.36293425727632, -0.7217216299385909, -0.7780159778046914, -0.01745273460125515, 1.6406186439987223, -3.2131050060753914]\n",
      "Initial Joint Position: [ 0.          1.36293426 -0.72172163 -0.77801598 -0.01745273  1.64061864\n",
      " -3.21310501  0.          0.        ]\n",
      "Object Position: [-0.27271192  0.42366434  0.20252   ]\n",
      "[1.3611078940165542, -0.7066284240723266, -0.8023777279902355, -0.013973645518135475, 1.6430856918475376, -2.4966216618491885]\n",
      "Initial Joint Position: [ 0.          1.36110789 -0.70662842 -0.80237773 -0.01397365  1.64308569\n",
      " -2.49662166  0.          0.        ]\n",
      "Object Position: [-0.27271192  0.42366434  0.20252   ]\n",
      "[1.3629057214787594, -0.7177765032843043, -0.7843998790363258, -0.017399102330243894, 1.6412466867297573, -3.03713153030225]\n",
      "Initial Joint Position: [ 0.          1.36290572 -0.7177765  -0.78439988 -0.0173991   1.64124669\n",
      " -3.03713153  0.          0.        ]\n",
      "Object Position: [-0.27271192  0.42366434  0.20252   ]\n",
      "[1.3609769019127111, -0.7062119428892649, -0.803047593298104, -0.013723979100159768, 1.643155079363061, -2.4732545584181618]\n",
      "Initial Joint Position: [ 0.          1.3609769  -0.70621194 -0.80304759 -0.01372398  1.64315508\n",
      " -2.47325456  0.          0.        ]\n",
      "Object Position: [-0.27271192  0.42366434  0.20252   ]\n",
      "[1.3629465768707891, -0.7190788489353557, -0.7822937168534171, -0.017476734271641002, 1.6410377452404892, -3.0953381386232097]\n",
      "Initial Joint Position: [ 0.          1.36294658 -0.71907885 -0.78229372 -0.01747673  1.64103775\n",
      " -3.09533814  0.          0.        ]\n",
      "Object Position: [-0.27271192  0.42366434  0.20252   ]\n",
      "[1.3596975643949667, -0.702956411394017, -0.8082793662907767, -0.011285460113269774, 1.6436916348039314, -2.272449798512424]\n",
      "Initial Joint Position: [ 0.          1.35969756 -0.70295641 -0.80827937 -0.01128546  1.64369163\n",
      " -2.2724498   0.          0.        ]\n",
      "Object Position: [-0.27271192  0.42366434  0.20252   ]\n",
      "[1.3574693554516457, -0.7405906340567451, -0.7473255322168453, -0.007034837200202149, 1.6376950340246785, -4.29901672010642]\n",
      "Initial Joint Position: [ 0.          1.35746936 -0.74059063 -0.74732553 -0.00703484  1.63769503\n",
      " -4.29901672  0.          0.        ]\n",
      "Object Position: [-0.27271192  0.42366434  0.20252   ]\n",
      "Video saved as mujoco_output.mp4\n"
     ]
    }
   ],
   "source": [
    "import imageio\n",
    "\n",
    "def gray2rgb( gray):\n",
    "    # If input is shape (1, H, W), squeeze to (H, W)\n",
    "    gray = np.squeeze(gray) * 255.0  # De-normalize\n",
    "\n",
    "    # Replicate grayscale across RGB channels\n",
    "    rgb = np.stack([gray]*3, axis=-1)  # shape = (H, W, 3)\n",
    "    return rgb.astype(np.uint8)\n",
    "\n",
    "# Open video writer\n",
    "writer = imageio.get_writer('mujoco_output.mp4', fps=30)\n",
    "\n",
    "# Simulate and record frames\n",
    "for _ in range(10):  # ~10 seconds at 30fps\n",
    "    coordinates = np.array(obj[i][0:2])/(env.simulator.constants[\"OBSERVATION_IMAGE_DIM\"]/2) -1 \n",
    "    rot = obj[i][2]/(np.pi/2)-1\n",
    "\n",
    "    obs, reward, done,_,info = env.step(np.append(coordinates,rot))\n",
    "\n",
    "# Clean up\n",
    "writer.close()\n",
    "print(\"Video saved as mujoco_output.mp4\")"
   ]
  }
 ],
 "metadata": {
  "kernelspec": {
   "display_name": "Python 3",
   "language": "python",
   "name": "python3"
  },
  "language_info": {
   "codemirror_mode": {
    "name": "ipython",
    "version": 3
   },
   "file_extension": ".py",
   "mimetype": "text/x-python",
   "name": "python",
   "nbconvert_exporter": "python",
   "pygments_lexer": "ipython3",
   "version": "3.10.17"
  },
  "orig_nbformat": 4
 },
 "nbformat": 4,
 "nbformat_minor": 2
}
