{
 "cells": [
  {
   "cell_type": "markdown",
   "metadata": {},
   "source": [
    "# Initilialize the Environment"
   ]
  },
  {
   "cell_type": "code",
   "execution_count": null,
   "metadata": {},
   "outputs": [],
   "source": [
    "import os \n",
    "os.chdir('..')\n",
    "import Env_0 as robotEnv\n",
    "\n",
    "import mujoco \n",
    "from scipy.spatial.transform import Rotation\n",
    "import numpy as np\n",
    "import matplotlib.pyplot as plt\n",
    "from PIL import Image"
   ]
  },
  {
   "cell_type": "code",
   "execution_count": null,
   "metadata": {},
   "outputs": [],
   "source": [
    "env = robotEnv.robotEnv({'ROS_ID':0})\n",
    "_ = env.reset( )"
   ]
  },
  {
   "cell_type": "code",
   "execution_count": null,
   "metadata": {},
   "outputs": [],
   "source": [
    "dataset_folder = \"datasets/test\""
   ]
  },
  {
   "cell_type": "markdown",
   "metadata": {},
   "source": [
    "# Define useful functions"
   ]
  },
  {
   "cell_type": "code",
   "execution_count": null,
   "metadata": {},
   "outputs": [],
   "source": [
    "def compute_camera_matrix(renderer, data,model):\n",
    "  renderer.update_scene(data,camera=\"top_down\")\n",
    "  pos = np.mean([camera.pos for camera in renderer.scene.camera], axis=0)\n",
    "  z = -np.mean([camera.forward for camera in renderer.scene.camera], axis=0)\n",
    "  y = np.mean([camera.up for camera in renderer.scene.camera], axis=0)\n",
    "  rot = np.vstack((np.cross(y, z), y, z))\n",
    "  fov = model.cam('top_down').fovy[0]\n",
    "\n",
    "  # Translation matrix (4x4).\n",
    "  translation = np.eye(4)\n",
    "  translation[0:3, 3] = -pos\n",
    "\n",
    "  # Rotation matrix (4x4).\n",
    "  rotation = np.eye(4)\n",
    "  rotation[0:3, 0:3] = rot\n",
    "\n",
    "  # Focal transformation matrix (3x4).\n",
    "  focal_scaling = (1./np.tan(np.deg2rad(fov)/2)) * renderer.height / 2.0\n",
    "  focal = np.diag([-focal_scaling, focal_scaling, 1.0, 0])[0:3, :]\n",
    "\n",
    "  # Image matrix (3x3).\n",
    "  image = np.eye(3)\n",
    "  image[0, 2] = (renderer.width - 1) / 2.0\n",
    "  image[1, 2] = (renderer.height - 1) / 2.0\n",
    "  return image @ focal @ rotation @ translation"
   ]
  },
  {
   "cell_type": "code",
   "execution_count": null,
   "metadata": {},
   "outputs": [],
   "source": [
    "def word2pixel(xyz_global,cam_matrix):\n",
    "    # Camera matrices multiply homogenous [x, y, z, 1] vectors.\n",
    "    corners_homogeneous = np.ones((4, xyz_global.shape[1]), dtype=float)\n",
    "    corners_homogeneous[:3, :] = xyz_global\n",
    "    \n",
    "    # Get the camera matrix.\n",
    "    xs, ys, s = cam_matrix @ corners_homogeneous\n",
    "    \n",
    "    # x and y are in the pixel coordinate system.\n",
    "    x = xs / s\n",
    "    y = ys / s\n",
    "    return x,y"
   ]
  },
  {
   "cell_type": "code",
   "execution_count": null,
   "metadata": {},
   "outputs": [],
   "source": [
    "def normalizeAngle(angle):\n",
    "    if(angle>np.pi):angle -=np.pi\n",
    "    elif(angle<0):angle += np.pi\n",
    "    return angle"
   ]
  },
  {
   "cell_type": "markdown",
   "metadata": {},
   "source": [
    "# Generate the dataset\n"
   ]
  },
  {
   "cell_type": "code",
   "execution_count": null,
   "metadata": {},
   "outputs": [],
   "source": [
    "cam_matrix = compute_camera_matrix(env.simulator.renderer, env.simulator.data,env.simulator.model)"
   ]
  },
  {
   "cell_type": "code",
   "execution_count": null,
   "metadata": {},
   "outputs": [],
   "source": [
    "# Create dataset label file\n",
    "f = open(f\"{dataset_folder}/labels.csv\", \"a+\")\n",
    "f.write(\"img,x1,y1,rot1,valrot1,validity1,x2,y2,rot2,valrot2,validity2,x3,y3,rot3,valrot3,validity3\\n\")"
   ]
  },
  {
   "cell_type": "code",
   "execution_count": null,
   "metadata": {},
   "outputs": [],
   "source": [
    "for j in range(8000):\n",
    "    \n",
    "    if(j%100==0): print(j)\n",
    "\n",
    "    env.reset()\n",
    "    obs = env.simulator.get_state()\n",
    "    initialObjPos=[]\n",
    "    \n",
    "    for index in range(env.simulator.constants[\"NUMBER_OF_OBJECTS\"]):\n",
    "        # get the position of the obj from the site in the right position (+1 due to the target site)\n",
    "        initialObjPos.extend(env.simulator.data.site(1+index).xpos.copy())\n",
    "        #get the rotation of the obj\n",
    "        initialObjPos.extend(env.simulator.data.qpos[0+7*index+3:7*(index+1)].copy()) \n",
    "    \n",
    "    f.write(f\"img{j}.png\")\n",
    "    \n",
    "    for index in range(env.simulator.constants[\"NUMBER_OF_OBJECTS\"]):\n",
    "\n",
    "        obj_position= initialObjPos[0+7*index:3+7*index]\n",
    "        rot = Rotation.from_quat(initialObjPos[3+7*index:7+7*index]).as_euler('xyz')\n",
    "        \n",
    "        #trasform the position of the object in pixel coordinates\n",
    "        pixelCoord = word2pixel(np.array([obj_position[0],obj_position[1],0.20921954]).reshape(3,1),cam_matrix)\n",
    "\n",
    "        #write the label in the file\n",
    "        f.write(f\",{float(pixelCoord[0])},{float(pixelCoord[1])},{rot[0]},{rot[2]},{(rot[2]<0.7 and rot[2]>0)}\")\n",
    "    \n",
    "    f.write(\"\\n\")\n",
    "    Image.fromarray(obs).save(f\"{dataset_folder}/img{j}.png\")\n",
    "    \n",
    "f.close()\n"
   ]
  }
 ],
 "metadata": {
  "kernelspec": {
   "display_name": "Python 3",
   "language": "python",
   "name": "python3"
  },
  "language_info": {
   "codemirror_mode": {
    "name": "ipython",
    "version": 3
   },
   "file_extension": ".py",
   "mimetype": "text/x-python",
   "name": "python",
   "nbconvert_exporter": "python",
   "pygments_lexer": "ipython3",
   "version": "3.10.12"
  },
  "orig_nbformat": 4
 },
 "nbformat": 4,
 "nbformat_minor": 2
}
