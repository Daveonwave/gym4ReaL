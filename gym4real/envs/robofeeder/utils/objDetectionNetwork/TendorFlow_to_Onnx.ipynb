{
 "cells": [
  {
   "cell_type": "markdown",
   "metadata": {},
   "source": [
    "# Convert The Model from TendorFlow to Onnx"
   ]
  },
  {
   "cell_type": "code",
   "execution_count": null,
   "metadata": {},
   "outputs": [],
   "source": [
    "#https://onnxruntime.ai/docs/tutorials/tf-get-started.html"
   ]
  },
  {
   "cell_type": "code",
   "execution_count": null,
   "metadata": {},
   "outputs": [],
   "source": [
    "# Convert the model from tensorflow to onnx, --opset 13 is the best compatible version\n",
    "!python -m tf2onnx.convert --saved-model saved_model --output objDetection.onnx --opset 13"
   ]
  },
  {
   "cell_type": "markdown",
   "metadata": {},
   "source": [
    "0- 'detection_anchor_indices', \n",
    "\n",
    "1- 'detection_boxes', \n",
    "\n",
    "2- 'detection_classes',\n",
    "\n",
    "3- 'detection_multiclass_scores', \n",
    "\n",
    "4- 'detection_scores', \n",
    "\n",
    "5- 'num_detections',  \n",
    "\n",
    "6- 'raw_detection_boxes', \n",
    "\n",
    "7- 'raw_detection_scores'"
   ]
  },
  {
   "cell_type": "markdown",
   "metadata": {},
   "source": [
    "# Check the model"
   ]
  },
  {
   "cell_type": "code",
   "execution_count": null,
   "metadata": {},
   "outputs": [],
   "source": [
    "# https://stackoverflow.com/questions/75267445/why-does-onnxruntime-fail-to-create-cudaexecutionprovider-in-linuxubuntu-20/75267493#75267493\n",
    "# https://github.com/microsoft/onnxruntime/issues/13264\n",
    "import torch # This import is needed to run onnx on GPU \n",
    "from torch.utils.data import Dataset, DataLoader\n",
    "import onnxruntime as rt\n",
    "import onnx\n",
    "import numpy as np\n",
    "from PIL import Image\n",
    "import os\n",
    "import matplotlib.pyplot as plt\n",
    "import cv2\n",
    "import time\n",
    "\n",
    "IMAGE_DIM = 300\n",
    "CROPDIM = 50"
   ]
  },
  {
   "cell_type": "code",
   "execution_count": null,
   "metadata": {},
   "outputs": [],
   "source": [
    "providers = ['CPUExecutionProvider'] #,'CUDAExecutionProvider'\n",
    "model_name = 'objDetection.onnx'"
   ]
  },
  {
   "cell_type": "code",
   "execution_count": null,
   "metadata": {},
   "outputs": [],
   "source": [
    "onnx_model = onnx.load(model_name)\n",
    "onnx.checker.check_model(onnx_model)"
   ]
  },
  {
   "cell_type": "code",
   "execution_count": null,
   "metadata": {},
   "outputs": [],
   "source": [
    "class GrayscaleImageDataset(Dataset):\n",
    "    def __init__(self, folder_path):\n",
    "        self.folder_path = folder_path\n",
    "        self.image_files = os.listdir(folder_path)\n",
    "\n",
    "    def __len__(self):\n",
    "        return len(self.image_files)\n",
    "\n",
    "    def __getitem__(self, index):\n",
    "        image_path = os.path.join(self.folder_path, self.image_files[index])\n",
    "        return np.array(Image.open(image_path), dtype=np.uint8).reshape((1,300,300, 3))"
   ]
  },
  {
   "cell_type": "code",
   "execution_count": null,
   "metadata": {},
   "outputs": [],
   "source": [
    "folder_path = '../datasets/dataset1'\n",
    "dataset = GrayscaleImageDataset(folder_path)\n",
    "dataloader = DataLoader(dataset, batch_size=1, shuffle=True,)"
   ]
  },
  {
   "cell_type": "code",
   "execution_count": null,
   "metadata": {},
   "outputs": [],
   "source": [
    "ort_sess = rt.InferenceSession(model_name,providers=providers)"
   ]
  },
  {
   "cell_type": "code",
   "execution_count": null,
   "metadata": {},
   "outputs": [],
   "source": [
    "# optioan load a custom image\n",
    "image_path=\"../datasets/dataset_random/img0.png\"\n",
    "input1 = np.array(Image.open(image_path)).reshape((1,300,300, 3))\n",
    "plt.imshow(input1[0])\n"
   ]
  },
  {
   "cell_type": "code",
   "execution_count": null,
   "metadata": {},
   "outputs": [],
   "source": [
    "# random number between 1 and dataset lenn\n",
    "\n",
    "extraction = np.random.randint(0,dataset.__len__())\n",
    "input1 = dataset.__getitem__(extraction)\n",
    "results_ort = ort_sess.run(None, {\"input_tensor\": input1})\n",
    "image = input1[0].copy()\n",
    "crop = []\n",
    "\n",
    "\n",
    "\n",
    "for index,vertex in enumerate(results_ort[1][0]): # i = [xmin, ymin, xmax, ymax]\n",
    "    \n",
    "    if(results_ort[4][0][index])<0.4: break; # skip if the confidence is too low\n",
    "    vertex=vertex*IMAGE_DIM\n",
    "    x_min,y_min,x_max,y_max = int(vertex[1]),int(vertex[0]),int(vertex[3]),int(vertex[2])\n",
    "    \n",
    "    start_point,end_point = (x_min,y_min),(x_max,y_max) # x,y\n",
    "\n",
    "    center=(round((vertex[1]+vertex[3])/2),round((vertex[0]+vertex[2])/2))\n",
    "\n",
    "    deltax = round(-((x_max-x_min)-CROPDIM)/2)\n",
    "    deltay = round(-((y_max-y_min)-CROPDIM)/2)\n",
    "    \n",
    "    #check if the crop is out of the image\n",
    "    errorx = 0\n",
    "    errory = 0\n",
    "\n",
    "    if (x_min - deltax <0 or x_max + deltax > IMAGE_DIM):  errorx = x_min - deltax if (x_min - deltax<0) else x_max + deltax-IMAGE_DIM\n",
    "    if (y_min - deltay <0 or y_max + deltay > IMAGE_DIM):  errory = y_min - deltay if (y_min- deltay) else y_max + deltay -IMAGE_DIM\n",
    "\n",
    "    \n",
    "    new_start_point,new_end_point = (x_min-deltax -errorx,y_min-deltay-errory),(x_max+deltax- errorx,y_max+deltay-errory)\n",
    "    \n",
    "    image = cv2.rectangle(image, start_point, end_point, thickness=2, color=(0, 0, 255)) #old rect\n",
    "    image = cv2.rectangle(image,new_start_point,new_end_point,thickness=1,color=(0,255,0)) #new rect\n",
    "    image = cv2.circle(image, center, radius=1, color=(0, 0, 255), thickness=-1)\n",
    "    crop.append(image[int(vertex[0])-deltay:int(vertex[2])+deltay, int(vertex[1])-deltax:int(vertex[3])+deltax]) #y,x\n",
    "\n",
    "plt.imshow(image)"
   ]
  },
  {
   "cell_type": "code",
   "execution_count": null,
   "metadata": {},
   "outputs": [],
   "source": [
    "for img in crop:\n",
    "    resized = cv2.resize(img, (CROPDIM, CROPDIM), interpolation = cv2.INTER_AREA) \n",
    "    plt.imshow(resized)\n",
    "    plt.show()"
   ]
  }
 ],
 "metadata": {
  "kernelspec": {
   "display_name": "Python 3",
   "language": "python",
   "name": "python3"
  },
  "language_info": {
   "codemirror_mode": {
    "name": "ipython",
    "version": 3
   },
   "file_extension": ".py",
   "mimetype": "text/x-python",
   "name": "python",
   "nbconvert_exporter": "python",
   "pygments_lexer": "ipython3",
   "version": "3.10.12"
  },
  "orig_nbformat": 4
 },
 "nbformat": 4,
 "nbformat_minor": 2
}
